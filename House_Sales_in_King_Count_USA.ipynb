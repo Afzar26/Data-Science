{
  "metadata": {
    "language_info": {
      "codemirror_mode": {
        "name": "python",
        "version": 3
      },
      "file_extension": ".py",
      "mimetype": "text/x-python",
      "name": "python",
      "nbconvert_exporter": "python",
      "pygments_lexer": "ipython3",
      "version": "3.8"
    },
    "kernelspec": {
      "name": "python",
      "display_name": "Python (Pyodide)",
      "language": "python"
    },
    "colab": {
      "provenance": []
    }
  },
  "nbformat_minor": 0,
  "nbformat": 4,
  "cells": [
    {
      "cell_type": "markdown",
      "source": [
        "<p style=\"text-align:center\">\n",
        "    <a href=\"https://skills.network\" target=\"_blank\">\n",
        "    <img src=\"https://cf-courses-data.s3.us.cloud-object-storage.appdomain.cloud/assets/logos/SN_web_lightmode.png\" width=\"200\" alt=\"Skills Network Logo\">\n",
        "    </a>\n",
        "</p>\n"
      ],
      "metadata": {
        "id": "XZCvJTFibnkP"
      }
    },
    {
      "cell_type": "markdown",
      "source": [
        "# House Sales in King County, USA\n"
      ],
      "metadata": {
        "id": "8dX9Vtoybnka"
      }
    },
    {
      "cell_type": "markdown",
      "source": [
        "This dataset contains house sale prices for King County, which includes Seattle. It includes homes sold between May 2014 and May 2015.\n"
      ],
      "metadata": {
        "id": "PZ8n90ftbnkd"
      }
    },
    {
      "cell_type": "markdown",
      "source": [
        "| Variable      | Description                                                                                                 |\n",
        "| ------------- | ----------------------------------------------------------------------------------------------------------- |\n",
        "| id            | A notation for a house                                                                                      |\n",
        "| date          | Date house was sold                                                                                         |\n",
        "| price         | Price is prediction target                                                                                  |\n",
        "| bedrooms      | Number of bedrooms                                                                                          |\n",
        "| bathrooms     | Number of bathrooms                                                                                         |\n",
        "| sqft_living   | Square footage of the home                                                                                  |\n",
        "| sqft_lot      | Square footage of the lot                                                                                   |\n",
        "| floors        | Total floors (levels) in house                                                                              |\n",
        "| waterfront    | House which has a view to a waterfront                                                                      |\n",
        "| view          | Has been viewed                                                                                             |\n",
        "| condition     | How good the condition is overall                                                                           |\n",
        "| grade         | overall grade given to the housing unit, based on King County grading system                                |\n",
        "| sqft_above    | Square footage of house apart from basement                                                                 |\n",
        "| sqft_basement | Square footage of the basement                                                                              |\n",
        "| yr_built      | Built Year                                                                                                  |\n",
        "| yr_renovated  | Year when house was renovated                                                                               |\n",
        "| zipcode       | Zip code                                                                                                    |\n",
        "| lat           | Latitude coordinate                                                                                         |\n",
        "| long          | Longitude coordinate                                                                                        |\n",
        "| sqft_living15 | Living room area in 2015(implies-- some renovations) This might or might not have affected the lotsize area |\n",
        "| sqft_lot15    | LotSize area in 2015(implies-- some renovations)                                                            |\n"
      ],
      "metadata": {
        "id": "20k2uhTsbnkf"
      }
    },
    {
      "cell_type": "markdown",
      "source": [
        "If you run the lab locally using Anaconda, you can load the correct library and versions by uncommenting the following:\n"
      ],
      "metadata": {
        "id": "TcaepTpXbnkg"
      }
    },
    {
      "cell_type": "code",
      "source": [
        "# All Libraries required for this lab are listed below. The libraries pre-installed on Skills Network Labs are commented.\n",
        "!mamba install -qy pandas==1.3.4 numpy==1.21.4 seaborn==0.9.0 matplotlib==3.5.0 scikit-learn==0.20.1\n",
        "# Note: If your environment doesn't support \"!mamba install\", use \"!pip install\""
      ],
      "metadata": {
        "colab": {
          "base_uri": "https://localhost:8080/"
        },
        "id": "oyu0_MA3bnkh",
        "outputId": "39181e5d-df67-4087-a84a-63fc1b21dd19"
      },
      "execution_count": null,
      "outputs": [
        {
          "output_type": "stream",
          "name": "stdout",
          "text": [
            "/bin/bash: line 1: mamba: command not found\n"
          ]
        }
      ]
    },
    {
      "cell_type": "code",
      "source": [
        " # Surpress warnings:\n",
        "def warn(*args, **kwargs):\n",
        "    pass\n",
        "import warnings\n",
        "warnings.warn = warn"
      ],
      "metadata": {
        "trusted": true,
        "id": "2cM6uR_Xbnkk"
      },
      "execution_count": null,
      "outputs": []
    },
    {
      "cell_type": "markdown",
      "source": [
        "You will require the following libraries:\n"
      ],
      "metadata": {
        "id": "7IwR0jsRbnkn"
      }
    },
    {
      "cell_type": "code",
      "source": [
        "# import piplite\n",
        "# await piplite.install(['pandas','matplotlib','scikit-learn','seaborn', 'numpy'])\n"
      ],
      "metadata": {
        "trusted": true,
        "id": "U_QP2B12bnkp"
      },
      "execution_count": null,
      "outputs": []
    },
    {
      "cell_type": "code",
      "source": [
        "import pandas as pd\n",
        "import matplotlib.pyplot as plt\n",
        "import numpy as np\n",
        "import seaborn as sns\n",
        "from sklearn.pipeline import Pipeline\n",
        "from sklearn.preprocessing import StandardScaler,PolynomialFeatures\n",
        "from sklearn.linear_model import LinearRegression\n",
        "%matplotlib inline"
      ],
      "metadata": {
        "id": "20u4aYhbbnkq"
      },
      "execution_count": null,
      "outputs": []
    },
    {
      "cell_type": "markdown",
      "source": [
        "# Module 1: Importing Data Sets\n"
      ],
      "metadata": {
        "id": "XfPuudEobnkr"
      }
    },
    {
      "cell_type": "markdown",
      "source": [
        "The functions below will download the dataset into your browser:\n"
      ],
      "metadata": {
        "id": "5wMYRpYEbnkr"
      }
    },
    {
      "cell_type": "code",
      "source": [
        "# from pyodide.http import pyfetch\n",
        "\n",
        "# async def download(url, filename):\n",
        "#     response = await pyfetch(url)\n",
        "#     if response.status == 200:\n",
        "#         with open(filename, \"wb\") as f:\n",
        "#             f.write(await response.bytes())"
      ],
      "metadata": {
        "id": "owOhRUnLbnks"
      },
      "execution_count": null,
      "outputs": []
    },
    {
      "cell_type": "code",
      "source": [
        "file_name='https://cf-courses-data.s3.us.cloud-object-storage.appdomain.cloud/IBMDeveloperSkillsNetwork-DA0101EN-SkillsNetwork/labs/FinalModule_Coursera/data/kc_house_data_NaN.csv'"
      ],
      "metadata": {
        "id": "1ZoiW_wwbnkt"
      },
      "execution_count": null,
      "outputs": []
    },
    {
      "cell_type": "markdown",
      "source": [
        "You will need to download the dataset; if you are running locally, please comment out the following code:\n"
      ],
      "metadata": {
        "id": "MBAipD7Vbnkt"
      }
    },
    {
      "cell_type": "code",
      "source": [
        "# await download(file_name, \"kc_house_data_NaN.csv\")\n",
        "# file_name=\"kc_house_data_NaN.csv\""
      ],
      "metadata": {
        "id": "3BuAqjLcbnku"
      },
      "execution_count": null,
      "outputs": []
    },
    {
      "cell_type": "markdown",
      "source": [
        "Use the Pandas method <b>read_csv()</b> to load the data from the web address.\n"
      ],
      "metadata": {
        "id": "gUfQZp4Bbnkw"
      }
    },
    {
      "cell_type": "code",
      "source": [
        "df = pd.read_csv(file_name)"
      ],
      "metadata": {
        "id": "HYtEDr_4bnkw"
      },
      "execution_count": null,
      "outputs": []
    },
    {
      "cell_type": "markdown",
      "source": [
        "We use the method <code>head</code> to display the first 5 columns of the dataframe.\n"
      ],
      "metadata": {
        "id": "2nNCUjrTbnkx"
      }
    },
    {
      "cell_type": "code",
      "source": [
        "df.head()"
      ],
      "metadata": {
        "colab": {
          "base_uri": "https://localhost:8080/",
          "height": 273
        },
        "id": "Krpb2sE8bnkx",
        "outputId": "b09feb2d-b4dc-45e6-9404-3262a6067cbd"
      },
      "execution_count": null,
      "outputs": [
        {
          "output_type": "execute_result",
          "data": {
            "text/plain": [
              "   Unnamed: 0          id             date     price  bedrooms  bathrooms  \\\n",
              "0           0  7129300520  20141013T000000  221900.0       3.0       1.00   \n",
              "1           1  6414100192  20141209T000000  538000.0       3.0       2.25   \n",
              "2           2  5631500400  20150225T000000  180000.0       2.0       1.00   \n",
              "3           3  2487200875  20141209T000000  604000.0       4.0       3.00   \n",
              "4           4  1954400510  20150218T000000  510000.0       3.0       2.00   \n",
              "\n",
              "   sqft_living  sqft_lot  floors  waterfront  ...  grade  sqft_above  \\\n",
              "0         1180      5650     1.0           0  ...      7        1180   \n",
              "1         2570      7242     2.0           0  ...      7        2170   \n",
              "2          770     10000     1.0           0  ...      6         770   \n",
              "3         1960      5000     1.0           0  ...      7        1050   \n",
              "4         1680      8080     1.0           0  ...      8        1680   \n",
              "\n",
              "   sqft_basement  yr_built  yr_renovated  zipcode      lat     long  \\\n",
              "0              0      1955             0    98178  47.5112 -122.257   \n",
              "1            400      1951          1991    98125  47.7210 -122.319   \n",
              "2              0      1933             0    98028  47.7379 -122.233   \n",
              "3            910      1965             0    98136  47.5208 -122.393   \n",
              "4              0      1987             0    98074  47.6168 -122.045   \n",
              "\n",
              "   sqft_living15  sqft_lot15  \n",
              "0           1340        5650  \n",
              "1           1690        7639  \n",
              "2           2720        8062  \n",
              "3           1360        5000  \n",
              "4           1800        7503  \n",
              "\n",
              "[5 rows x 22 columns]"
            ],
            "text/html": [
              "\n",
              "  <div id=\"df-2c247438-f912-4c61-8660-c978946bce12\" class=\"colab-df-container\">\n",
              "    <div>\n",
              "<style scoped>\n",
              "    .dataframe tbody tr th:only-of-type {\n",
              "        vertical-align: middle;\n",
              "    }\n",
              "\n",
              "    .dataframe tbody tr th {\n",
              "        vertical-align: top;\n",
              "    }\n",
              "\n",
              "    .dataframe thead th {\n",
              "        text-align: right;\n",
              "    }\n",
              "</style>\n",
              "<table border=\"1\" class=\"dataframe\">\n",
              "  <thead>\n",
              "    <tr style=\"text-align: right;\">\n",
              "      <th></th>\n",
              "      <th>Unnamed: 0</th>\n",
              "      <th>id</th>\n",
              "      <th>date</th>\n",
              "      <th>price</th>\n",
              "      <th>bedrooms</th>\n",
              "      <th>bathrooms</th>\n",
              "      <th>sqft_living</th>\n",
              "      <th>sqft_lot</th>\n",
              "      <th>floors</th>\n",
              "      <th>waterfront</th>\n",
              "      <th>...</th>\n",
              "      <th>grade</th>\n",
              "      <th>sqft_above</th>\n",
              "      <th>sqft_basement</th>\n",
              "      <th>yr_built</th>\n",
              "      <th>yr_renovated</th>\n",
              "      <th>zipcode</th>\n",
              "      <th>lat</th>\n",
              "      <th>long</th>\n",
              "      <th>sqft_living15</th>\n",
              "      <th>sqft_lot15</th>\n",
              "    </tr>\n",
              "  </thead>\n",
              "  <tbody>\n",
              "    <tr>\n",
              "      <th>0</th>\n",
              "      <td>0</td>\n",
              "      <td>7129300520</td>\n",
              "      <td>20141013T000000</td>\n",
              "      <td>221900.0</td>\n",
              "      <td>3.0</td>\n",
              "      <td>1.00</td>\n",
              "      <td>1180</td>\n",
              "      <td>5650</td>\n",
              "      <td>1.0</td>\n",
              "      <td>0</td>\n",
              "      <td>...</td>\n",
              "      <td>7</td>\n",
              "      <td>1180</td>\n",
              "      <td>0</td>\n",
              "      <td>1955</td>\n",
              "      <td>0</td>\n",
              "      <td>98178</td>\n",
              "      <td>47.5112</td>\n",
              "      <td>-122.257</td>\n",
              "      <td>1340</td>\n",
              "      <td>5650</td>\n",
              "    </tr>\n",
              "    <tr>\n",
              "      <th>1</th>\n",
              "      <td>1</td>\n",
              "      <td>6414100192</td>\n",
              "      <td>20141209T000000</td>\n",
              "      <td>538000.0</td>\n",
              "      <td>3.0</td>\n",
              "      <td>2.25</td>\n",
              "      <td>2570</td>\n",
              "      <td>7242</td>\n",
              "      <td>2.0</td>\n",
              "      <td>0</td>\n",
              "      <td>...</td>\n",
              "      <td>7</td>\n",
              "      <td>2170</td>\n",
              "      <td>400</td>\n",
              "      <td>1951</td>\n",
              "      <td>1991</td>\n",
              "      <td>98125</td>\n",
              "      <td>47.7210</td>\n",
              "      <td>-122.319</td>\n",
              "      <td>1690</td>\n",
              "      <td>7639</td>\n",
              "    </tr>\n",
              "    <tr>\n",
              "      <th>2</th>\n",
              "      <td>2</td>\n",
              "      <td>5631500400</td>\n",
              "      <td>20150225T000000</td>\n",
              "      <td>180000.0</td>\n",
              "      <td>2.0</td>\n",
              "      <td>1.00</td>\n",
              "      <td>770</td>\n",
              "      <td>10000</td>\n",
              "      <td>1.0</td>\n",
              "      <td>0</td>\n",
              "      <td>...</td>\n",
              "      <td>6</td>\n",
              "      <td>770</td>\n",
              "      <td>0</td>\n",
              "      <td>1933</td>\n",
              "      <td>0</td>\n",
              "      <td>98028</td>\n",
              "      <td>47.7379</td>\n",
              "      <td>-122.233</td>\n",
              "      <td>2720</td>\n",
              "      <td>8062</td>\n",
              "    </tr>\n",
              "    <tr>\n",
              "      <th>3</th>\n",
              "      <td>3</td>\n",
              "      <td>2487200875</td>\n",
              "      <td>20141209T000000</td>\n",
              "      <td>604000.0</td>\n",
              "      <td>4.0</td>\n",
              "      <td>3.00</td>\n",
              "      <td>1960</td>\n",
              "      <td>5000</td>\n",
              "      <td>1.0</td>\n",
              "      <td>0</td>\n",
              "      <td>...</td>\n",
              "      <td>7</td>\n",
              "      <td>1050</td>\n",
              "      <td>910</td>\n",
              "      <td>1965</td>\n",
              "      <td>0</td>\n",
              "      <td>98136</td>\n",
              "      <td>47.5208</td>\n",
              "      <td>-122.393</td>\n",
              "      <td>1360</td>\n",
              "      <td>5000</td>\n",
              "    </tr>\n",
              "    <tr>\n",
              "      <th>4</th>\n",
              "      <td>4</td>\n",
              "      <td>1954400510</td>\n",
              "      <td>20150218T000000</td>\n",
              "      <td>510000.0</td>\n",
              "      <td>3.0</td>\n",
              "      <td>2.00</td>\n",
              "      <td>1680</td>\n",
              "      <td>8080</td>\n",
              "      <td>1.0</td>\n",
              "      <td>0</td>\n",
              "      <td>...</td>\n",
              "      <td>8</td>\n",
              "      <td>1680</td>\n",
              "      <td>0</td>\n",
              "      <td>1987</td>\n",
              "      <td>0</td>\n",
              "      <td>98074</td>\n",
              "      <td>47.6168</td>\n",
              "      <td>-122.045</td>\n",
              "      <td>1800</td>\n",
              "      <td>7503</td>\n",
              "    </tr>\n",
              "  </tbody>\n",
              "</table>\n",
              "<p>5 rows × 22 columns</p>\n",
              "</div>\n",
              "    <div class=\"colab-df-buttons\">\n",
              "\n",
              "  <div class=\"colab-df-container\">\n",
              "    <button class=\"colab-df-convert\" onclick=\"convertToInteractive('df-2c247438-f912-4c61-8660-c978946bce12')\"\n",
              "            title=\"Convert this dataframe to an interactive table.\"\n",
              "            style=\"display:none;\">\n",
              "\n",
              "  <svg xmlns=\"http://www.w3.org/2000/svg\" height=\"24px\" viewBox=\"0 -960 960 960\">\n",
              "    <path d=\"M120-120v-720h720v720H120Zm60-500h600v-160H180v160Zm220 220h160v-160H400v160Zm0 220h160v-160H400v160ZM180-400h160v-160H180v160Zm440 0h160v-160H620v160ZM180-180h160v-160H180v160Zm440 0h160v-160H620v160Z\"/>\n",
              "  </svg>\n",
              "    </button>\n",
              "\n",
              "  <style>\n",
              "    .colab-df-container {\n",
              "      display:flex;\n",
              "      gap: 12px;\n",
              "    }\n",
              "\n",
              "    .colab-df-convert {\n",
              "      background-color: #E8F0FE;\n",
              "      border: none;\n",
              "      border-radius: 50%;\n",
              "      cursor: pointer;\n",
              "      display: none;\n",
              "      fill: #1967D2;\n",
              "      height: 32px;\n",
              "      padding: 0 0 0 0;\n",
              "      width: 32px;\n",
              "    }\n",
              "\n",
              "    .colab-df-convert:hover {\n",
              "      background-color: #E2EBFA;\n",
              "      box-shadow: 0px 1px 2px rgba(60, 64, 67, 0.3), 0px 1px 3px 1px rgba(60, 64, 67, 0.15);\n",
              "      fill: #174EA6;\n",
              "    }\n",
              "\n",
              "    .colab-df-buttons div {\n",
              "      margin-bottom: 4px;\n",
              "    }\n",
              "\n",
              "    [theme=dark] .colab-df-convert {\n",
              "      background-color: #3B4455;\n",
              "      fill: #D2E3FC;\n",
              "    }\n",
              "\n",
              "    [theme=dark] .colab-df-convert:hover {\n",
              "      background-color: #434B5C;\n",
              "      box-shadow: 0px 1px 3px 1px rgba(0, 0, 0, 0.15);\n",
              "      filter: drop-shadow(0px 1px 2px rgba(0, 0, 0, 0.3));\n",
              "      fill: #FFFFFF;\n",
              "    }\n",
              "  </style>\n",
              "\n",
              "    <script>\n",
              "      const buttonEl =\n",
              "        document.querySelector('#df-2c247438-f912-4c61-8660-c978946bce12 button.colab-df-convert');\n",
              "      buttonEl.style.display =\n",
              "        google.colab.kernel.accessAllowed ? 'block' : 'none';\n",
              "\n",
              "      async function convertToInteractive(key) {\n",
              "        const element = document.querySelector('#df-2c247438-f912-4c61-8660-c978946bce12');\n",
              "        const dataTable =\n",
              "          await google.colab.kernel.invokeFunction('convertToInteractive',\n",
              "                                                    [key], {});\n",
              "        if (!dataTable) return;\n",
              "\n",
              "        const docLinkHtml = 'Like what you see? Visit the ' +\n",
              "          '<a target=\"_blank\" href=https://colab.research.google.com/notebooks/data_table.ipynb>data table notebook</a>'\n",
              "          + ' to learn more about interactive tables.';\n",
              "        element.innerHTML = '';\n",
              "        dataTable['output_type'] = 'display_data';\n",
              "        await google.colab.output.renderOutput(dataTable, element);\n",
              "        const docLink = document.createElement('div');\n",
              "        docLink.innerHTML = docLinkHtml;\n",
              "        element.appendChild(docLink);\n",
              "      }\n",
              "    </script>\n",
              "  </div>\n",
              "\n",
              "\n",
              "<div id=\"df-185b07df-7aaa-4e5d-aa4a-6499237bea91\">\n",
              "  <button class=\"colab-df-quickchart\" onclick=\"quickchart('df-185b07df-7aaa-4e5d-aa4a-6499237bea91')\"\n",
              "            title=\"Suggest charts.\"\n",
              "            style=\"display:none;\">\n",
              "\n",
              "<svg xmlns=\"http://www.w3.org/2000/svg\" height=\"24px\"viewBox=\"0 0 24 24\"\n",
              "     width=\"24px\">\n",
              "    <g>\n",
              "        <path d=\"M19 3H5c-1.1 0-2 .9-2 2v14c0 1.1.9 2 2 2h14c1.1 0 2-.9 2-2V5c0-1.1-.9-2-2-2zM9 17H7v-7h2v7zm4 0h-2V7h2v10zm4 0h-2v-4h2v4z\"/>\n",
              "    </g>\n",
              "</svg>\n",
              "  </button>\n",
              "\n",
              "<style>\n",
              "  .colab-df-quickchart {\n",
              "      --bg-color: #E8F0FE;\n",
              "      --fill-color: #1967D2;\n",
              "      --hover-bg-color: #E2EBFA;\n",
              "      --hover-fill-color: #174EA6;\n",
              "      --disabled-fill-color: #AAA;\n",
              "      --disabled-bg-color: #DDD;\n",
              "  }\n",
              "\n",
              "  [theme=dark] .colab-df-quickchart {\n",
              "      --bg-color: #3B4455;\n",
              "      --fill-color: #D2E3FC;\n",
              "      --hover-bg-color: #434B5C;\n",
              "      --hover-fill-color: #FFFFFF;\n",
              "      --disabled-bg-color: #3B4455;\n",
              "      --disabled-fill-color: #666;\n",
              "  }\n",
              "\n",
              "  .colab-df-quickchart {\n",
              "    background-color: var(--bg-color);\n",
              "    border: none;\n",
              "    border-radius: 50%;\n",
              "    cursor: pointer;\n",
              "    display: none;\n",
              "    fill: var(--fill-color);\n",
              "    height: 32px;\n",
              "    padding: 0;\n",
              "    width: 32px;\n",
              "  }\n",
              "\n",
              "  .colab-df-quickchart:hover {\n",
              "    background-color: var(--hover-bg-color);\n",
              "    box-shadow: 0 1px 2px rgba(60, 64, 67, 0.3), 0 1px 3px 1px rgba(60, 64, 67, 0.15);\n",
              "    fill: var(--button-hover-fill-color);\n",
              "  }\n",
              "\n",
              "  .colab-df-quickchart-complete:disabled,\n",
              "  .colab-df-quickchart-complete:disabled:hover {\n",
              "    background-color: var(--disabled-bg-color);\n",
              "    fill: var(--disabled-fill-color);\n",
              "    box-shadow: none;\n",
              "  }\n",
              "\n",
              "  .colab-df-spinner {\n",
              "    border: 2px solid var(--fill-color);\n",
              "    border-color: transparent;\n",
              "    border-bottom-color: var(--fill-color);\n",
              "    animation:\n",
              "      spin 1s steps(1) infinite;\n",
              "  }\n",
              "\n",
              "  @keyframes spin {\n",
              "    0% {\n",
              "      border-color: transparent;\n",
              "      border-bottom-color: var(--fill-color);\n",
              "      border-left-color: var(--fill-color);\n",
              "    }\n",
              "    20% {\n",
              "      border-color: transparent;\n",
              "      border-left-color: var(--fill-color);\n",
              "      border-top-color: var(--fill-color);\n",
              "    }\n",
              "    30% {\n",
              "      border-color: transparent;\n",
              "      border-left-color: var(--fill-color);\n",
              "      border-top-color: var(--fill-color);\n",
              "      border-right-color: var(--fill-color);\n",
              "    }\n",
              "    40% {\n",
              "      border-color: transparent;\n",
              "      border-right-color: var(--fill-color);\n",
              "      border-top-color: var(--fill-color);\n",
              "    }\n",
              "    60% {\n",
              "      border-color: transparent;\n",
              "      border-right-color: var(--fill-color);\n",
              "    }\n",
              "    80% {\n",
              "      border-color: transparent;\n",
              "      border-right-color: var(--fill-color);\n",
              "      border-bottom-color: var(--fill-color);\n",
              "    }\n",
              "    90% {\n",
              "      border-color: transparent;\n",
              "      border-bottom-color: var(--fill-color);\n",
              "    }\n",
              "  }\n",
              "</style>\n",
              "\n",
              "  <script>\n",
              "    async function quickchart(key) {\n",
              "      const quickchartButtonEl =\n",
              "        document.querySelector('#' + key + ' button');\n",
              "      quickchartButtonEl.disabled = true;  // To prevent multiple clicks.\n",
              "      quickchartButtonEl.classList.add('colab-df-spinner');\n",
              "      try {\n",
              "        const charts = await google.colab.kernel.invokeFunction(\n",
              "            'suggestCharts', [key], {});\n",
              "      } catch (error) {\n",
              "        console.error('Error during call to suggestCharts:', error);\n",
              "      }\n",
              "      quickchartButtonEl.classList.remove('colab-df-spinner');\n",
              "      quickchartButtonEl.classList.add('colab-df-quickchart-complete');\n",
              "    }\n",
              "    (() => {\n",
              "      let quickchartButtonEl =\n",
              "        document.querySelector('#df-185b07df-7aaa-4e5d-aa4a-6499237bea91 button');\n",
              "      quickchartButtonEl.style.display =\n",
              "        google.colab.kernel.accessAllowed ? 'block' : 'none';\n",
              "    })();\n",
              "  </script>\n",
              "</div>\n",
              "    </div>\n",
              "  </div>\n"
            ]
          },
          "metadata": {},
          "execution_count": 12
        }
      ]
    },
    {
      "cell_type": "markdown",
      "source": [
        "### Question 1\n",
        "\n",
        "Display the data types of each column using the function dtypes, then take a screenshot and submit it, include your code in the image.\n"
      ],
      "metadata": {
        "id": "5dtBL28Mbnky"
      }
    },
    {
      "cell_type": "code",
      "source": [
        "df.dtypes"
      ],
      "metadata": {
        "colab": {
          "base_uri": "https://localhost:8080/"
        },
        "id": "uXG7yeKNbnky",
        "outputId": "294dadb4-a463-4221-8442-496277c9b662"
      },
      "execution_count": null,
      "outputs": [
        {
          "output_type": "execute_result",
          "data": {
            "text/plain": [
              "Unnamed: 0         int64\n",
              "id                 int64\n",
              "date              object\n",
              "price            float64\n",
              "bedrooms         float64\n",
              "bathrooms        float64\n",
              "sqft_living        int64\n",
              "sqft_lot           int64\n",
              "floors           float64\n",
              "waterfront         int64\n",
              "view               int64\n",
              "condition          int64\n",
              "grade              int64\n",
              "sqft_above         int64\n",
              "sqft_basement      int64\n",
              "yr_built           int64\n",
              "yr_renovated       int64\n",
              "zipcode            int64\n",
              "lat              float64\n",
              "long             float64\n",
              "sqft_living15      int64\n",
              "sqft_lot15         int64\n",
              "dtype: object"
            ]
          },
          "metadata": {},
          "execution_count": 13
        }
      ]
    },
    {
      "cell_type": "markdown",
      "source": [
        "We use the method describe to obtain a statistical summary of the dataframe.\n"
      ],
      "metadata": {
        "id": "nACmUHS6bnkz"
      }
    },
    {
      "cell_type": "code",
      "source": [
        "df.describe()"
      ],
      "metadata": {
        "colab": {
          "base_uri": "https://localhost:8080/",
          "height": 349
        },
        "id": "QpJ558R6bnkz",
        "outputId": "c3f3332d-3458-4199-af97-b4c803f32001"
      },
      "execution_count": null,
      "outputs": [
        {
          "output_type": "execute_result",
          "data": {
            "text/plain": [
              "        Unnamed: 0            id         price      bedrooms     bathrooms  \\\n",
              "count  21613.00000  2.161300e+04  2.161300e+04  21600.000000  21603.000000   \n",
              "mean   10806.00000  4.580302e+09  5.400881e+05      3.372870      2.115736   \n",
              "std     6239.28002  2.876566e+09  3.671272e+05      0.926657      0.768996   \n",
              "min        0.00000  1.000102e+06  7.500000e+04      1.000000      0.500000   \n",
              "25%     5403.00000  2.123049e+09  3.219500e+05      3.000000      1.750000   \n",
              "50%    10806.00000  3.904930e+09  4.500000e+05      3.000000      2.250000   \n",
              "75%    16209.00000  7.308900e+09  6.450000e+05      4.000000      2.500000   \n",
              "max    21612.00000  9.900000e+09  7.700000e+06     33.000000      8.000000   \n",
              "\n",
              "        sqft_living      sqft_lot        floors    waterfront          view  \\\n",
              "count  21613.000000  2.161300e+04  21613.000000  21613.000000  21613.000000   \n",
              "mean    2079.899736  1.510697e+04      1.494309      0.007542      0.234303   \n",
              "std      918.440897  4.142051e+04      0.539989      0.086517      0.766318   \n",
              "min      290.000000  5.200000e+02      1.000000      0.000000      0.000000   \n",
              "25%     1427.000000  5.040000e+03      1.000000      0.000000      0.000000   \n",
              "50%     1910.000000  7.618000e+03      1.500000      0.000000      0.000000   \n",
              "75%     2550.000000  1.068800e+04      2.000000      0.000000      0.000000   \n",
              "max    13540.000000  1.651359e+06      3.500000      1.000000      4.000000   \n",
              "\n",
              "       ...         grade    sqft_above  sqft_basement      yr_built  \\\n",
              "count  ...  21613.000000  21613.000000   21613.000000  21613.000000   \n",
              "mean   ...      7.656873   1788.390691     291.509045   1971.005136   \n",
              "std    ...      1.175459    828.090978     442.575043     29.373411   \n",
              "min    ...      1.000000    290.000000       0.000000   1900.000000   \n",
              "25%    ...      7.000000   1190.000000       0.000000   1951.000000   \n",
              "50%    ...      7.000000   1560.000000       0.000000   1975.000000   \n",
              "75%    ...      8.000000   2210.000000     560.000000   1997.000000   \n",
              "max    ...     13.000000   9410.000000    4820.000000   2015.000000   \n",
              "\n",
              "       yr_renovated       zipcode           lat          long  sqft_living15  \\\n",
              "count  21613.000000  21613.000000  21613.000000  21613.000000   21613.000000   \n",
              "mean      84.402258  98077.939805     47.560053   -122.213896    1986.552492   \n",
              "std      401.679240     53.505026      0.138564      0.140828     685.391304   \n",
              "min        0.000000  98001.000000     47.155900   -122.519000     399.000000   \n",
              "25%        0.000000  98033.000000     47.471000   -122.328000    1490.000000   \n",
              "50%        0.000000  98065.000000     47.571800   -122.230000    1840.000000   \n",
              "75%        0.000000  98118.000000     47.678000   -122.125000    2360.000000   \n",
              "max     2015.000000  98199.000000     47.777600   -121.315000    6210.000000   \n",
              "\n",
              "          sqft_lot15  \n",
              "count   21613.000000  \n",
              "mean    12768.455652  \n",
              "std     27304.179631  \n",
              "min       651.000000  \n",
              "25%      5100.000000  \n",
              "50%      7620.000000  \n",
              "75%     10083.000000  \n",
              "max    871200.000000  \n",
              "\n",
              "[8 rows x 21 columns]"
            ],
            "text/html": [
              "\n",
              "  <div id=\"df-62effc62-01b5-4a64-95c2-6822bbad6f9b\" class=\"colab-df-container\">\n",
              "    <div>\n",
              "<style scoped>\n",
              "    .dataframe tbody tr th:only-of-type {\n",
              "        vertical-align: middle;\n",
              "    }\n",
              "\n",
              "    .dataframe tbody tr th {\n",
              "        vertical-align: top;\n",
              "    }\n",
              "\n",
              "    .dataframe thead th {\n",
              "        text-align: right;\n",
              "    }\n",
              "</style>\n",
              "<table border=\"1\" class=\"dataframe\">\n",
              "  <thead>\n",
              "    <tr style=\"text-align: right;\">\n",
              "      <th></th>\n",
              "      <th>Unnamed: 0</th>\n",
              "      <th>id</th>\n",
              "      <th>price</th>\n",
              "      <th>bedrooms</th>\n",
              "      <th>bathrooms</th>\n",
              "      <th>sqft_living</th>\n",
              "      <th>sqft_lot</th>\n",
              "      <th>floors</th>\n",
              "      <th>waterfront</th>\n",
              "      <th>view</th>\n",
              "      <th>...</th>\n",
              "      <th>grade</th>\n",
              "      <th>sqft_above</th>\n",
              "      <th>sqft_basement</th>\n",
              "      <th>yr_built</th>\n",
              "      <th>yr_renovated</th>\n",
              "      <th>zipcode</th>\n",
              "      <th>lat</th>\n",
              "      <th>long</th>\n",
              "      <th>sqft_living15</th>\n",
              "      <th>sqft_lot15</th>\n",
              "    </tr>\n",
              "  </thead>\n",
              "  <tbody>\n",
              "    <tr>\n",
              "      <th>count</th>\n",
              "      <td>21613.00000</td>\n",
              "      <td>2.161300e+04</td>\n",
              "      <td>2.161300e+04</td>\n",
              "      <td>21600.000000</td>\n",
              "      <td>21603.000000</td>\n",
              "      <td>21613.000000</td>\n",
              "      <td>2.161300e+04</td>\n",
              "      <td>21613.000000</td>\n",
              "      <td>21613.000000</td>\n",
              "      <td>21613.000000</td>\n",
              "      <td>...</td>\n",
              "      <td>21613.000000</td>\n",
              "      <td>21613.000000</td>\n",
              "      <td>21613.000000</td>\n",
              "      <td>21613.000000</td>\n",
              "      <td>21613.000000</td>\n",
              "      <td>21613.000000</td>\n",
              "      <td>21613.000000</td>\n",
              "      <td>21613.000000</td>\n",
              "      <td>21613.000000</td>\n",
              "      <td>21613.000000</td>\n",
              "    </tr>\n",
              "    <tr>\n",
              "      <th>mean</th>\n",
              "      <td>10806.00000</td>\n",
              "      <td>4.580302e+09</td>\n",
              "      <td>5.400881e+05</td>\n",
              "      <td>3.372870</td>\n",
              "      <td>2.115736</td>\n",
              "      <td>2079.899736</td>\n",
              "      <td>1.510697e+04</td>\n",
              "      <td>1.494309</td>\n",
              "      <td>0.007542</td>\n",
              "      <td>0.234303</td>\n",
              "      <td>...</td>\n",
              "      <td>7.656873</td>\n",
              "      <td>1788.390691</td>\n",
              "      <td>291.509045</td>\n",
              "      <td>1971.005136</td>\n",
              "      <td>84.402258</td>\n",
              "      <td>98077.939805</td>\n",
              "      <td>47.560053</td>\n",
              "      <td>-122.213896</td>\n",
              "      <td>1986.552492</td>\n",
              "      <td>12768.455652</td>\n",
              "    </tr>\n",
              "    <tr>\n",
              "      <th>std</th>\n",
              "      <td>6239.28002</td>\n",
              "      <td>2.876566e+09</td>\n",
              "      <td>3.671272e+05</td>\n",
              "      <td>0.926657</td>\n",
              "      <td>0.768996</td>\n",
              "      <td>918.440897</td>\n",
              "      <td>4.142051e+04</td>\n",
              "      <td>0.539989</td>\n",
              "      <td>0.086517</td>\n",
              "      <td>0.766318</td>\n",
              "      <td>...</td>\n",
              "      <td>1.175459</td>\n",
              "      <td>828.090978</td>\n",
              "      <td>442.575043</td>\n",
              "      <td>29.373411</td>\n",
              "      <td>401.679240</td>\n",
              "      <td>53.505026</td>\n",
              "      <td>0.138564</td>\n",
              "      <td>0.140828</td>\n",
              "      <td>685.391304</td>\n",
              "      <td>27304.179631</td>\n",
              "    </tr>\n",
              "    <tr>\n",
              "      <th>min</th>\n",
              "      <td>0.00000</td>\n",
              "      <td>1.000102e+06</td>\n",
              "      <td>7.500000e+04</td>\n",
              "      <td>1.000000</td>\n",
              "      <td>0.500000</td>\n",
              "      <td>290.000000</td>\n",
              "      <td>5.200000e+02</td>\n",
              "      <td>1.000000</td>\n",
              "      <td>0.000000</td>\n",
              "      <td>0.000000</td>\n",
              "      <td>...</td>\n",
              "      <td>1.000000</td>\n",
              "      <td>290.000000</td>\n",
              "      <td>0.000000</td>\n",
              "      <td>1900.000000</td>\n",
              "      <td>0.000000</td>\n",
              "      <td>98001.000000</td>\n",
              "      <td>47.155900</td>\n",
              "      <td>-122.519000</td>\n",
              "      <td>399.000000</td>\n",
              "      <td>651.000000</td>\n",
              "    </tr>\n",
              "    <tr>\n",
              "      <th>25%</th>\n",
              "      <td>5403.00000</td>\n",
              "      <td>2.123049e+09</td>\n",
              "      <td>3.219500e+05</td>\n",
              "      <td>3.000000</td>\n",
              "      <td>1.750000</td>\n",
              "      <td>1427.000000</td>\n",
              "      <td>5.040000e+03</td>\n",
              "      <td>1.000000</td>\n",
              "      <td>0.000000</td>\n",
              "      <td>0.000000</td>\n",
              "      <td>...</td>\n",
              "      <td>7.000000</td>\n",
              "      <td>1190.000000</td>\n",
              "      <td>0.000000</td>\n",
              "      <td>1951.000000</td>\n",
              "      <td>0.000000</td>\n",
              "      <td>98033.000000</td>\n",
              "      <td>47.471000</td>\n",
              "      <td>-122.328000</td>\n",
              "      <td>1490.000000</td>\n",
              "      <td>5100.000000</td>\n",
              "    </tr>\n",
              "    <tr>\n",
              "      <th>50%</th>\n",
              "      <td>10806.00000</td>\n",
              "      <td>3.904930e+09</td>\n",
              "      <td>4.500000e+05</td>\n",
              "      <td>3.000000</td>\n",
              "      <td>2.250000</td>\n",
              "      <td>1910.000000</td>\n",
              "      <td>7.618000e+03</td>\n",
              "      <td>1.500000</td>\n",
              "      <td>0.000000</td>\n",
              "      <td>0.000000</td>\n",
              "      <td>...</td>\n",
              "      <td>7.000000</td>\n",
              "      <td>1560.000000</td>\n",
              "      <td>0.000000</td>\n",
              "      <td>1975.000000</td>\n",
              "      <td>0.000000</td>\n",
              "      <td>98065.000000</td>\n",
              "      <td>47.571800</td>\n",
              "      <td>-122.230000</td>\n",
              "      <td>1840.000000</td>\n",
              "      <td>7620.000000</td>\n",
              "    </tr>\n",
              "    <tr>\n",
              "      <th>75%</th>\n",
              "      <td>16209.00000</td>\n",
              "      <td>7.308900e+09</td>\n",
              "      <td>6.450000e+05</td>\n",
              "      <td>4.000000</td>\n",
              "      <td>2.500000</td>\n",
              "      <td>2550.000000</td>\n",
              "      <td>1.068800e+04</td>\n",
              "      <td>2.000000</td>\n",
              "      <td>0.000000</td>\n",
              "      <td>0.000000</td>\n",
              "      <td>...</td>\n",
              "      <td>8.000000</td>\n",
              "      <td>2210.000000</td>\n",
              "      <td>560.000000</td>\n",
              "      <td>1997.000000</td>\n",
              "      <td>0.000000</td>\n",
              "      <td>98118.000000</td>\n",
              "      <td>47.678000</td>\n",
              "      <td>-122.125000</td>\n",
              "      <td>2360.000000</td>\n",
              "      <td>10083.000000</td>\n",
              "    </tr>\n",
              "    <tr>\n",
              "      <th>max</th>\n",
              "      <td>21612.00000</td>\n",
              "      <td>9.900000e+09</td>\n",
              "      <td>7.700000e+06</td>\n",
              "      <td>33.000000</td>\n",
              "      <td>8.000000</td>\n",
              "      <td>13540.000000</td>\n",
              "      <td>1.651359e+06</td>\n",
              "      <td>3.500000</td>\n",
              "      <td>1.000000</td>\n",
              "      <td>4.000000</td>\n",
              "      <td>...</td>\n",
              "      <td>13.000000</td>\n",
              "      <td>9410.000000</td>\n",
              "      <td>4820.000000</td>\n",
              "      <td>2015.000000</td>\n",
              "      <td>2015.000000</td>\n",
              "      <td>98199.000000</td>\n",
              "      <td>47.777600</td>\n",
              "      <td>-121.315000</td>\n",
              "      <td>6210.000000</td>\n",
              "      <td>871200.000000</td>\n",
              "    </tr>\n",
              "  </tbody>\n",
              "</table>\n",
              "<p>8 rows × 21 columns</p>\n",
              "</div>\n",
              "    <div class=\"colab-df-buttons\">\n",
              "\n",
              "  <div class=\"colab-df-container\">\n",
              "    <button class=\"colab-df-convert\" onclick=\"convertToInteractive('df-62effc62-01b5-4a64-95c2-6822bbad6f9b')\"\n",
              "            title=\"Convert this dataframe to an interactive table.\"\n",
              "            style=\"display:none;\">\n",
              "\n",
              "  <svg xmlns=\"http://www.w3.org/2000/svg\" height=\"24px\" viewBox=\"0 -960 960 960\">\n",
              "    <path d=\"M120-120v-720h720v720H120Zm60-500h600v-160H180v160Zm220 220h160v-160H400v160Zm0 220h160v-160H400v160ZM180-400h160v-160H180v160Zm440 0h160v-160H620v160ZM180-180h160v-160H180v160Zm440 0h160v-160H620v160Z\"/>\n",
              "  </svg>\n",
              "    </button>\n",
              "\n",
              "  <style>\n",
              "    .colab-df-container {\n",
              "      display:flex;\n",
              "      gap: 12px;\n",
              "    }\n",
              "\n",
              "    .colab-df-convert {\n",
              "      background-color: #E8F0FE;\n",
              "      border: none;\n",
              "      border-radius: 50%;\n",
              "      cursor: pointer;\n",
              "      display: none;\n",
              "      fill: #1967D2;\n",
              "      height: 32px;\n",
              "      padding: 0 0 0 0;\n",
              "      width: 32px;\n",
              "    }\n",
              "\n",
              "    .colab-df-convert:hover {\n",
              "      background-color: #E2EBFA;\n",
              "      box-shadow: 0px 1px 2px rgba(60, 64, 67, 0.3), 0px 1px 3px 1px rgba(60, 64, 67, 0.15);\n",
              "      fill: #174EA6;\n",
              "    }\n",
              "\n",
              "    .colab-df-buttons div {\n",
              "      margin-bottom: 4px;\n",
              "    }\n",
              "\n",
              "    [theme=dark] .colab-df-convert {\n",
              "      background-color: #3B4455;\n",
              "      fill: #D2E3FC;\n",
              "    }\n",
              "\n",
              "    [theme=dark] .colab-df-convert:hover {\n",
              "      background-color: #434B5C;\n",
              "      box-shadow: 0px 1px 3px 1px rgba(0, 0, 0, 0.15);\n",
              "      filter: drop-shadow(0px 1px 2px rgba(0, 0, 0, 0.3));\n",
              "      fill: #FFFFFF;\n",
              "    }\n",
              "  </style>\n",
              "\n",
              "    <script>\n",
              "      const buttonEl =\n",
              "        document.querySelector('#df-62effc62-01b5-4a64-95c2-6822bbad6f9b button.colab-df-convert');\n",
              "      buttonEl.style.display =\n",
              "        google.colab.kernel.accessAllowed ? 'block' : 'none';\n",
              "\n",
              "      async function convertToInteractive(key) {\n",
              "        const element = document.querySelector('#df-62effc62-01b5-4a64-95c2-6822bbad6f9b');\n",
              "        const dataTable =\n",
              "          await google.colab.kernel.invokeFunction('convertToInteractive',\n",
              "                                                    [key], {});\n",
              "        if (!dataTable) return;\n",
              "\n",
              "        const docLinkHtml = 'Like what you see? Visit the ' +\n",
              "          '<a target=\"_blank\" href=https://colab.research.google.com/notebooks/data_table.ipynb>data table notebook</a>'\n",
              "          + ' to learn more about interactive tables.';\n",
              "        element.innerHTML = '';\n",
              "        dataTable['output_type'] = 'display_data';\n",
              "        await google.colab.output.renderOutput(dataTable, element);\n",
              "        const docLink = document.createElement('div');\n",
              "        docLink.innerHTML = docLinkHtml;\n",
              "        element.appendChild(docLink);\n",
              "      }\n",
              "    </script>\n",
              "  </div>\n",
              "\n",
              "\n",
              "<div id=\"df-7ab5f0f5-a92f-419d-8a0a-3e49db492273\">\n",
              "  <button class=\"colab-df-quickchart\" onclick=\"quickchart('df-7ab5f0f5-a92f-419d-8a0a-3e49db492273')\"\n",
              "            title=\"Suggest charts.\"\n",
              "            style=\"display:none;\">\n",
              "\n",
              "<svg xmlns=\"http://www.w3.org/2000/svg\" height=\"24px\"viewBox=\"0 0 24 24\"\n",
              "     width=\"24px\">\n",
              "    <g>\n",
              "        <path d=\"M19 3H5c-1.1 0-2 .9-2 2v14c0 1.1.9 2 2 2h14c1.1 0 2-.9 2-2V5c0-1.1-.9-2-2-2zM9 17H7v-7h2v7zm4 0h-2V7h2v10zm4 0h-2v-4h2v4z\"/>\n",
              "    </g>\n",
              "</svg>\n",
              "  </button>\n",
              "\n",
              "<style>\n",
              "  .colab-df-quickchart {\n",
              "      --bg-color: #E8F0FE;\n",
              "      --fill-color: #1967D2;\n",
              "      --hover-bg-color: #E2EBFA;\n",
              "      --hover-fill-color: #174EA6;\n",
              "      --disabled-fill-color: #AAA;\n",
              "      --disabled-bg-color: #DDD;\n",
              "  }\n",
              "\n",
              "  [theme=dark] .colab-df-quickchart {\n",
              "      --bg-color: #3B4455;\n",
              "      --fill-color: #D2E3FC;\n",
              "      --hover-bg-color: #434B5C;\n",
              "      --hover-fill-color: #FFFFFF;\n",
              "      --disabled-bg-color: #3B4455;\n",
              "      --disabled-fill-color: #666;\n",
              "  }\n",
              "\n",
              "  .colab-df-quickchart {\n",
              "    background-color: var(--bg-color);\n",
              "    border: none;\n",
              "    border-radius: 50%;\n",
              "    cursor: pointer;\n",
              "    display: none;\n",
              "    fill: var(--fill-color);\n",
              "    height: 32px;\n",
              "    padding: 0;\n",
              "    width: 32px;\n",
              "  }\n",
              "\n",
              "  .colab-df-quickchart:hover {\n",
              "    background-color: var(--hover-bg-color);\n",
              "    box-shadow: 0 1px 2px rgba(60, 64, 67, 0.3), 0 1px 3px 1px rgba(60, 64, 67, 0.15);\n",
              "    fill: var(--button-hover-fill-color);\n",
              "  }\n",
              "\n",
              "  .colab-df-quickchart-complete:disabled,\n",
              "  .colab-df-quickchart-complete:disabled:hover {\n",
              "    background-color: var(--disabled-bg-color);\n",
              "    fill: var(--disabled-fill-color);\n",
              "    box-shadow: none;\n",
              "  }\n",
              "\n",
              "  .colab-df-spinner {\n",
              "    border: 2px solid var(--fill-color);\n",
              "    border-color: transparent;\n",
              "    border-bottom-color: var(--fill-color);\n",
              "    animation:\n",
              "      spin 1s steps(1) infinite;\n",
              "  }\n",
              "\n",
              "  @keyframes spin {\n",
              "    0% {\n",
              "      border-color: transparent;\n",
              "      border-bottom-color: var(--fill-color);\n",
              "      border-left-color: var(--fill-color);\n",
              "    }\n",
              "    20% {\n",
              "      border-color: transparent;\n",
              "      border-left-color: var(--fill-color);\n",
              "      border-top-color: var(--fill-color);\n",
              "    }\n",
              "    30% {\n",
              "      border-color: transparent;\n",
              "      border-left-color: var(--fill-color);\n",
              "      border-top-color: var(--fill-color);\n",
              "      border-right-color: var(--fill-color);\n",
              "    }\n",
              "    40% {\n",
              "      border-color: transparent;\n",
              "      border-right-color: var(--fill-color);\n",
              "      border-top-color: var(--fill-color);\n",
              "    }\n",
              "    60% {\n",
              "      border-color: transparent;\n",
              "      border-right-color: var(--fill-color);\n",
              "    }\n",
              "    80% {\n",
              "      border-color: transparent;\n",
              "      border-right-color: var(--fill-color);\n",
              "      border-bottom-color: var(--fill-color);\n",
              "    }\n",
              "    90% {\n",
              "      border-color: transparent;\n",
              "      border-bottom-color: var(--fill-color);\n",
              "    }\n",
              "  }\n",
              "</style>\n",
              "\n",
              "  <script>\n",
              "    async function quickchart(key) {\n",
              "      const quickchartButtonEl =\n",
              "        document.querySelector('#' + key + ' button');\n",
              "      quickchartButtonEl.disabled = true;  // To prevent multiple clicks.\n",
              "      quickchartButtonEl.classList.add('colab-df-spinner');\n",
              "      try {\n",
              "        const charts = await google.colab.kernel.invokeFunction(\n",
              "            'suggestCharts', [key], {});\n",
              "      } catch (error) {\n",
              "        console.error('Error during call to suggestCharts:', error);\n",
              "      }\n",
              "      quickchartButtonEl.classList.remove('colab-df-spinner');\n",
              "      quickchartButtonEl.classList.add('colab-df-quickchart-complete');\n",
              "    }\n",
              "    (() => {\n",
              "      let quickchartButtonEl =\n",
              "        document.querySelector('#df-7ab5f0f5-a92f-419d-8a0a-3e49db492273 button');\n",
              "      quickchartButtonEl.style.display =\n",
              "        google.colab.kernel.accessAllowed ? 'block' : 'none';\n",
              "    })();\n",
              "  </script>\n",
              "</div>\n",
              "    </div>\n",
              "  </div>\n"
            ]
          },
          "metadata": {},
          "execution_count": 14
        }
      ]
    },
    {
      "cell_type": "markdown",
      "source": [
        "# Module 2: Data Wrangling\n"
      ],
      "metadata": {
        "id": "3B2AcBeEbnkz"
      }
    },
    {
      "cell_type": "markdown",
      "source": [
        "### Question 2\n",
        "\n",
        "Drop the columns <code>\"id\"</code>  and <code>\"Unnamed: 0\"</code> from axis 1 using the method <code>drop()</code>, then use the method <code>describe()</code> to obtain a statistical summary of the data. Take a screenshot and submit it, make sure the <code>inplace</code> parameter is set to <code>True</code>\n"
      ],
      "metadata": {
        "id": "W_NQy95Cbnk0"
      }
    },
    {
      "cell_type": "code",
      "source": [
        "df.drop(\"id\", axis = 1, inplace=True)\n",
        "df.drop(\"Unnamed: 0\", axis = 1, inplace=True)\n",
        "df.describe()"
      ],
      "metadata": {
        "colab": {
          "base_uri": "https://localhost:8080/",
          "height": 320
        },
        "id": "VW5hXjpCbnk0",
        "outputId": "302aabe1-a116-413a-d8f6-ce0f9667c3a9"
      },
      "execution_count": null,
      "outputs": [
        {
          "output_type": "execute_result",
          "data": {
            "text/plain": [
              "              price      bedrooms     bathrooms   sqft_living      sqft_lot  \\\n",
              "count  2.161300e+04  21600.000000  21603.000000  21613.000000  2.161300e+04   \n",
              "mean   5.400881e+05      3.372870      2.115736   2079.899736  1.510697e+04   \n",
              "std    3.671272e+05      0.926657      0.768996    918.440897  4.142051e+04   \n",
              "min    7.500000e+04      1.000000      0.500000    290.000000  5.200000e+02   \n",
              "25%    3.219500e+05      3.000000      1.750000   1427.000000  5.040000e+03   \n",
              "50%    4.500000e+05      3.000000      2.250000   1910.000000  7.618000e+03   \n",
              "75%    6.450000e+05      4.000000      2.500000   2550.000000  1.068800e+04   \n",
              "max    7.700000e+06     33.000000      8.000000  13540.000000  1.651359e+06   \n",
              "\n",
              "             floors    waterfront          view     condition         grade  \\\n",
              "count  21613.000000  21613.000000  21613.000000  21613.000000  21613.000000   \n",
              "mean       1.494309      0.007542      0.234303      3.409430      7.656873   \n",
              "std        0.539989      0.086517      0.766318      0.650743      1.175459   \n",
              "min        1.000000      0.000000      0.000000      1.000000      1.000000   \n",
              "25%        1.000000      0.000000      0.000000      3.000000      7.000000   \n",
              "50%        1.500000      0.000000      0.000000      3.000000      7.000000   \n",
              "75%        2.000000      0.000000      0.000000      4.000000      8.000000   \n",
              "max        3.500000      1.000000      4.000000      5.000000     13.000000   \n",
              "\n",
              "         sqft_above  sqft_basement      yr_built  yr_renovated       zipcode  \\\n",
              "count  21613.000000   21613.000000  21613.000000  21613.000000  21613.000000   \n",
              "mean    1788.390691     291.509045   1971.005136     84.402258  98077.939805   \n",
              "std      828.090978     442.575043     29.373411    401.679240     53.505026   \n",
              "min      290.000000       0.000000   1900.000000      0.000000  98001.000000   \n",
              "25%     1190.000000       0.000000   1951.000000      0.000000  98033.000000   \n",
              "50%     1560.000000       0.000000   1975.000000      0.000000  98065.000000   \n",
              "75%     2210.000000     560.000000   1997.000000      0.000000  98118.000000   \n",
              "max     9410.000000    4820.000000   2015.000000   2015.000000  98199.000000   \n",
              "\n",
              "                lat          long  sqft_living15     sqft_lot15  \n",
              "count  21613.000000  21613.000000   21613.000000   21613.000000  \n",
              "mean      47.560053   -122.213896    1986.552492   12768.455652  \n",
              "std        0.138564      0.140828     685.391304   27304.179631  \n",
              "min       47.155900   -122.519000     399.000000     651.000000  \n",
              "25%       47.471000   -122.328000    1490.000000    5100.000000  \n",
              "50%       47.571800   -122.230000    1840.000000    7620.000000  \n",
              "75%       47.678000   -122.125000    2360.000000   10083.000000  \n",
              "max       47.777600   -121.315000    6210.000000  871200.000000  "
            ],
            "text/html": [
              "\n",
              "  <div id=\"df-1485c08f-f704-4a63-a4a1-73ef826f0d45\" class=\"colab-df-container\">\n",
              "    <div>\n",
              "<style scoped>\n",
              "    .dataframe tbody tr th:only-of-type {\n",
              "        vertical-align: middle;\n",
              "    }\n",
              "\n",
              "    .dataframe tbody tr th {\n",
              "        vertical-align: top;\n",
              "    }\n",
              "\n",
              "    .dataframe thead th {\n",
              "        text-align: right;\n",
              "    }\n",
              "</style>\n",
              "<table border=\"1\" class=\"dataframe\">\n",
              "  <thead>\n",
              "    <tr style=\"text-align: right;\">\n",
              "      <th></th>\n",
              "      <th>price</th>\n",
              "      <th>bedrooms</th>\n",
              "      <th>bathrooms</th>\n",
              "      <th>sqft_living</th>\n",
              "      <th>sqft_lot</th>\n",
              "      <th>floors</th>\n",
              "      <th>waterfront</th>\n",
              "      <th>view</th>\n",
              "      <th>condition</th>\n",
              "      <th>grade</th>\n",
              "      <th>sqft_above</th>\n",
              "      <th>sqft_basement</th>\n",
              "      <th>yr_built</th>\n",
              "      <th>yr_renovated</th>\n",
              "      <th>zipcode</th>\n",
              "      <th>lat</th>\n",
              "      <th>long</th>\n",
              "      <th>sqft_living15</th>\n",
              "      <th>sqft_lot15</th>\n",
              "    </tr>\n",
              "  </thead>\n",
              "  <tbody>\n",
              "    <tr>\n",
              "      <th>count</th>\n",
              "      <td>2.161300e+04</td>\n",
              "      <td>21600.000000</td>\n",
              "      <td>21603.000000</td>\n",
              "      <td>21613.000000</td>\n",
              "      <td>2.161300e+04</td>\n",
              "      <td>21613.000000</td>\n",
              "      <td>21613.000000</td>\n",
              "      <td>21613.000000</td>\n",
              "      <td>21613.000000</td>\n",
              "      <td>21613.000000</td>\n",
              "      <td>21613.000000</td>\n",
              "      <td>21613.000000</td>\n",
              "      <td>21613.000000</td>\n",
              "      <td>21613.000000</td>\n",
              "      <td>21613.000000</td>\n",
              "      <td>21613.000000</td>\n",
              "      <td>21613.000000</td>\n",
              "      <td>21613.000000</td>\n",
              "      <td>21613.000000</td>\n",
              "    </tr>\n",
              "    <tr>\n",
              "      <th>mean</th>\n",
              "      <td>5.400881e+05</td>\n",
              "      <td>3.372870</td>\n",
              "      <td>2.115736</td>\n",
              "      <td>2079.899736</td>\n",
              "      <td>1.510697e+04</td>\n",
              "      <td>1.494309</td>\n",
              "      <td>0.007542</td>\n",
              "      <td>0.234303</td>\n",
              "      <td>3.409430</td>\n",
              "      <td>7.656873</td>\n",
              "      <td>1788.390691</td>\n",
              "      <td>291.509045</td>\n",
              "      <td>1971.005136</td>\n",
              "      <td>84.402258</td>\n",
              "      <td>98077.939805</td>\n",
              "      <td>47.560053</td>\n",
              "      <td>-122.213896</td>\n",
              "      <td>1986.552492</td>\n",
              "      <td>12768.455652</td>\n",
              "    </tr>\n",
              "    <tr>\n",
              "      <th>std</th>\n",
              "      <td>3.671272e+05</td>\n",
              "      <td>0.926657</td>\n",
              "      <td>0.768996</td>\n",
              "      <td>918.440897</td>\n",
              "      <td>4.142051e+04</td>\n",
              "      <td>0.539989</td>\n",
              "      <td>0.086517</td>\n",
              "      <td>0.766318</td>\n",
              "      <td>0.650743</td>\n",
              "      <td>1.175459</td>\n",
              "      <td>828.090978</td>\n",
              "      <td>442.575043</td>\n",
              "      <td>29.373411</td>\n",
              "      <td>401.679240</td>\n",
              "      <td>53.505026</td>\n",
              "      <td>0.138564</td>\n",
              "      <td>0.140828</td>\n",
              "      <td>685.391304</td>\n",
              "      <td>27304.179631</td>\n",
              "    </tr>\n",
              "    <tr>\n",
              "      <th>min</th>\n",
              "      <td>7.500000e+04</td>\n",
              "      <td>1.000000</td>\n",
              "      <td>0.500000</td>\n",
              "      <td>290.000000</td>\n",
              "      <td>5.200000e+02</td>\n",
              "      <td>1.000000</td>\n",
              "      <td>0.000000</td>\n",
              "      <td>0.000000</td>\n",
              "      <td>1.000000</td>\n",
              "      <td>1.000000</td>\n",
              "      <td>290.000000</td>\n",
              "      <td>0.000000</td>\n",
              "      <td>1900.000000</td>\n",
              "      <td>0.000000</td>\n",
              "      <td>98001.000000</td>\n",
              "      <td>47.155900</td>\n",
              "      <td>-122.519000</td>\n",
              "      <td>399.000000</td>\n",
              "      <td>651.000000</td>\n",
              "    </tr>\n",
              "    <tr>\n",
              "      <th>25%</th>\n",
              "      <td>3.219500e+05</td>\n",
              "      <td>3.000000</td>\n",
              "      <td>1.750000</td>\n",
              "      <td>1427.000000</td>\n",
              "      <td>5.040000e+03</td>\n",
              "      <td>1.000000</td>\n",
              "      <td>0.000000</td>\n",
              "      <td>0.000000</td>\n",
              "      <td>3.000000</td>\n",
              "      <td>7.000000</td>\n",
              "      <td>1190.000000</td>\n",
              "      <td>0.000000</td>\n",
              "      <td>1951.000000</td>\n",
              "      <td>0.000000</td>\n",
              "      <td>98033.000000</td>\n",
              "      <td>47.471000</td>\n",
              "      <td>-122.328000</td>\n",
              "      <td>1490.000000</td>\n",
              "      <td>5100.000000</td>\n",
              "    </tr>\n",
              "    <tr>\n",
              "      <th>50%</th>\n",
              "      <td>4.500000e+05</td>\n",
              "      <td>3.000000</td>\n",
              "      <td>2.250000</td>\n",
              "      <td>1910.000000</td>\n",
              "      <td>7.618000e+03</td>\n",
              "      <td>1.500000</td>\n",
              "      <td>0.000000</td>\n",
              "      <td>0.000000</td>\n",
              "      <td>3.000000</td>\n",
              "      <td>7.000000</td>\n",
              "      <td>1560.000000</td>\n",
              "      <td>0.000000</td>\n",
              "      <td>1975.000000</td>\n",
              "      <td>0.000000</td>\n",
              "      <td>98065.000000</td>\n",
              "      <td>47.571800</td>\n",
              "      <td>-122.230000</td>\n",
              "      <td>1840.000000</td>\n",
              "      <td>7620.000000</td>\n",
              "    </tr>\n",
              "    <tr>\n",
              "      <th>75%</th>\n",
              "      <td>6.450000e+05</td>\n",
              "      <td>4.000000</td>\n",
              "      <td>2.500000</td>\n",
              "      <td>2550.000000</td>\n",
              "      <td>1.068800e+04</td>\n",
              "      <td>2.000000</td>\n",
              "      <td>0.000000</td>\n",
              "      <td>0.000000</td>\n",
              "      <td>4.000000</td>\n",
              "      <td>8.000000</td>\n",
              "      <td>2210.000000</td>\n",
              "      <td>560.000000</td>\n",
              "      <td>1997.000000</td>\n",
              "      <td>0.000000</td>\n",
              "      <td>98118.000000</td>\n",
              "      <td>47.678000</td>\n",
              "      <td>-122.125000</td>\n",
              "      <td>2360.000000</td>\n",
              "      <td>10083.000000</td>\n",
              "    </tr>\n",
              "    <tr>\n",
              "      <th>max</th>\n",
              "      <td>7.700000e+06</td>\n",
              "      <td>33.000000</td>\n",
              "      <td>8.000000</td>\n",
              "      <td>13540.000000</td>\n",
              "      <td>1.651359e+06</td>\n",
              "      <td>3.500000</td>\n",
              "      <td>1.000000</td>\n",
              "      <td>4.000000</td>\n",
              "      <td>5.000000</td>\n",
              "      <td>13.000000</td>\n",
              "      <td>9410.000000</td>\n",
              "      <td>4820.000000</td>\n",
              "      <td>2015.000000</td>\n",
              "      <td>2015.000000</td>\n",
              "      <td>98199.000000</td>\n",
              "      <td>47.777600</td>\n",
              "      <td>-121.315000</td>\n",
              "      <td>6210.000000</td>\n",
              "      <td>871200.000000</td>\n",
              "    </tr>\n",
              "  </tbody>\n",
              "</table>\n",
              "</div>\n",
              "    <div class=\"colab-df-buttons\">\n",
              "\n",
              "  <div class=\"colab-df-container\">\n",
              "    <button class=\"colab-df-convert\" onclick=\"convertToInteractive('df-1485c08f-f704-4a63-a4a1-73ef826f0d45')\"\n",
              "            title=\"Convert this dataframe to an interactive table.\"\n",
              "            style=\"display:none;\">\n",
              "\n",
              "  <svg xmlns=\"http://www.w3.org/2000/svg\" height=\"24px\" viewBox=\"0 -960 960 960\">\n",
              "    <path d=\"M120-120v-720h720v720H120Zm60-500h600v-160H180v160Zm220 220h160v-160H400v160Zm0 220h160v-160H400v160ZM180-400h160v-160H180v160Zm440 0h160v-160H620v160ZM180-180h160v-160H180v160Zm440 0h160v-160H620v160Z\"/>\n",
              "  </svg>\n",
              "    </button>\n",
              "\n",
              "  <style>\n",
              "    .colab-df-container {\n",
              "      display:flex;\n",
              "      gap: 12px;\n",
              "    }\n",
              "\n",
              "    .colab-df-convert {\n",
              "      background-color: #E8F0FE;\n",
              "      border: none;\n",
              "      border-radius: 50%;\n",
              "      cursor: pointer;\n",
              "      display: none;\n",
              "      fill: #1967D2;\n",
              "      height: 32px;\n",
              "      padding: 0 0 0 0;\n",
              "      width: 32px;\n",
              "    }\n",
              "\n",
              "    .colab-df-convert:hover {\n",
              "      background-color: #E2EBFA;\n",
              "      box-shadow: 0px 1px 2px rgba(60, 64, 67, 0.3), 0px 1px 3px 1px rgba(60, 64, 67, 0.15);\n",
              "      fill: #174EA6;\n",
              "    }\n",
              "\n",
              "    .colab-df-buttons div {\n",
              "      margin-bottom: 4px;\n",
              "    }\n",
              "\n",
              "    [theme=dark] .colab-df-convert {\n",
              "      background-color: #3B4455;\n",
              "      fill: #D2E3FC;\n",
              "    }\n",
              "\n",
              "    [theme=dark] .colab-df-convert:hover {\n",
              "      background-color: #434B5C;\n",
              "      box-shadow: 0px 1px 3px 1px rgba(0, 0, 0, 0.15);\n",
              "      filter: drop-shadow(0px 1px 2px rgba(0, 0, 0, 0.3));\n",
              "      fill: #FFFFFF;\n",
              "    }\n",
              "  </style>\n",
              "\n",
              "    <script>\n",
              "      const buttonEl =\n",
              "        document.querySelector('#df-1485c08f-f704-4a63-a4a1-73ef826f0d45 button.colab-df-convert');\n",
              "      buttonEl.style.display =\n",
              "        google.colab.kernel.accessAllowed ? 'block' : 'none';\n",
              "\n",
              "      async function convertToInteractive(key) {\n",
              "        const element = document.querySelector('#df-1485c08f-f704-4a63-a4a1-73ef826f0d45');\n",
              "        const dataTable =\n",
              "          await google.colab.kernel.invokeFunction('convertToInteractive',\n",
              "                                                    [key], {});\n",
              "        if (!dataTable) return;\n",
              "\n",
              "        const docLinkHtml = 'Like what you see? Visit the ' +\n",
              "          '<a target=\"_blank\" href=https://colab.research.google.com/notebooks/data_table.ipynb>data table notebook</a>'\n",
              "          + ' to learn more about interactive tables.';\n",
              "        element.innerHTML = '';\n",
              "        dataTable['output_type'] = 'display_data';\n",
              "        await google.colab.output.renderOutput(dataTable, element);\n",
              "        const docLink = document.createElement('div');\n",
              "        docLink.innerHTML = docLinkHtml;\n",
              "        element.appendChild(docLink);\n",
              "      }\n",
              "    </script>\n",
              "  </div>\n",
              "\n",
              "\n",
              "<div id=\"df-bf64d292-d4fa-48c1-afe0-22e6dbf58316\">\n",
              "  <button class=\"colab-df-quickchart\" onclick=\"quickchart('df-bf64d292-d4fa-48c1-afe0-22e6dbf58316')\"\n",
              "            title=\"Suggest charts.\"\n",
              "            style=\"display:none;\">\n",
              "\n",
              "<svg xmlns=\"http://www.w3.org/2000/svg\" height=\"24px\"viewBox=\"0 0 24 24\"\n",
              "     width=\"24px\">\n",
              "    <g>\n",
              "        <path d=\"M19 3H5c-1.1 0-2 .9-2 2v14c0 1.1.9 2 2 2h14c1.1 0 2-.9 2-2V5c0-1.1-.9-2-2-2zM9 17H7v-7h2v7zm4 0h-2V7h2v10zm4 0h-2v-4h2v4z\"/>\n",
              "    </g>\n",
              "</svg>\n",
              "  </button>\n",
              "\n",
              "<style>\n",
              "  .colab-df-quickchart {\n",
              "      --bg-color: #E8F0FE;\n",
              "      --fill-color: #1967D2;\n",
              "      --hover-bg-color: #E2EBFA;\n",
              "      --hover-fill-color: #174EA6;\n",
              "      --disabled-fill-color: #AAA;\n",
              "      --disabled-bg-color: #DDD;\n",
              "  }\n",
              "\n",
              "  [theme=dark] .colab-df-quickchart {\n",
              "      --bg-color: #3B4455;\n",
              "      --fill-color: #D2E3FC;\n",
              "      --hover-bg-color: #434B5C;\n",
              "      --hover-fill-color: #FFFFFF;\n",
              "      --disabled-bg-color: #3B4455;\n",
              "      --disabled-fill-color: #666;\n",
              "  }\n",
              "\n",
              "  .colab-df-quickchart {\n",
              "    background-color: var(--bg-color);\n",
              "    border: none;\n",
              "    border-radius: 50%;\n",
              "    cursor: pointer;\n",
              "    display: none;\n",
              "    fill: var(--fill-color);\n",
              "    height: 32px;\n",
              "    padding: 0;\n",
              "    width: 32px;\n",
              "  }\n",
              "\n",
              "  .colab-df-quickchart:hover {\n",
              "    background-color: var(--hover-bg-color);\n",
              "    box-shadow: 0 1px 2px rgba(60, 64, 67, 0.3), 0 1px 3px 1px rgba(60, 64, 67, 0.15);\n",
              "    fill: var(--button-hover-fill-color);\n",
              "  }\n",
              "\n",
              "  .colab-df-quickchart-complete:disabled,\n",
              "  .colab-df-quickchart-complete:disabled:hover {\n",
              "    background-color: var(--disabled-bg-color);\n",
              "    fill: var(--disabled-fill-color);\n",
              "    box-shadow: none;\n",
              "  }\n",
              "\n",
              "  .colab-df-spinner {\n",
              "    border: 2px solid var(--fill-color);\n",
              "    border-color: transparent;\n",
              "    border-bottom-color: var(--fill-color);\n",
              "    animation:\n",
              "      spin 1s steps(1) infinite;\n",
              "  }\n",
              "\n",
              "  @keyframes spin {\n",
              "    0% {\n",
              "      border-color: transparent;\n",
              "      border-bottom-color: var(--fill-color);\n",
              "      border-left-color: var(--fill-color);\n",
              "    }\n",
              "    20% {\n",
              "      border-color: transparent;\n",
              "      border-left-color: var(--fill-color);\n",
              "      border-top-color: var(--fill-color);\n",
              "    }\n",
              "    30% {\n",
              "      border-color: transparent;\n",
              "      border-left-color: var(--fill-color);\n",
              "      border-top-color: var(--fill-color);\n",
              "      border-right-color: var(--fill-color);\n",
              "    }\n",
              "    40% {\n",
              "      border-color: transparent;\n",
              "      border-right-color: var(--fill-color);\n",
              "      border-top-color: var(--fill-color);\n",
              "    }\n",
              "    60% {\n",
              "      border-color: transparent;\n",
              "      border-right-color: var(--fill-color);\n",
              "    }\n",
              "    80% {\n",
              "      border-color: transparent;\n",
              "      border-right-color: var(--fill-color);\n",
              "      border-bottom-color: var(--fill-color);\n",
              "    }\n",
              "    90% {\n",
              "      border-color: transparent;\n",
              "      border-bottom-color: var(--fill-color);\n",
              "    }\n",
              "  }\n",
              "</style>\n",
              "\n",
              "  <script>\n",
              "    async function quickchart(key) {\n",
              "      const quickchartButtonEl =\n",
              "        document.querySelector('#' + key + ' button');\n",
              "      quickchartButtonEl.disabled = true;  // To prevent multiple clicks.\n",
              "      quickchartButtonEl.classList.add('colab-df-spinner');\n",
              "      try {\n",
              "        const charts = await google.colab.kernel.invokeFunction(\n",
              "            'suggestCharts', [key], {});\n",
              "      } catch (error) {\n",
              "        console.error('Error during call to suggestCharts:', error);\n",
              "      }\n",
              "      quickchartButtonEl.classList.remove('colab-df-spinner');\n",
              "      quickchartButtonEl.classList.add('colab-df-quickchart-complete');\n",
              "    }\n",
              "    (() => {\n",
              "      let quickchartButtonEl =\n",
              "        document.querySelector('#df-bf64d292-d4fa-48c1-afe0-22e6dbf58316 button');\n",
              "      quickchartButtonEl.style.display =\n",
              "        google.colab.kernel.accessAllowed ? 'block' : 'none';\n",
              "    })();\n",
              "  </script>\n",
              "</div>\n",
              "    </div>\n",
              "  </div>\n"
            ]
          },
          "metadata": {},
          "execution_count": 15
        }
      ]
    },
    {
      "cell_type": "markdown",
      "source": [
        "We can see we have missing values for the columns <code> bedrooms</code>  and <code> bathrooms </code>\n"
      ],
      "metadata": {
        "id": "maXZZoMCbnk0"
      }
    },
    {
      "cell_type": "code",
      "source": [
        "print(\"number of NaN values for the column bedrooms :\", df['bedrooms'].isnull().sum())\n",
        "print(\"number of NaN values for the column bathrooms :\", df['bathrooms'].isnull().sum())\n"
      ],
      "metadata": {
        "colab": {
          "base_uri": "https://localhost:8080/"
        },
        "id": "T0gJrEtXbnk0",
        "outputId": "3af1f908-908d-4a85-94ec-1c56f08364d7"
      },
      "execution_count": null,
      "outputs": [
        {
          "output_type": "stream",
          "name": "stdout",
          "text": [
            "number of NaN values for the column bedrooms : 13\n",
            "number of NaN values for the column bathrooms : 10\n"
          ]
        }
      ]
    },
    {
      "cell_type": "markdown",
      "source": [
        "We can replace the missing values of the column <code>'bedrooms'</code> with the mean of the column  <code>'bedrooms' </code> using the method <code>replace()</code>. Don't forget to set the <code>inplace</code> parameter to <code>True</code>\n"
      ],
      "metadata": {
        "id": "Q3kauwyfbnk1"
      }
    },
    {
      "cell_type": "code",
      "source": [
        "mean=df['bedrooms'].mean()\n",
        "df['bedrooms'].replace(np.nan,mean, inplace=True)"
      ],
      "metadata": {
        "id": "W4Aw-BuPbnk1"
      },
      "execution_count": null,
      "outputs": []
    },
    {
      "cell_type": "markdown",
      "source": [
        "We also replace the missing values of the column <code>'bathrooms'</code> with the mean of the column  <code>'bathrooms' </code> using the method <code>replace()</code>. Don't forget to set the <code> inplace </code>  parameter top <code> True </code>\n"
      ],
      "metadata": {
        "id": "Fg1XSmPibnk1"
      }
    },
    {
      "cell_type": "code",
      "source": [
        "mean=df['bathrooms'].mean()\n",
        "df['bathrooms'].replace(np.nan,mean, inplace=True)"
      ],
      "metadata": {
        "id": "hU75gbhabnk2"
      },
      "execution_count": null,
      "outputs": []
    },
    {
      "cell_type": "code",
      "source": [
        "print(\"number of NaN values for the column bedrooms :\", df['bedrooms'].isnull().sum())\n",
        "print(\"number of NaN values for the column bathrooms :\", df['bathrooms'].isnull().sum())"
      ],
      "metadata": {
        "colab": {
          "base_uri": "https://localhost:8080/"
        },
        "id": "2XrXgClobnk2",
        "outputId": "06d7c863-ba9d-48f9-e7e0-8219b54a1c80"
      },
      "execution_count": null,
      "outputs": [
        {
          "output_type": "stream",
          "name": "stdout",
          "text": [
            "number of NaN values for the column bedrooms : 0\n",
            "number of NaN values for the column bathrooms : 0\n"
          ]
        }
      ]
    },
    {
      "cell_type": "markdown",
      "source": [
        "# Module 3: Exploratory Data Analysis\n"
      ],
      "metadata": {
        "id": "f2WKnvt5bnk3"
      }
    },
    {
      "cell_type": "markdown",
      "source": [
        "### Question 3\n",
        "\n",
        "Use the method <code>value_counts</code> to count the number of houses with unique floor values, use the method <code>.to_frame()</code> to convert it to a dataframe.\n"
      ],
      "metadata": {
        "id": "3n8c1cBkbnk4"
      }
    },
    {
      "cell_type": "code",
      "source": [
        "df['floors'].value_counts().to_frame()"
      ],
      "metadata": {
        "colab": {
          "base_uri": "https://localhost:8080/",
          "height": 237
        },
        "id": "cdL_mbQ5bnk5",
        "outputId": "6ab774c3-55a9-4962-8e6b-a33fa68f2ee1"
      },
      "execution_count": 62,
      "outputs": [
        {
          "output_type": "execute_result",
          "data": {
            "text/plain": [
              "     floors\n",
              "1.0   10680\n",
              "2.0    8241\n",
              "1.5    1910\n",
              "3.0     613\n",
              "2.5     161\n",
              "3.5       8"
            ],
            "text/html": [
              "\n",
              "  <div id=\"df-69c3a99c-2e14-4634-ae95-a292f75aa5a8\" class=\"colab-df-container\">\n",
              "    <div>\n",
              "<style scoped>\n",
              "    .dataframe tbody tr th:only-of-type {\n",
              "        vertical-align: middle;\n",
              "    }\n",
              "\n",
              "    .dataframe tbody tr th {\n",
              "        vertical-align: top;\n",
              "    }\n",
              "\n",
              "    .dataframe thead th {\n",
              "        text-align: right;\n",
              "    }\n",
              "</style>\n",
              "<table border=\"1\" class=\"dataframe\">\n",
              "  <thead>\n",
              "    <tr style=\"text-align: right;\">\n",
              "      <th></th>\n",
              "      <th>floors</th>\n",
              "    </tr>\n",
              "  </thead>\n",
              "  <tbody>\n",
              "    <tr>\n",
              "      <th>1.0</th>\n",
              "      <td>10680</td>\n",
              "    </tr>\n",
              "    <tr>\n",
              "      <th>2.0</th>\n",
              "      <td>8241</td>\n",
              "    </tr>\n",
              "    <tr>\n",
              "      <th>1.5</th>\n",
              "      <td>1910</td>\n",
              "    </tr>\n",
              "    <tr>\n",
              "      <th>3.0</th>\n",
              "      <td>613</td>\n",
              "    </tr>\n",
              "    <tr>\n",
              "      <th>2.5</th>\n",
              "      <td>161</td>\n",
              "    </tr>\n",
              "    <tr>\n",
              "      <th>3.5</th>\n",
              "      <td>8</td>\n",
              "    </tr>\n",
              "  </tbody>\n",
              "</table>\n",
              "</div>\n",
              "    <div class=\"colab-df-buttons\">\n",
              "\n",
              "  <div class=\"colab-df-container\">\n",
              "    <button class=\"colab-df-convert\" onclick=\"convertToInteractive('df-69c3a99c-2e14-4634-ae95-a292f75aa5a8')\"\n",
              "            title=\"Convert this dataframe to an interactive table.\"\n",
              "            style=\"display:none;\">\n",
              "\n",
              "  <svg xmlns=\"http://www.w3.org/2000/svg\" height=\"24px\" viewBox=\"0 -960 960 960\">\n",
              "    <path d=\"M120-120v-720h720v720H120Zm60-500h600v-160H180v160Zm220 220h160v-160H400v160Zm0 220h160v-160H400v160ZM180-400h160v-160H180v160Zm440 0h160v-160H620v160ZM180-180h160v-160H180v160Zm440 0h160v-160H620v160Z\"/>\n",
              "  </svg>\n",
              "    </button>\n",
              "\n",
              "  <style>\n",
              "    .colab-df-container {\n",
              "      display:flex;\n",
              "      gap: 12px;\n",
              "    }\n",
              "\n",
              "    .colab-df-convert {\n",
              "      background-color: #E8F0FE;\n",
              "      border: none;\n",
              "      border-radius: 50%;\n",
              "      cursor: pointer;\n",
              "      display: none;\n",
              "      fill: #1967D2;\n",
              "      height: 32px;\n",
              "      padding: 0 0 0 0;\n",
              "      width: 32px;\n",
              "    }\n",
              "\n",
              "    .colab-df-convert:hover {\n",
              "      background-color: #E2EBFA;\n",
              "      box-shadow: 0px 1px 2px rgba(60, 64, 67, 0.3), 0px 1px 3px 1px rgba(60, 64, 67, 0.15);\n",
              "      fill: #174EA6;\n",
              "    }\n",
              "\n",
              "    .colab-df-buttons div {\n",
              "      margin-bottom: 4px;\n",
              "    }\n",
              "\n",
              "    [theme=dark] .colab-df-convert {\n",
              "      background-color: #3B4455;\n",
              "      fill: #D2E3FC;\n",
              "    }\n",
              "\n",
              "    [theme=dark] .colab-df-convert:hover {\n",
              "      background-color: #434B5C;\n",
              "      box-shadow: 0px 1px 3px 1px rgba(0, 0, 0, 0.15);\n",
              "      filter: drop-shadow(0px 1px 2px rgba(0, 0, 0, 0.3));\n",
              "      fill: #FFFFFF;\n",
              "    }\n",
              "  </style>\n",
              "\n",
              "    <script>\n",
              "      const buttonEl =\n",
              "        document.querySelector('#df-69c3a99c-2e14-4634-ae95-a292f75aa5a8 button.colab-df-convert');\n",
              "      buttonEl.style.display =\n",
              "        google.colab.kernel.accessAllowed ? 'block' : 'none';\n",
              "\n",
              "      async function convertToInteractive(key) {\n",
              "        const element = document.querySelector('#df-69c3a99c-2e14-4634-ae95-a292f75aa5a8');\n",
              "        const dataTable =\n",
              "          await google.colab.kernel.invokeFunction('convertToInteractive',\n",
              "                                                    [key], {});\n",
              "        if (!dataTable) return;\n",
              "\n",
              "        const docLinkHtml = 'Like what you see? Visit the ' +\n",
              "          '<a target=\"_blank\" href=https://colab.research.google.com/notebooks/data_table.ipynb>data table notebook</a>'\n",
              "          + ' to learn more about interactive tables.';\n",
              "        element.innerHTML = '';\n",
              "        dataTable['output_type'] = 'display_data';\n",
              "        await google.colab.output.renderOutput(dataTable, element);\n",
              "        const docLink = document.createElement('div');\n",
              "        docLink.innerHTML = docLinkHtml;\n",
              "        element.appendChild(docLink);\n",
              "      }\n",
              "    </script>\n",
              "  </div>\n",
              "\n",
              "\n",
              "<div id=\"df-8c8cc563-ccec-4dd7-9b7f-58881d607524\">\n",
              "  <button class=\"colab-df-quickchart\" onclick=\"quickchart('df-8c8cc563-ccec-4dd7-9b7f-58881d607524')\"\n",
              "            title=\"Suggest charts.\"\n",
              "            style=\"display:none;\">\n",
              "\n",
              "<svg xmlns=\"http://www.w3.org/2000/svg\" height=\"24px\"viewBox=\"0 0 24 24\"\n",
              "     width=\"24px\">\n",
              "    <g>\n",
              "        <path d=\"M19 3H5c-1.1 0-2 .9-2 2v14c0 1.1.9 2 2 2h14c1.1 0 2-.9 2-2V5c0-1.1-.9-2-2-2zM9 17H7v-7h2v7zm4 0h-2V7h2v10zm4 0h-2v-4h2v4z\"/>\n",
              "    </g>\n",
              "</svg>\n",
              "  </button>\n",
              "\n",
              "<style>\n",
              "  .colab-df-quickchart {\n",
              "      --bg-color: #E8F0FE;\n",
              "      --fill-color: #1967D2;\n",
              "      --hover-bg-color: #E2EBFA;\n",
              "      --hover-fill-color: #174EA6;\n",
              "      --disabled-fill-color: #AAA;\n",
              "      --disabled-bg-color: #DDD;\n",
              "  }\n",
              "\n",
              "  [theme=dark] .colab-df-quickchart {\n",
              "      --bg-color: #3B4455;\n",
              "      --fill-color: #D2E3FC;\n",
              "      --hover-bg-color: #434B5C;\n",
              "      --hover-fill-color: #FFFFFF;\n",
              "      --disabled-bg-color: #3B4455;\n",
              "      --disabled-fill-color: #666;\n",
              "  }\n",
              "\n",
              "  .colab-df-quickchart {\n",
              "    background-color: var(--bg-color);\n",
              "    border: none;\n",
              "    border-radius: 50%;\n",
              "    cursor: pointer;\n",
              "    display: none;\n",
              "    fill: var(--fill-color);\n",
              "    height: 32px;\n",
              "    padding: 0;\n",
              "    width: 32px;\n",
              "  }\n",
              "\n",
              "  .colab-df-quickchart:hover {\n",
              "    background-color: var(--hover-bg-color);\n",
              "    box-shadow: 0 1px 2px rgba(60, 64, 67, 0.3), 0 1px 3px 1px rgba(60, 64, 67, 0.15);\n",
              "    fill: var(--button-hover-fill-color);\n",
              "  }\n",
              "\n",
              "  .colab-df-quickchart-complete:disabled,\n",
              "  .colab-df-quickchart-complete:disabled:hover {\n",
              "    background-color: var(--disabled-bg-color);\n",
              "    fill: var(--disabled-fill-color);\n",
              "    box-shadow: none;\n",
              "  }\n",
              "\n",
              "  .colab-df-spinner {\n",
              "    border: 2px solid var(--fill-color);\n",
              "    border-color: transparent;\n",
              "    border-bottom-color: var(--fill-color);\n",
              "    animation:\n",
              "      spin 1s steps(1) infinite;\n",
              "  }\n",
              "\n",
              "  @keyframes spin {\n",
              "    0% {\n",
              "      border-color: transparent;\n",
              "      border-bottom-color: var(--fill-color);\n",
              "      border-left-color: var(--fill-color);\n",
              "    }\n",
              "    20% {\n",
              "      border-color: transparent;\n",
              "      border-left-color: var(--fill-color);\n",
              "      border-top-color: var(--fill-color);\n",
              "    }\n",
              "    30% {\n",
              "      border-color: transparent;\n",
              "      border-left-color: var(--fill-color);\n",
              "      border-top-color: var(--fill-color);\n",
              "      border-right-color: var(--fill-color);\n",
              "    }\n",
              "    40% {\n",
              "      border-color: transparent;\n",
              "      border-right-color: var(--fill-color);\n",
              "      border-top-color: var(--fill-color);\n",
              "    }\n",
              "    60% {\n",
              "      border-color: transparent;\n",
              "      border-right-color: var(--fill-color);\n",
              "    }\n",
              "    80% {\n",
              "      border-color: transparent;\n",
              "      border-right-color: var(--fill-color);\n",
              "      border-bottom-color: var(--fill-color);\n",
              "    }\n",
              "    90% {\n",
              "      border-color: transparent;\n",
              "      border-bottom-color: var(--fill-color);\n",
              "    }\n",
              "  }\n",
              "</style>\n",
              "\n",
              "  <script>\n",
              "    async function quickchart(key) {\n",
              "      const quickchartButtonEl =\n",
              "        document.querySelector('#' + key + ' button');\n",
              "      quickchartButtonEl.disabled = true;  // To prevent multiple clicks.\n",
              "      quickchartButtonEl.classList.add('colab-df-spinner');\n",
              "      try {\n",
              "        const charts = await google.colab.kernel.invokeFunction(\n",
              "            'suggestCharts', [key], {});\n",
              "      } catch (error) {\n",
              "        console.error('Error during call to suggestCharts:', error);\n",
              "      }\n",
              "      quickchartButtonEl.classList.remove('colab-df-spinner');\n",
              "      quickchartButtonEl.classList.add('colab-df-quickchart-complete');\n",
              "    }\n",
              "    (() => {\n",
              "      let quickchartButtonEl =\n",
              "        document.querySelector('#df-8c8cc563-ccec-4dd7-9b7f-58881d607524 button');\n",
              "      quickchartButtonEl.style.display =\n",
              "        google.colab.kernel.accessAllowed ? 'block' : 'none';\n",
              "    })();\n",
              "  </script>\n",
              "</div>\n",
              "    </div>\n",
              "  </div>\n"
            ]
          },
          "metadata": {},
          "execution_count": 62
        }
      ]
    },
    {
      "cell_type": "markdown",
      "source": [
        "### Question 4\n",
        "\n",
        "Use the function <code>boxplot</code> in the seaborn library  to  determine whether houses with a waterfront view or without a waterfront view have more price outliers.\n"
      ],
      "metadata": {
        "id": "2H-WbTiabnk5"
      }
    },
    {
      "cell_type": "code",
      "source": [
        "sns.boxplot(x = \"waterfront\", y = \"price\", data = df)"
      ],
      "metadata": {
        "colab": {
          "base_uri": "https://localhost:8080/",
          "height": 482
        },
        "id": "7GLo70Lmbnk6",
        "outputId": "623a3d6d-1f9b-4aa4-adf3-5343d61b3516"
      },
      "execution_count": null,
      "outputs": [
        {
          "output_type": "execute_result",
          "data": {
            "text/plain": [
              "<Axes: xlabel='waterfront', ylabel='price'>"
            ]
          },
          "metadata": {},
          "execution_count": 36
        },
        {
          "output_type": "display_data",
          "data": {
            "text/plain": [
              "<Figure size 640x480 with 1 Axes>"
            ],
            "image/png": "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\n"
          },
          "metadata": {}
        }
      ]
    },
    {
      "cell_type": "markdown",
      "source": [
        "### Question 5\n",
        "\n",
        "Use the function <code>regplot</code>  in the seaborn library  to  determine if the feature <code>sqft_above</code> is negatively or positively correlated with price.\n"
      ],
      "metadata": {
        "id": "CwrUIyfRbnlC"
      }
    },
    {
      "cell_type": "code",
      "source": [
        "sns.regplot(x = \"sqft_above\", y = \"price\", data=df)"
      ],
      "metadata": {
        "colab": {
          "base_uri": "https://localhost:8080/",
          "height": 482
        },
        "id": "QkOtImL_bnlC",
        "outputId": "1857897d-5893-4923-9500-ee7400ae6ed3"
      },
      "execution_count": null,
      "outputs": [
        {
          "output_type": "execute_result",
          "data": {
            "text/plain": [
              "<Axes: xlabel='sqft_above', ylabel='price'>"
            ]
          },
          "metadata": {},
          "execution_count": 37
        },
        {
          "output_type": "display_data",
          "data": {
            "text/plain": [
              "<Figure size 640x480 with 1 Axes>"
            ],
            "image/png": "iVBORw0KGgoAAAANSUhEUgAAAioAAAHACAYAAACMB0PKAAAAOXRFWHRTb2Z0d2FyZQBNYXRwbG90bGliIHZlcnNpb24zLjcuMSwgaHR0cHM6Ly9tYXRwbG90bGliLm9yZy/bCgiHAAAACXBIWXMAAA9hAAAPYQGoP6dpAACZWElEQVR4nOzdeXycV30v/s85zzb7aLcsW3ZiO4tjOyGQjSQk0BsIaS4ltKWFhpIE6KVpWEoKvU0KlJTFrClcCr5p4IaEJSlpCVB+hQChOFBnJ4kVx/GaxIskS7Kk2efZzvn98TzPaEYaSSNZ0szI3/frlVJLo5lnRvac75zzXZiUUoIQQgghpAHxel8AIYQQQsh0KFAhhBBCSMOiQIUQQgghDYsCFUIIIYQ0LApUCCGEENKwKFAhhBBCSMOiQIUQQgghDYsCFUIIIYQ0LApUCCGEENKwKFAhhBBCSMNaNoHKww8/jDe96U3o6ekBYww//OEP53wfUkp88YtfxOmnnw7DMLBq1Sp8+tOfXviLJYQQQkhN1HpfwELJ5XI455xz8K53vQt/+Id/OK/7+OAHP4if//zn+OIXv4gtW7ZgdHQUo6OjC3ylhBBCCKkVW45DCRljeOCBB3DNNdeUvmaaJv7+7/8e9957L8bHx7F582Z87nOfw2tf+1oAwO7du3H22WfjueeewxlnnFGfCyeEEEJIhWVz9DOb973vfXjkkUdw3333YefOnXjrW9+KN77xjdi3bx8A4D/+4z+wbt06/OQnP8Gpp56KU045Be95z3toR4UQQgipo5MiUDl06BDuuusu3H///XjNa16D9evX48Mf/jAuvfRS3HXXXQCAgwcP4uWXX8b999+Pe+65B9/61rfw1FNP4Y//+I/rfPWEEELIyWvZ5KjMpK+vD67r4vTTT6/4ummaaG9vBwAIIWCaJu65557S7b75zW/iVa96Ffbs2UPHQYQQQkgdnBSBSjabhaIoeOqpp6AoSsX3YrEYAGDlypVQVbUimNm4cSMAb0eGAhVCCCFk6Z0Ugcq5554L13UxNDSE17zmNVVvc8kll8BxHBw4cADr168HAOzduxcAsHbt2iW7VkIIIYRMWDZVP9lsFvv37wfgBSa33347Xve616GtrQ1r1qzBO97xDvz3f/83vvSlL+Hcc8/F8PAwHnroIZx99tm4+uqrIYTA+eefj1gshi9/+csQQuCmm25CIpHAz3/+8zo/O0IIIeTktGwClV//+td43eteN+Xr1113Hb71rW/Btm186lOfwj333IOjR4+io6MDF110EW677TZs2bIFANDf34/3v//9+PnPf45oNIqrrroKX/rSl9DW1rbUT4cQQgghWEaBCiGEEEKWn5OiPJkQQgghzYkCFUIIIYQ0rLpW/biui0984hP4zne+g8HBQfT09OD666/HRz/6UTDGZv15IQT6+/sRj8druj0hhBBC6k9KiUwmg56eHnA+855JXQOVz33uc9i2bRvuvvtubNq0CU8++SRuuOEGJJNJfOADH5j15/v7+9Hb27sEV0oIIYSQhXb48GGsXr16xtvUNVDZsWMH3vzmN+Pqq68GAJxyyim499578fjjj9f08/F4HID3RBOJxKJdJyGEEEIWTjqdRm9vb2kdn0ldA5WLL74Y//Iv/4K9e/fi9NNPx7PPPovf/va3uP3222v6+eC4J5FIUKBCCCGENJla0jbqGqj83d/9HdLpNM4880woigLXdfHpT38a1157bdXbm6YJ0zRLf06n00t1qYQQQgipg7pW/Xz/+9/Hd7/7XXzve9/D7373O9x999344he/iLvvvrvq7bdu3YpkMln6j/JTCCGEkOWtrg3fent78Xd/93e46aabSl/71Kc+he985zt44YUXpty+2o5Kb28vUqkUHf0QQgghTSKdTiOZTNa0ftf16Cefz08pS1IUBUKIqrc3DAOGYSzFpRFCCCGkAdQ1UHnTm96ET3/601izZg02bdqEp59+Grfffjve9a531fOyCCGEENIg6nr0k8lk8LGPfQwPPPAAhoaG0NPTg7e//e34+Mc/Dl3XZ/35uWwdEUIIIaQxzGX9buqhhBSoEEIIIc1nLus3zfohhBBCSMOiQIUQQgghDauuybSEEELIyUYIiV39aYzmLbRFdGzqSYBzGqw7HQpUCCGEkCWyY/8Itm0/gANDWdiuhKYwrO+K4cbL1+PiDR31vryGREc/hBBCyBLYsX8Etz7Qh90DaUQNFV1xA1FDxe6BDG59oA879o/U+xIbEgUqhBBCyCITQmLb9gPImg66EyGENAWcM4Q0Bd0JA1nTxbbtByBE0xbiLhoKVAghhJBFtqs/jQNDWbRG9CkTgxljaIloODCUxa5+GrY7GQUqhBBCyCIbzVuwXQldqb7sGgqHLSRG89YSX1njo0CFEEIIWWRtER2awmC51WfZma6AxhnaIrN3ZT/ZUKBCCCGELLJNPQms74phLG9jckN4KSXG8zbWd8WwqYe6rE9GgQohhBCyyDhnuPHy9YgZCgbTJgq2CyEkCraLwbSJmKHgxsvXUz+VKihQIYQQQpbAxRs68Jm3bMHGlXHkTQdDWRN508HGlXF85i1bqI/KNKjhGyGEELJELt7QgYvWtVNn2jmgQIUQQghZQpwzbFmdrPdlNA06+iGEEEJIw6JAhRBCCCENiwIVQgghhDQsClQIIYQQ0rAoUCGEEEJIw6JAhRBCCCENiwIVQgghhDQsClQIIYQQ0rAoUCGEEEJIw6JAhRBCCCENiwIVQgghhDQsClQIIYQQ0rAoUCGEEEJIw6JAhRBCCCENiwIVQgghhDQsClQIIYQQ0rDUel8AIYQQciKEkNjVn8Zo3kJbRMemngQ4Z/W+LLJAKFAhhBDStHbsH8G27QdwYCgL25XQFIb1XTHcePl6XLyho96XRxYAHf0QQghpSjv2j+DWB/qweyCNqKGiK24gaqjYPZDBrQ/0Ycf+kXpfIlkAdQ1UTjnlFDDGpvx300031fOyCCGENDghJLZtP4Cs6aA7EUJIU8A5Q0hT0J0wkDVdbNt+AELIel8qOUF1DVSeeOIJDAwMlP77xS9+AQB461vfWs/LIoQQ0uB29adxYCiL1ogOxirzURhjaIloODCUxa7+dJ2ukCyUuuaodHZ2Vvz5s5/9LNavX4/LL7+8TldECCGkGYzmLdiuhK5U/7xtKBwpITGat5b4yshCa5gcFcuy8J3vfAfvete7pkTHhBBCSLm2iA5NYbBcUfX7piugcYa2iL7EV0YWWsNU/fzwhz/E+Pg4rr/++mlvY5omTNMs/Tmdpi09Qgg5GW3qSWB9Vwy7BzLoTvCKD7hSSoznbWxcGcemnkQdr5IshIbZUfnmN7+Jq666Cj09PdPeZuvWrUgmk6X/ent7l/AKCSGENArOGW68fD1ihoLBtImC7UIIiYLtYjBtImYouPHy9cuqn4oQEn1HUti+dxh9R1InTaIwk1LW/Zm+/PLLWLduHX7wgx/gzW9+87S3q7aj0tvbi1QqhUSComZCCDnZVPRRERIaX559VJZbv5h0Oo1kMlnT+t0QRz933XUXurq6cPXVV894O8MwYBjGEl0VIYSQRnfxhg5ctK59WXemDfrFZE0HrREdusJhuaLUL+Yzb9nSlMFKreoeqAghcNddd+G6666Dqtb9cgghhDQZzhm2rE7W+zIWxeR+MUEuTogr6E5wDKZNbNt+ABeta19WwVm5uueo/PKXv8ShQ4fwrne9q96XQgghhDQU6hfTADsqb3jDG9AAaTKEEEJIw6F+MQ2wo0IIIYSQ6qhfDAUqhBBCSMMK+sWM5e0ppw9Bv5j1XbFl3S+GAhVCCCGkQZ2M/WImo0CFEEIIaWAXb+jAZ96yBRtXxpE3HQxlTeRNBxtXxpd9aTLQAMm0hBBCCJnZydAvZjoUqBBCCCFNYDn3i5kJHf0QQgghpGFRoEIIIYSQhkWBCiGEEEIaFgUqhBBCCGlYFKgQQgghpGFRoEIIIYSQhkWBCiGEEEIaFgUqhBBCCGlYFKgQQgghpGFRoEIIIYSQhkWBCiGEEEIaFgUqhBBCCGlYFKgQQgghpGFRoEIIIYSQhkWBCiGEEEIaFgUqhBBCCGlYFKgQQgghpGFRoEIIIYSQhkWBCiGEEEIaFgUqhBBCCGlYFKgQQgghpGFRoEIIIYSQhkWBCiGEEEIaFgUqhBBCCGlYFKgQQgghpGFRoEIIIYSQhkWBCiGEEEIaVt0DlaNHj+Id73gH2tvbEQ6HsWXLFjz55JP1vixCCCGENAC1ng8+NjaGSy65BK973evw05/+FJ2dndi3bx9aW1vreVmEEEIIaRB1DVQ+97nPobe3F3fddVfpa6eeemodr4gQQgghjaSuRz8//vGPcd555+Gtb30rurq6cO655+LOO++s5yURQgghpIHUNVA5ePAgtm3bhtNOOw0PPvggbrzxRnzgAx/A3XffXfX2pmkinU5X/EcIIYSQ5YtJKWW9HlzXdZx33nnYsWNH6Wsf+MAH8MQTT+CRRx6ZcvtPfOITuO2226Z8PZVKIZFILOq1EkIIIWRhpNNpJJPJmtbvuu6orFy5EmeddVbF1zZu3IhDhw5Vvf0tt9yCVCpV+u/w4cNLcZmEEEIIqZO6JtNecskl2LNnT8XX9u7di7Vr11a9vWEYMAxjKS6NEEIIIQ2grjsqH/rQh/Doo4/iM5/5DPbv34/vfe97+Jd/+RfcdNNN9bwsQgghhDSIugYq559/Ph544AHce++92Lx5Mz75yU/iy1/+Mq699tp6XhYhhBBCGkRdk2lP1FyScQghhBDSGJommZYQQgghZCYUqBBCCCGkYVGgQgghhJCGRYEKIYQQQhoWBSqEEEIIaVgUqBBCCCGkYVGgQgghhJCGRYEKIYQQQhpWXWf9EEIImZkQErv60xjNW2iL6NjUkwDnrN6XRciSoUCFEEIa1I79I9i2/QAODGVhuxKawrC+K4YbL1+Pizd01PvyCFkSdPRDCCENaMf+Edz6QB92D6QRNVR0xQ1EDRW7BzK49YE+7Ng/Uu9LJGRJUKBCCCENRgiJbdsPIGs66E6EENIUcM4Q0hR0JwxkTRfbth+AEE07qo2QmlGgQgghDWZXfxoHhrJojehgrDIfhTGGloiGA0NZ7OpP1+kKCVk6FKgQQkiDGc1bsF0JXan+Fm0oHLaQGM1bS3xlhCw9ClQIIaTBtEV0aAqD5Yqq3zddAY0ztEX0Jb4yQpYeBSqEENJgNvUksL4rhrG8DSkr81CklBjP21jfFcOmnkSdrpCQpUOBCiGENBjOGW68fD1ihoLBtImC7UIIiYLtYjBtImYouPHy9dRPhZwUKFAhhJAGdPGGDnzmLVuwcWUcedPBUNZE3nSwcWUcn3nLlgXvoyKERN+RFLbvHUbfkRRVFJGGQQ3fCCGkQV28oQMXrWtf9M601FiONDImJx+ANpF0Oo1kMolUKoVEgs5qCSFkroLGclnTQWtEh65wWK7AWN5GzFAWZfeGkLms33T0QwhpOnRMsTCosRxpBnT0QwhpKnRMsXDm0lhuy+pkna6SnOxoR4UQ0jRo/s3CosZypBlQoEIIaQp0TLHwqLEcaQYUqBBCmgLNv1l41FiONAMKVAghTYGOKRYeNZYjzYACFUJIU6BjisWx1I3lCJkrqvohhDSF4Jhi90AG3QlecfwTHFNsXBmnY4p5WKrGcoTMBwUqhJCmEBxT3PpAHwbTJloiGgyFw3QFxv3mZM10TCGEbKjAgHNGJcikIVGgQghpGsExRdBHJSUkNM6wcWW8qfqoUC8YQmpHLfQJIU2n0XYj5oJa1hMyt/WbdlQIIU2nWY8pJveCCfJsQlxBd4JjMG1i2/YDuGhde9MEXoQsNqr6IYSQJUK9YAiZu7oGKp/4xCfAGKv478wzz6znJRFCyKKhXjCEzF3dj342bdqEX/7yl6U/q2rdL4kQQhZFeS+YEFemfJ96wRAyVd2jAlVV0d3dXe/LIISQRUe9YAiZu7rnqOzbtw89PT1Yt24drr32Whw6dKjel0QIIYuCWtYTMnd1LU/+6U9/imw2izPOOAMDAwO47bbbcPToUTz33HOIx+NTbm+aJkzTLP05nU6jt7eXypMJIU2loo+K3wuG+qiQk8lcypMbqo/K+Pg41q5di9tvvx3vfve7p3z/E5/4BG677bYpX6dAhRDSbJq5FwwhJ6ppAxUAOP/883HFFVdg69atU75HOyqEEEJI85tLoFL3HJVy2WwWBw4cwMqVK6t+3zAMJBKJiv8IIYQQsnzVNVD58Ic/jO3bt+Oll17Cjh078Ja3vAWKouDtb397PS+LEEIIIQ2iruXJR44cwdvf/nYcP34cnZ2duPTSS/Hoo4+is7OznpdFCCGEkAZR10Dlvvvuq+fDE0IIIaTBNVSOCiGEEEJIOQpUCCGEENKwKFAhhBBCSMOq+6wfQggpR43QCCHlKFAhhDSMitbyroSmUGt5Qk52dPRDCGkIO/aP4NYH+rB7II2ooaIrbiBqqNg9kMGtD/Rhx/6Rel8iIaQOKFAhhNSdEBLbth9A1nTQnQghpCngnCGkKehOGMiaLrZtPwAhGmriByFkCVCgQgipu139aRwYyqI1ooOxynwUxhhaIhoODGWxqz9dpyskhNQLBSqEkLobzVuwXQldqf6WZCgctpAYzVtLfGWEkHqjQIUQUndtER2awmC5our3TVdA4wxtEX2Jr4wQUm8UqBBC6m5TTwLru2IYy9uQsjIPRUqJ8byN9V0xbOqhiemEnGwoUCGE1B3nDDdevh4xQ8Fg2kTBdiGERMF2MZg2ETMU3Hj5euqnMokQEn1HUti+dxh9R1JwHFHxZ0o+JssB9VEhhDSEizd04DNv2VLqo5ISEhpn2LgyTn1Uqpjcc0ZIAVcCCmPgjFEPGrJsMDl5n7WJpNNpJJNJpFIpJBK0JUzIckCdaWcX9JzJmg5aIzosR6A/VYDjSiicYVVrGLrCMZa3ETMUfOYtWyhYIQ1lLus37agQQhoK5wxbVifrfRkNa3LPGQAYSBUgJKCrDK4AjmctnNIRQXfCwGDaxLbtB3DRunYK+EhTohwVQghpIpN7zhRtAdMRUDkDZxwKZzAdF0VLUA8asixQoEIIIU1kcs8ZRwhICQR7JYwBUnpfB6gHDWl+FKgQQkgTmdxzRuXcC07870vpBSsq997eqQcNaXYUqBBCSBOZ3HMmpHEYKocj/MofIWGoCkI6px40ZFmgQIUQQprI5J4zRUegPWqAM8ByvH2V9piOoi2oBw1ZFihQIYSQJhP0nNm4Mo686SBvu0iEVCQjGpJhDXnLRd50sHFlnEqTSdOj8mRCCGlCF2/owEXr2it6zmzsjmP3YIZ60JBlhQIVQghpUtV6zlAPGrLc0NEPIYQQQhoW7agQQsgMqKU/IfVFgQohhExj8uA/GvRHyNKjox9CCKkiGPy3eyCNqKGiK24gaqjYPZDBrQ/0Ycf+kXpfIiEnBQpUCCFkksmD/0KaAs4ZQpqC7oSBrOli2/YDEKJph88T0jQoUCGEkEkmD/4rR4P+CFla8w5Uvv3tb+OSSy5BT08PXn75ZQDAl7/8ZfzoRz9asIsjhJB6mDz4bzIa9EfI0plXoLJt2zbcfPPN+P3f/32Mj4/DdV0AQEtLC7785S8v5PURQsiSmzz4bzIa9EfI0plXoPLVr34Vd955J/7+7/8eiqKUvn7eeeehr69vwS6OEELqYfLgv3I06I+QpTWvQOXFF1/EueeeO+XrhmEgl8ud8EURQkg9TR78V7BdCCFRsF0a9EfIEptXoHLqqafimWeemfL1n/3sZ9i4ceOJXhMhhNTd5MF/Q1lzxkF/Qkj0HUlh+95h9B1JUUUQIQtkXg3fbr75Ztx0000oFouQUuLxxx/Hvffei61bt+Ib3/jGvC7ks5/9LG655RZ88IMfpDwXQkhDqDb4r1pnWmoMR8jimVeg8p73vAfhcBgf/ehHkc/n8Wd/9mfo6enBV77yFbztbW+b8/098cQTuOOOO3D22WfP53IIIWTRVBv8Vy5oDJc1HbRGdOgKh+WKUmO4arsvhJDazbs8+dprr8W+ffuQzWYxODiII0eO4N3vfvec7yebzeLaa6/FnXfeidbW1vleDiGELDlqDEfI4pt3Mu2+ffsAAJFIBF1dXQCAffv24aWXXprTfd100024+uqrccUVV8x6W9M0kU6nK/4jhJB6ocZwhCy+eQUq119/PXbs2DHl64899hiuv/76mu/nvvvuw+9+9zts3bq1pttv3boVyWSy9F9vb2/Nj0UIIQuNGsMRsvjmFag8/fTTuOSSS6Z8/aKLLqpaDVTN4cOH8cEPfhDf/e53EQqFavqZW265BalUqvTf4cOH53LZhBCyoCY3hpOQKFguMkUbBcuF6brUGI6QEzSvZFrGGDKZzJSvp1KpUpfa2Tz11FMYGhrCK1/5ytLXXNfFww8/jH/+53+GaZoVzeQAr0+LYRjzuWRCCFlwQWO43QMZxAyBkawF03Hh9YiTYIzhzO44NYYj5ATMa0flsssuw9atWyuCEtd1sXXrVlx66aU13cf/+B//A319fXjmmWdK/5133nm49tpr8cwzz0wJUgghpNEEjeEUDhwazaNgOWAAOAekBFwhMZQx8ejB4/W+VEKa1rx2VD73uc/hsssuwxlnnIHXvOY1AIDf/OY3SKfT+NWvflXTfcTjcWzevLnia9FoFO3t7VO+TghpDELIWXuKLIfHnIuL1rWjK25gNOfloQgJMABhXUFHbKLy56J17Q113YQ0i3kFKmeddRZ27tyJf/7nf8azzz6LcDiMd77znXjf+96Htra2hb5GQkgDqEdTs2ZopLarP43jWQtr2yIAGBwhoHKOkMbBGIOq8FLlz0z9WAgh1TE5eeJWE0mn00gmk0ilUkgk6AyYkMUyXVOzsbyNmKEsSlOzejzmfGzfO4wPf/9ZdMWNqjsmQkgMZU188a3n4PLTO+twhYQ0nrms3zXvqOzcuRObN28G5xw7d+6c8bbUYZaQ5WNyU7OgX0iIK+hOcAymzQU/2qjHY85XeeVPiE/NrTNdQZU/hJyAmgOVV7ziFRgcHERXVxde8YpXgDE2Zfw54FUE1Vr5Q8jJptHzLaqZS1OzhTraqMdjzld55U93gldcr5QS43kbG1dS5Q8h81VzoPLiiy+is7Oz9P8TQuamGfItqqmlqVlqgZua1eMx5yuo/Ln1gT4Mpk20RDQYCofpCoz7x1Q3Xr6+4QNSQhpVzYHK2rVrAQC2beO2227Dxz72MZx66qmLdmGELCf1GlxXvoPTEtYAAOMFe067OfU42mi245SLN3TgM2/ZUgpEU0JC4wwbV8YbPhAlpNHNuepH0zT8+7//Oz72sY8txvUQsuzUK9+ifAcnZ7oo2C4YA0Kagqiu1Lybs9RHG0JICCnRGtVxdLyAVS0hcDaxs7IUxynzOaK7eEMHLlrX3nRHe4Q0unmVJ19zzTX44Q9/iA996EMLfT2ELDvT5VtISBRtAV1heGEgg76jKZzT27Igj1m+g2OoHAXbgetP8M0LiZih1rybs5RHG5ODq6zlYO+xLLriIbSEtSU5TjmRIzrOWd1zZghZbuYVqJx22mn4x3/8R/z3f/83XvWqVyEajVZ8/wMf+MCCXBwhy0G1fIus6WA4Y8J0XAghIQH8/QN9uPX3N57wMUH5Ds6KuIGXR/NwJaApHGCA40qkCjbWtodxLG3VtJuzFEcbk4/HWiM6xgsWhjImBtNFZE0HUV1Z1OOUeh3REUKmN68+KjPlpjDGcPDgwRO6qFpRHxXSDPqOpPDebz+JqKEipCnImg6OjhUgpITCGSQkhABihoqWiIZPXbMZybA+7+OD8seTEnh5NAfOGLi/myOkd7Syti0KMCBvOrjjz8+raSdgsaqWhJC47q7HsXsgXXE85n1P4Oh4Eatbw/j0W7Zgy6rkouykzHQNUkoMpk1sXBnH3TdcQMc5hJygRemjUq686ieIcyaXEBJCPOU5HisSDMMZE0JKqAoDJOAIIKxxrGoJ4fBYEe+792lENGXelUHlOzg5y4GUQPk/T8YAKQBHCER1dU7VM4t1tDFTOTLnHB1+i3rO2KIFCc1UEk3IyWReQwkB4Jvf/CY2b96MUCiEUCiEzZs34xvf+MZCXhshy0KQ4xEzFBwdL6JoO+DMG1pnCwmFMXTGQ8jbAgXbQbpgQ+EMXXED0bJckh37R2p6vPKKGZVzLzAp+34QuKicN0z1TC3lyPYilyM3wjUQQqaaV6Dy8Y9/HB/84Afxpje9Cffffz/uv/9+vOlNb8KHPvQhfPzjH1/oaySk6QU5HqtawhAS/n/S20lpDSOqKxjOFCGkBAOgcG/nIKQp6E5MDLYTYvaT2mAHZyxvw1AZDJXDERJSSkhIuELCUBUYGsN43sb6rljdm5GVB1fVLEVA1QjXQAiZal6ByrZt23DnnXdi69at+IM/+AP8wR/8AbZu3Yp/+Zd/wde//vWFvkZCloUgWGmL6uiKG1jbFsUp7VHEDBVFW8B0ROloQ+UT/zQnHzvMpnwH51jGQiKsQWGA7QrYjgADkAxrOJa2GqYZWXlwNTltLihHXuyAqhGugRAy1bwCFdu2cd555035+qte9So4jnPCF0XIcrVlVRIbVyZgubI0XRfw8kWk9BI6DVVBSK/8pznXY4cgKNq4Mg5IIKyrUDiHqnBEDBVSSmxcGW+YKpby4GowbaJge9VQBdvFYNpckoCqEa6BEDLVvKp+3v/+90PTNNx+++0VX//whz+MQqGAr33tawt2gTOhqh/SjCZKYN1ST5JU0Ub/eAGcMfS2RRAzKvPcC7Y7p+qcwEJ0pl1KFT1M/BLopRwzIITE9x4/hHsfP4ShtAkATTPqgJBmMpf1e96Byj333IPe3l5cdNFFAIDHHnsMhw4dwjvf+U5omla67eRgZiFRoEIW20KU41a7j0cPHq9YkFUGFBwBKSV6WyM1lcY244DDWtTreZUHSZYjAAZ0J0J42wVr8GcXrFkWry0hjWLRA5XXve51Nd2OMYZf/epXc737mlGgQhbTQgwRnOk+JrdbTxUsfPSHz1XstJR3Yi0/pmnWAYeNarpGb2NVXntCyIlb9EClUVCgQhbLQixc87mPWo4+aFFdWNTojZClt+gN3whZzmYbIjiQKuLzD+7BXzsC7TGj6tHEfAcRzjbYrl4DDpczavRGSGOjQIWQSWZauHKWi7zlou/IOD70/WcQ1qpPIT6RxW+m7q+0qC68Whq9zaV7LyFkYc27My0hjUAIib4jKWzfO4y+I6maGqLNZrqFK5jRY7kuACAeUqftHLtYXU4btXvqYvwelkqjNHpr5tdwOaDXv3HRjgppWouVUFq+cIW4AsDLVRjOFOFKr+W9ZICuKH7n2KlHLtXuo9x8F7/Fut+5mFyVkypYuOPhg02b2Fs+i6k7wafkqIznbWxcGV/URm+UHF1f9Po3NtpRIU0pSCjdPZBG1FDnPRenmmodSoPOsQr32t+XN2Wr1jl2sbqc1rt76o79I7jursfx3m8/iQ9//1lcf9djeM89T2LnkfEF/z0slXo3elvMv8tkdvT6Nz4KVEjTmZxQGtKUec/FqabawmW7AkICrivBGUNn3ADDxMI1+chlsRa/ei6qk9/QO2M6CpaAaQvkTReOkAv6e1hK5Z1886aDoayJvOksevfexf67TGZGr39zoKMf0nQWKqF0psZiwcIVbAfnbReQErqqoDsZmtI5ttqRy+T7SPnlxhtXxqtuKdfa6Gyu97sQqlUbFSwXthDQVAYhgOGMiaihgIHNObE3eO4jORPjORutEW3aiqr5XHutr+tMFVeLgZKj64te/+ZAgQqpixPpProQVRq1nEmXL1wjORNf+eU+HBnLI6pX5obMlMdQ6+I31zPypV5Uq72hB/OJFMbAOGA6LoqWQNh/fWqtlgme+/P9KaSLDoS/M5MIaTirJ3FCwddcX9eZKq4WA1Uc1Re9/s2BAhWy5E40ce1EE0qna5gWnEmXb/WXL1yGwnHrA30YTJtVO8dOd+Qy2+I3l+uZy/0upGpv6CrnYAyQgPe/wgteAO93Uktib/DcR3OWd4wlvSBFCIlUwcbOI+MzvgYzme/rupQaITn6ZEavf3OgHBWypBYice1EEkpP5Ex6MfIYmuWMvFoJb0jjMFQOR0gIIcGYF7wAtSX2Bs89U7ThCgkhAY1zqJxDU737cVyJrOnM+TVolte13snRJzt6/ZsDBSpkySzU4nEiCaVzOZOu5uINHbj7hgtwx5+fhy++9Rzc8efn4e4bLpj3J/MTvZ7ZLFRviGpv6IwxdMZDUBhguxIq59AVhvG8hcOjeegKw3svWzftcVTw3CO6CssVUDkrvQYMDAr3AqOwpsz6Gkx+nn1HUzO+rsmwit0DaXz7kZfr2jOj3hVHJzt6/ZsDHf2QJbOQiWvzTShdiDPphTxyWcwz8oXsDRG8oU8++lI4Q0hTwbkLTWHYN5wt5ZioCsMdDx8EZ6zq4wXPXVM4pPSOj8oFx0mMYcYmdtWeZ2tUR8500Vplyz5rOhhKF1GwXdz+y72I6tW7Cy+VeiRHkwn0+jc+ClTIkjmRRbla8m0tc3Emf6/RzqQnX4+ERNEScITwjlGYnNf1LEZ+xnRv6Of0JvGaDe24a8fLAIBkWEPcUGELOePjBc9dSDmR61L2/SB4kRLTvgbTPc+j4wVkLQfjBQttUaN0+6C7sCsEOAPaozoUzuqet1KPiiMygV7/xkaBClky8w0SZtsZqLa7Md3PvPeydXXvQlquvCtqzBAYyVowHRfe6YoEYwxnds/tehZzcGG1N/SN3XHccPcTsF2BNW2R0uMpCmZ8vOC5P9+fhq5wFB0BjXu7axISrpAwVI6C7WLjysSU12Cm57mqJYS9x7IYyphoCWvgnJd1F/bybEKaiohfTt0IAx2XuuKIVKLXv3FRjgpZMvNJXJtP8u1MP/PRHz6Hy07raJgz6eBIReHAodE8CpYDBoBzbyfBFRJDGROPHjxe830udt5L8IZ++emd2LI6id2DmXk9XvDc4yEVCufgDLCFt5tkO14woSoMMUOt+juZ6XlyxtEVD0FI4Oi4d8yTt1wUbQFIQOG8omnfQrwuhJDFQYEKWTJzTVybT/JtLT/z8L4RfOqazUvehbQaISQimoLyNVhIL0gJ6wrWtEXgCsypQmU4U0TGdDCetzCWsyBk5bC92QYXzjUB90QGJQbHSef0JpEIqeCMlXJckmENZ69uqfidlF/bU4fGYDli2sdtCWuIGSpWt4aRNx0cz1kQUiKkKVjVGp7StK9eAx0JITOr69HPtm3bsG3bNrz00ksAgE2bNuHjH/84rrrqqnpeFllEc0lcm0/yba0/kwzruPuGC+p6Jr1j/wi2/nQ3XhjMwHYnggGNA51xA23+c1AVXnOS8Z0PH8D/eWg/MqaDjP+1gRTQGQ+hM+7lasyUhzOfBNwTzfuZ3Fhvus60k68NANJFB4ZWmYdS/rhRXcGn37IFnDE8dWgMX/vVfiQjKsLa1Le+ZumZcSLNEglpRnUNVFavXo3PfvazOO200yClxN133403v/nNePrpp7Fp06Z6XhpZRLUmrs0n+XYuPzOfM+laF4nZbrdj/wg+9P1nMJwxMekUDLYrMZQ2YagKYoZac+XPnQ8fwOd+tgeukGDwklMBwJXAYLoIAOiI6dPm4dSagDv5uW3sjs+a93NmdxxCSmzfO1z19aj2uyh/nMOjedz5m4PIlV2b6boYL1gYSBWhKRzxkDblcTeujGPLqiQ4Z9jUk8BDu49h90AGoYRS9/yk+aApv+RkVNdA5U1velPFnz/96U9j27ZtePTRRylQWeZqCRLm80l9Mat6al0kZrudEBJf//UBjOYsMACaymH5ORlBcOEIiaF0EdHOaE3X7DgCX/v1AbhCQlcZJFjpPgPH0kXYrot4SJuS81FrAq6QEnc8fHDKc7vstA4cHs1X7dqrciBVsHDjd56qeXEtfw0tRyBddCAhsaoljJDm/V7DXMWqljAOjeZxdLyANW0MIVWZtlvwdCXWtXQXbgTN0GmXkMXQMDkqruvivvvuQy6Xw6tf/eqqtzFNE+l0uuI/snzNJ/l2sTpNVkvQjRgK+o6m8KHvP4PvPPoyhJA1Jf/u6k9jz2AGUkqoiteGvlp5rum4KJjurJ12+46k8IUH9yBdsKEqDJxxQFbeF+Ddf1hXqi5otRyZPd+fxkf+bWfV5/bdxw7h2gvXTMn7WZk0IAEMpIrTvh6Tc2J+u2+44jVMhDUI6XW/7R8vIms6pWuLhzSsTIbBGUOqYFfkG33qms2Ih7SKXJt6TUk+Uc3SaZeQxVD38uS+vj68+tWvRrFYRCwWwwMPPICzzjqr6m23bt2K2267bYmvkNTLfD4BL8an5mq7DVnTwXDGRNF2kBLAP/7H8/hpXz/SRWfWXYl3XXoqLFeU+oQweHkotiMgKx4XGMmaaI3qVa+5fNdhvGB7SbiuhJQCrpCotmRlTbfqcwyOzFwhkSnaUDlHSOelqhhdYUgXbYQ1pVSCLCEhHSCqc4wXbGzfO4JvXX8+dg9mMJq30BLW8IUHX8BAqjjt67H1p7uRDGs4OJzzu9sCBUdASoneVu9xMkUbgFcB5ApZmtIMAEVLQOFARFdw0+s2YF1nDG0RHamCVXXnJ9jFaeSeGdWODWnKLzmZ1T1QOeOMM/DMM88glUrh3/7t33Dddddh+/btVYOVW265BTfffHPpz+l0Gr29vUt5uWSJzadr5Il0mqxlkQiahgkpvbJa7n3af/ZIGgXbrViUA+WLyXjOhu7vpATBiuINyoHjCpR/KD61M4a/vfKMKdc8+RiAMSBvuZDwjo0mHtf/f6S3o+K6smqvkMOjeaSLNsbyJgAGxgBDVdAZNxAzVGT8qcbJsFYRqJX3fHnipVHc9+RhvOOitQCAviMpHBzOTbu4GirH8wMZxA0FnfEQdIUjXbSRzpjgjCFnuYgZamn4IcCg+FOaR3MW0gUHpuOWdhF+9Ew//vbKM5Ap2vjoD5+b9YikERf06Y4NL17fQVN+yUmr7oGKruvYsGEDAOBVr3oVnnjiCXzlK1/BHXfcMeW2hmHAMKZm95PlbT6fgOfzM9MvEu2lRULC+0QvpISqMDAwSAkIeGXGOcsrC26NaqXdiECwmLRGNJzRHcdjL1pwXAFN9XYuFMbAFAbH9aKXzT0J/Nt7Xw1VrVycqu3w6CrDYKqIsuKhKUGKwhlWJIwpn7x37B/BnQ97+SdSAqoCAAxF28XRsQJ6WkJIF2xwzhA31EmBGgPj3u6P5Qp89aF9WNcRxcUbOmZMbJaQGM975cLJsF7KO1E4A2fMb87m7ZwEww8LtoDqP9ZQ2gQAr6ybAYai4PBoHrf8YCcSYW1Rmt0ttplyUPYPZSGkaJiOyoQspboHKpMJIWCaZr0vgzSY+VTozOVnZl8kpHdc43if6BXOSoGIhBcU6CqHwhhMx0XREgjrlQtKsJi0xwz81WvXY99QBsMZE7YjoHAGMG/HQwLojOn43288c0qQAlTPJ+GMozMeKlX3lC5s4n/QGTNgqApSRaf0yTsIenKWi1UtYfSPF+EI7whG4YDjt6PviBlQFQZLiCmBGvznr3LAdEQpEJgpsbloCe91ZAxaWSAT7J6wSa9jZzyEo2MFOK6AKwEuAVVlcAWgMI4VyRCiuoIjYwUMpk30toWb6ohk9mRmLwgdzVlYmazcsWuWiiVC5quuybS33HILHn74Ybz00kvo6+vDLbfcgl//+te49tpr63lZ5CQzW6Ki5Qi4UmIsb8F23YoBelJKOH6r92RYhaFyuAKw3cpckMmJvBdv6MA//ckrsKknAVXhcISE43pHSZt6EvinP3lFqUJocvO16XYqOuMG2qMTn6glJnZSuhNeH5XJn7zLg554SMOq1jDCGoeQEq7wFncGhr967Xqc1ZPESNZC0XYqA7Wy16A9ppcCgZkSm23XhSsAQ+UIaRPPI9g9CZJnHeFVLsUMFT0tEws0495OVljjpeZtjDGEdQW2KyAqC55KGrWp2+w5KDoUxqCrvCE6KhOylOq6ozI0NIR3vvOdGBgYQDKZxNlnn40HH3wQr3/96+t5WeQkM9si0RrVMZYzoSkcqaIDQEL4U30dIaEwhs54CJxzJCMaio5AquhAU5UZE3kv3tCBH910KfqOpvDMoXFIBpzb21Lq+zHdUdSVm7qn3alYmQwhbzko2gItEQ1RQ0WLn1dS7ZP35KAnZqiI6lEUba+VPWdeEu2a9ihuvHw9PvT9Z5ASAOfeMVGQExO8BiFVQdrfsZkpsTlVdMC5t8NR/poz/36OjOXhSi+5VwgJ0xXImi7aIhrytkB7VIemeEFO+c+H/SOkou0iajRPU7da+v9wzvDOV6/FjgPHacovOanUNVD55je/Wc+HJwRA5SIhpSwt0ir3FkJvkeB456tPwX/vH8ETL43Ccr18ibDmHbnEDBVSSliOxFkr40iGdRwcnn0x4ZzhnN4WnNPbUvH1mY6iDo3m0R7TMZAypzRYAwBNUUo7KSFNgZRA0XGrBkvVjmeCnQlAQcF2oSscbREdW1Yn8f7fOw3/+B/PQwgJ1z9U0hXvE7+UEqmiDZWhFAhMl9i8uSeJVMHCQMqElLLiOUR1BWFNBef+rKOsWXoNr9zUja//137oKi/ltZTzjqA48raLtkn328hHJLX2/7l0Qyfee9n6hq1YImQxNFyOCiFLLVgkxgsWUgUbpjNROmyoHImw5i8SHXjvZevwvccP4asP7YPpCLTHdIRUb0EPAoFbrtp4QuWvtTRfS4RURHVetQS7Larh2gvX4+F9I1M+eb/3snWl3iK1dpUtX9j/7II1uO/xl/HCYMbbUZFAQUgUU0VwvxdMIqwhVZg4WpkusfnRg8enLSNvi2r41DWbkQzrFT8DAA/uGpz2elMFB2d0x5AuOovS1G2x2teXT9Ge7fdAU37JyYYCFXLS29STQHtMx67+dOkTedCALZi6u6knUVok3nHRWqzriJZ2CdJFByoDVreGceWmFYiHtBNqvFVLz4zjWQt/9boN+NlzA6VZQZrCcMaKGK7a0oPetgguOLUdADBesGfsLTJTV9nJC/ujB49jOGt5JdRyIlFXwmvVrzBvYf3oD5+raKBWbXGdbxn5bH1ybrlqIwDMqzx9JovZvr7Zu+Y2OpqP1NyYnJzl1kTS6TSSySRSqRQSicbayiXNQwiJN3/tt16gApS6xUrpVb1IeMHMj266dErb+V39afx2/wge3DWIoXQRtiu9RFQpoTCvGmeuC9r2vcP48PefRVfcmHaO0FDWxLsuORX/vX8EewYzsFwve5TBq9aZ/LgAqh4ljfmL4LUXrintwNj+wj657X/f0RT+/oE+HBnLIxFScXR8ohw6uMqQxrGuM4pjaQsbV8Zx9w0XzLogzGcRqQgaqlzvfO93pseb6fVbqK62tTwvMjc0H6kxzWX9pkCFnPT6jqTw3m8/Cea3YQ+amAVNz5JhDVJK3PHn503ZFZi8gFmuwNGxAlzhle/2JMPQVV7TghYsrLNN+S3YLsZyJnTVq3CZ7XGjund8NblDLODtfgymTWxcGcdd1010lS1f2IM3+hcGMjie85qxaQqH5brgflVQcJdCSqxtiwIMyJtO1ddsoSzVp2QhJK6763HsHkjP+PrVEpTV+nj06X9hLFWASeZuLus3Hf2Qk16QTNsV19Ea1VC0ypJpdQ4pgKGsOaWkdXIuCZg30wYAdJXBEcDxnIlT2qPoThgzNhurNoRvvGBhVUt4ylTgsZwFVwK2K2p63KC3SGfcQNZ0Ktrjl/cW2T2YmTEQ0xUOBoD73WGF9P5/RQn6yUhIAThCIKqr03ZKXaiFeKlyNZa6fT3loCyMWgdtNmLzP1KJAhVy0ptccRFUvASKrlu1pHXyAlaw3FIzOM4YVC5hOgJF22taNt2CNvlTX2uEw9AsDKSKODSax8pkGC1hrZSvoPvTlmt9XO43YhsYL3h9USa1x5+u/frkN/qiLcD9/ikqByzX65+icOmXP09U3UxXBtyM2/C1lA5T+/rGQ/ORlo+GmZ5MCICqDc4W23wnLk9ewBwhKprBMfh5Ln73sfJmY8Hz/PULQ/j8g3uQKdoVzebaogbWtEWgcIaRrImhzMSU33e+ei04YzU9btZ0kC54Q/0Ygz9deaI9ftZ0pg0qJr/Rh3QOQ1XgCukHLF4SrZASEl7PE0NVYGis6mtWy2TpRlQeyFbTqL1ZTna1BJiN2PyPTEU7KqRhLOan7ZmOG6ZWXKgQwmsalrddtIS1qhUXk3diStVCftAQtNZXufdGGSxoh0fzuO6ux3FgKIuC7SJdsGGoSmkIXyAe0rCmzcubed/rNuAVa1oAAE8fHvfvz0WYq9M+rsIYjmWKpS6t0q/U4YyBKYDjSgyliwjrCjauTMwYiElIFC2BmKHAdFzYrvRa7AvvfpiQ4IwhGdZwLG2VqlQALwdoJGfiK7/c15Tb8HMpHSaNo9beNBRgVhJCoui4KNoCBduFoXJ0xOo7Y48CFdIQZmpwVj7xdr73XS0Aeu9l6yr6dHzqms343M9ewN5jWdj+p2eVc6xuCePgSA62kBVBzuQFLNhxKNouwCUc4TWEC2m8tKCtTBq48zcHkfOfp6owpAs2TNfF0bE8OmIGdJWXms2FVAVp5iBvu/jiz/dMyWHpiOkwVC9I8prQTTwu4B35MAaEVA4hJGx/jg+DF8wUbBfJWQKx8YJdkWQc7DkJPzDijJU1l5OlMmAApYAsb7nIFG3oVQKyE9mGX4rEUyodbk4UYNZmcmBiOaJiZ3m6HamlRFU/pO4Ws6piugBoKFOE6QhEdaVUytse03EsXYTlCER0FSFNQdF2Sn1DvPbySsUuz8T9u2iJaLCrVN9oKsd4leobMGA8b3uJsFLClV4AwZm3OAbN5kzbrajw0RWOY+kCRnLekQ4HAOYFDgCg+Y9ruQKD6SJUxrC6LQIAGPaft/QfCwy4+fVn4MbXrq/6e5lcti3934nrX+yatgj+6U9fAc5YqV9LeTO3UjWUI3BkvABIb55RMJ+n/LGGsia++NZzcPnpnTX/bhdjB2664IdKh5vP5H+fkwPMk7HqZ7bAJGC7AnsGM9h7LItUwcYnr9m8oNdBVT+kLub76Xaxkt6my/p3bIm86cIREhwMp7SHYLkCLwxm4AqJNW0RxEMasqaDkawN4W8jOK5AxNArdnkuWteO97xmHe59/BCG0t7U72RYK/VRydsuNFdg48o43nDWCvyfh/ZDVzhG85a3k2ILuGV5OEHre8ZYqdlcWFfAGCs9h6zpIF10wf3gRMI/zoEEg7ebkrddSOkd23TEjFJQUD7HxxESritw6TR9RzZ2xyuuy3IEKt7O/B2Vc1a3TOkvM/l1l9ILwBhnEEJiOGMiaiilwYZz3YZfrB242YKfE+k4TJbefJsKLie1BiYFy8XzA2nsPDKOvqMp7B7IwHQm8rL+5g2no6VOx2QUqJAFcSKfbqslvQU5EcFgPNude9JbtQBIwlskJQBNZbCFgOVKBC3LGICRrIWooWA4U4QrJTTu7SRYrgAkQ3fCwECqiI/9sA/Svz2khK5ydCfDeNsFa/C283orepKkChY++9MXcDxnAhIQ/mOpykRSakD4HV6DL1q2wMrSgi9L16Ur/pRhKdEZNxDRFIwXLPS2RfHBK05DW0THFx7c47e7l37FjzfHR0pe2qna1JOo+vvrSoTQP15EW0THSK76a//y8Ty+9/ghvOOitVVfdzDvDdB2Xf94yoXCGEzHRdES/rXMbRt+scpOaw1+FrNChHqoLLyTLcAUwqv6K9jujIFJqmDjuaMp7DySws6jKew7loGY4XzliZfG8PqzVizilU+PAhVywk700+3kpLes6WA4Y5ZyIgDvuODwaH5O11UtACpaolTKywA4UpaqcqT0djOKtotjaRNFW0Dh8BfCiR4hOUsiXbBxvGzxZgB0R8JyC/jGbw5iXUe09Ob42/3DuOeRl5E3HXDG4PpvGhKA7U59Z3CEBGNAWFdhqAxjebv0BlK0BUxHQPV3XTgDhOvNJIoYKhhnGEoX0RE1sGV1En/12tlzKyYf0wS/v4PDOWRNG8oM7+dCAnc+fABbViVLRz/HsyZsV8JyBQZSxbLcFm/qtGTek0kXLZiONycpZqg153nUsgO3/1gGP3qmH20xvaaFqRF6bjRj6XazWM69aWoNTIbSRfSVBSYvH5/9/VRTGDavSuKS9R04tSO6GJdfEwpUyAlZiDf48qS3mCHQP16EkBIKZwCTcFyvBPbOhw9gXUe05jftaln/pVJePlElE1TlBIGDBDCatbxdDwFAlaXkU8sRGMqYcCZ99JDwji9c6QU9W3+6uzRBeThrwhUSIZWDMwbH3yqZvJMSfI0xYEUihJaIhrzpYixvo2i7iBrqlFLkyc9hck+P2ba+L1rXjuvuerzq768zpiNdtKt+yiq/9pdHC3j3t54AY6y0E2M6Lsb8a1A4819vBkuI0v0NZyxwBsTDGq69cE3Nv9fZyk5tR2AkZ+FT/9/zfhfd2Rf8evfcWMxkcrK81BKYSClxeLSAnUdTpaOcY/7R9EyiuoJNq5I4e1USZ69O4vQVcbTHDHTGqeqHNLHgDT6sKTN2PZ3pDT6oqrjlgT4cHS9A+ImogFf+qnCOnpYQsqY7p0+11bL+g1JeIaR/fKLAdl1YroAQsrT4coVB+EGL7QhwBoQ0BWN5qyJICa4i+IojgILtYFd/GomQhnhIhfSDriCJFZN+pvy+VMXL51D9xmqceQt9quAgrClQ/IZtrpRgfgJuWFMQ0itLoMtzPWba+u47kpp2gXarfCqb7todIZAM6xBS4uWRLLKmAym9Trncv1+v38rEc+1tDUMCyFsuvvvYIWzqSda0GM9Udpo1HfSnvGTmiK4gEdJqWvDr2dStEXZzThbNeLRWS2DiCokDw1lvt+RICs8dTWHc7580k9aIhi2rg8CkBad2RL0PiA2GAhVyQn67fxjDWdP/h1N719PJLt7Qgb94zTr843887y3EAmBMIqxxdMZDiBkqVIXP6VNttbJSXfWClYLtggGw4HrD9cqCFABgkODwckm8pmbw8lmcqTspkwXHOSHN6yArhN9eftbr9ZJiBSRUzpEp2jg6XgAkULAcvHjcCwQdt/K+XCGQLTpQGMNw1sK6zmhFImzwWlR7zaZboCWkl3tTo3TRQdZ0/d0d5pUuwzvGUrkEpKw45uKcQVe9LsDJsJxxMa6W5Fut7FRKry+M43pBSjKigYHVtODXs+dGvXdzThbNcrRWS2BiOQK7B9Po8wOT5wfSyFvurPe9MhnC2auT2OLvmKxqCU/5O8cZg+G3RghpCgy1/uXJFKiQeduxfwT3PPIyHL/5V/D3vWA5ODomsKo1DIWzmt/ge9siSIRUJMIahJSlXiLBP6T5fKqtevShMBTsiWoZoDLgCBqcgU00DfF2VuZWyT+Stbxk1xpv7wpACi/BtGA7pfk9K5MhqArHYKpQkYUPACoHTFvgpeN5r6cJgMOjedxw9xNV34AnL/otYa3qAh3k8qh+U7fZcA6ojHlHYGU/oCsKHDGxW8UAaH4SsJcbpMy4GE+3uFx2WgcOj+Yrcm9SRRsF28s/6kqEShVFwOwLfj17blCL/sXXyEdrUspSRU7Rdv2d18r3mqzpYFd/qhSY7DmWqZrfNtm6jmgpKNm8Kln1CEdTOAyVw9AUhDSvF1SjoUCFzEuwXZ0zbTAWLGYTuRyOEDN2Pa2mLaJDVzkUzhCtMjV4vp9qy48+jmdNfPmhfTg4nIEr4B/5eLcLephoCtCdiMCVEqYtvO6u8+g2xDngOnP7GQGvX8lI1oLCWWkooYTE8SyH7bj+fXvzdmwxEQgxAKvbwtAVpeobcLVFf11nDO0xHQMps2KBnhxczPT0GQCVeT/L4O2oWP6uTyKkIGaE/FJvC8F7oHe7iYW52mI80+JyeDSPay9cg4f3jZQCUNcVUDhDT0tlj5aZHiNQz6Zu1EF1cTXa0VotgclozkLf0YnA5OBIdtb3IIUznLEihi2rktiyOonNPUkkwlrFbRhj0FWOUBCYqBxqAzR0mw0FKmRedvWn8Xx/CgW78uO21xDM+//z1vRdT6tZzE+1wdFH35EUhtJFrEiEYWgcRUsgbzkYypils1nL9Up544YKlbtgGa9cuDNuYCxnw5xm5kvF4wEICo9nW+gDDEAipOJt5/fi3393BC1hDWFdLT33vOWWghIhvAoaMO/nFO49nsa97drJb8DTVfa8MJiBwr2fL1+gg6OwoBW/PcO7pMq9nRQhJAT8ZnC+kayFnOUiEdbAOUq3C5Xl1QBTF+NaFpeH943gruvOL5WBj2YtfOHBF6bdmZhtwa9Xzw3qoLq46n20NltgIqXEQKo4EZgcTeHIWGHW+w2pHGf1JEqBycaVCYS1ykCXM69jdLBTUr5D3UwoUCHzMpIzkS46EEE/D3gN0cpbrAPAOy5aW9MbfHAkcfH6duw75n1ijhgqwpoCxoBUwVmQT7WjeQuWIxDSJLJFL+ejNaohXXRQtF0ovHyQoNcNVgCIaAo64gYkUFP2vDd7Z2KxZ3L6YEVhwe29gCoeUsHAYKhBqXbRC1Im3QEDEMQEnE1/nPLskXF8/sE9GM1Z6IwZMDReyt1YEWc4NFpARFfQGvGa3AULdFhXkDNduDOEWd41SDhO9RwcKb0+KqbtgnEO2y+t7owbpaOZaotxrYvL7sFMaXERQuIHTx85oQW/Hj03qEX/4lrqo7XZAhMhJV4ayZVKhfuOpmrKB0uEVGxeNZFfclpXbMpuiKZwL7/Ezy1pxGOc+aBAhczLeM6GCKboMgYFAFe5F6hIQEivDHVlMjzrfZUfSeQsF3nLgeNKpItOqfT2jO4Ybrlq4wl/qj08mvfn5ExMFDZUjpihwXIEHFf4/Um8zrCpgg3OGFoiOhgY4oaGEW76CbKVFD/YAPMWn9LGwgxBCuAFG9y/HWcMq1oi/owdC8MZC64UVbd9y1PnbOEFAJOPU4YtF3/z/Wfx8vEcAPhDxhR0xnWkCw7G8t54gIzp7SpFQyr+55ZuvP2CtXjvt59Ezpw+QS/YKZquOIgBMDSvqsoRgAIJQ/POwxW/Q+10i/F8FpeFWvDr0XODOqgunsU+WpstMHFcgX1DWTx7xNsxea4/hUxx9jPhjpiOs1e3lAKTte2RUk4dUHmM4+2aKAtesdMoVVIUqJB5aY1o4P5iI7n0ypH9qh/JJFzHOzNtjWgz3k95HoKhKsib3i4NZ94/xGRYhSu9qpITtWP/CO78zUGvAkcGJdAMBVvAciy0RjWM5ixIITGU8RJZe5JhrGoxcCxjQ0qJkM4R1lQULAeQlcFC0M5e4wyrW8IYzlrImU5Nxz5BINIS0XD15m58a8eLeK4/VWpTPxuvpJlXHKeMFSxkTQeOV0IF1R8KVLAcvDgy9fVkDMgVHdz/5BG8NJLD4Aw7R+XHWdMdbXEGnNoRhuUAecuB7Up84H9swM+fPzbrYjzfxaWZF/yF2M1plIWlkSz00dpsgUnRDlrRe7slu/vTKNaQkd7bGi6VCm9ZnZwy90zhrHR8E+yYLOYxTiNVSVGgQualPWYgEdKQKtgVVT9SejX9jDEkQhrG8ja27x2u+qZZnoewImHg5eMFv7W9l8xg+2V6a9siOJaxsG37AVxwSltFa/pa34gnkn8drGoJo98vSVa4VzljOwLHsyYMlcNhKO0kHBjOIqwr0BRe+pTeHtNxZNTB5L2G4K3KdiUGUgWsbAkjEVYxlDanlD9PJ2s6eNc9T+ClkRxKqTA1JvImw1rpOEUIgeGMCc684GcwbZamHU+XbhK07ncl8OiLYxXfK3+FJSqDlOBT3OQmeGAMlgOEde9NdShrYk17FHffcMGsi+mJLC7N3DL9RHZzGmlhaSQnutM2W2CSLth4rn/iGGfvsWzF/K6q18SA9Z2xUmCyeVUSbdHKoFtTeEV+ib6EZcKNViVF05PJvAQTj3ceGYfjt0sPuqQG2/WayhFWORyBijfNYBF56tAYvvar/UhGVEAyvDyaA2eVDcKElFjbFgUYMJYz0dsWxVC6WPWNeKZPk31HUnjvt59E1PCmIge5H0Vb+EmgUyl+XxPH9XZ4etsiyJlec7hs0cZs1YEqZ1jVGka26FS0259NVOdIhnUMpmuvNmIAVreGkQhpMF2BkYyJdNGGpjC4QtZUYlzLYwTbJ8FltUY0FG0ByxGlBnFBkzopgVWtYWicl3ZUvnHdeTint6Wmx5s8+VbnDGnTQbrgIGoo+MIfn41LT6tt0vJyN93CMnYSTwmerNbp17MFJsMZsyK/5MWR3KyPrSkMZ3bH/WOcFmzqSSBaVpnGmDctvTwwqVfjtcWcZl+OpieTRVf+KSVrOmjT9NKOSrpoI2d6/SxiIa0iGv/Q959BV9zA8ayFnOkiY9rIW45Xgiu91vYBhonEVimBsbwN281iRSI0JcIvL1WtFsRUz3lgM/Y5cQX85msMjpA4MlZAIqTAFbJqkFLe1h7wkkz7xwulNu6GypGdIecj4JX2ypqClGAHJKJ71zWUNaFxL9k0XfR2u1SFgzFZU9+FmQSlyuVyfgdaYOIIKJhD5EiJobQJ23XhCu8T4hcefAF/9doNFQvDdAFm+THO8/0pL3nbz4vSFIY7Hj4IzthJvwA3Wvlto5pup40xL+G7WmAipffvvjwwCfobzSSiK9jUkyg1VzuzO1GxI6JyXmqqFuRtNUo1Tr2rpKqhQIXM2+R8gOBTCmMMEV3BmrZIxZtmzBA4NJrHaM7C2rYIQpqCnOVV21iuKCVmlhZ8TJTH9qe9N4fOmIGQX4IXvBEfGi3gS7/Yi6iuIKKr0BQOVwrsPDKOD33/Gbz/907DllXJUs6DY0scHSvAFWLaRNCABEqluY6Q0BQFmiKnBBzl/56DBTsZUiH8BNmIrpTyXmZjuxIjmdkri4CJqp+3nrcaf/TKXozmLbSENfzDj3bhEPJQFFbapZJSTD2emaPJr5flSugK83du4A8jlGD+nospvG61msLQGdfxwmC2Yut4tuOKizd0QEiJj/zbToQ1iWTYG0tgu7IUpH7qms1IhvWmO+ZZKI24sDQqzhk2r0qgaAsUbReD6WJFYOIKiYPD2YrAZCw/eyv6lrDfit4PTNZ3xip2RHSVV+SXaA3cu6QRGxBSoEJOyORPKaNZC5//2W7EQlrllqHfkr0sZx0R3es8W7BdCD+BwgsGAEgvMAhrHFJKmI5XrRI2piZW2q6AaQswwP/UPTFXJlVwcNt/7MJpXTGEdQWjOW8qspASisIg5tht1nQF8lV2RYIAq3whV/jEvKBUwUYN7VcmnpPwjlAml3tXo3Dgv/YM4w1ndePy0zvRdySFY+kCQqoC0xXg3MsZUvydoYVmuRIq/M603Pu9BY+i+jtJwRiEYOt42/YDEFLioz98bsZz8IvWteOOhw/CdkVF4KtwlILU9937NCKaUtox6koYePsFa/BnF6ypOX+pGfNZAo24sDSS4Cin6LekLw9MLEdgz2DGD0zGsas/jVwNrei7E6GKxNfe1olW9OUt6IP/baa/T43YgJACFXLCyhMAt+8dhiMw5U0zaMmu+HNgHCHAmILOeMjb3ZDemwdnE63qFc6QCGsYydlg8BYgNunwwcuPcEut272y4MrF2HYlnh/IgDPvTcT1hx7KKiXGs8kW7Gl/ZvJuw1jOBpg3+8hyXKgKm9Pxi5DeMcp0ibjcL92ePLBxNG/BEV6DuoFUEbaQfsVP7Y+t+I9bK8eVEEz6lQnejKP2mI6WsF7RZKr8E/4Xf7531uOKqKFOu1uQs1wUbAeuPxYhb7kwHRcjWRP/8ONd+NcnDs1a0r4cElAbcWGpp5kCk7zlDQwNhve9MJiu6d/kKe0RPzBpwdmrK1vRB6M+GrkF/Vw0YgNCClTIgpruTTPIM2G8sn16zFCxqjWMoXSx1OPDERJSetUikMC6zigOj+arfmK0Xbd0/KGW7RhMLplVWTBcUJa6o86HgHeMIVw567GRP1UABdtvey9r71IbcP0y6mpvpoaqoDXqlX+HtYmBjcHvQFc5VrWGMZwpliY387Kqn2Do4nSCRNyZXqry5yMk0B03oDDg6HgRUV31foeTr1vhOG67OHQ8h/aYMeNxxTOHxqsPTZQSw5kihL/lNJbztucVzqFwCceVeGEwg1t+sBNb//DsqkFHo1U2zFcjLixLaabAZCw/0Yq+72gK+4dmb0XPGXD6injFjJyk34o+6F1SSnxtkhb0c9GIDQgpUCELaro3TS8wkXBdLwAJaRP/uGOGCp4MIVWw8f7XnYZXrGkBAIwX7NK03BvufqLqG3H5p37GGOQ0wQDjDIq/m+L1UOFYEdcxnLVhOe6sFTyAt7BrCveTYyWsGkppND948nJdvPk/cg5HQFJOTGP2dlBYqYqKc68CwXtP9o53frt/GO+9bH3Z78BAtD2Koi3gCK+h3ZHxor+7BHB41TkKB0KagoLl+oGil7RaEdlgaoO3yb1UxnI22mM6GLygsBrTFaWdrdmOK6Sf3zJlaKItvB00xuDACxo1lfk7bgyq4lWMpQpO1UTS5ZSA2ogLy2KaLjCRUuJY2sTOssDk0Gh+1vszVI6NKxM42w9MNvZMtKKf3ILeUPmyeR1n0mj9iChQIQtqujdNMG8hFVKiY9KnaCklUgUbq1sjWNPhdV+cnCcw3RtxquA1LuMoa1lf5bqEkKWKIk3hsF0BTVHQnVRwdCxfMZ+mGuY/N29BlqXhe9PlfDB45dkKY+BcliYKSzF9g7Tguqf7npDeEQv3j2W8PjAMjHsVSq6QuOeRl3HO6papr5fKAdfr0xLSOHSFozNmeDs2/tY1ABwaLUBKiZzlwCzL35kUr0wRfMt0XGSLDuJhzZ/1JKt+wu9ti+BYqjDrccW5vS1VA99ghy7YGVMVVnEsGFSMhXWlaiLpcktAbbSFZSFNF5gIKfHy8XzFjslQDUnoMUPF5lVBYNKC01bESsmty7UF/Xw0Uj8iClTIgpvuTfPM7jiGMiaypgtV4aVgIziaODyaw9/ev7NqnsB097m+K4aDw1nkrYldkWrrqSsB1/UCjERERaogMJy10JUwsDIZLmX/A8EEZQ5dYZBgCGteO/zxvA3HPwopX7Q1xeu1Eqx3CvcSV4OFM6hcArxS6PaoDpUzDKXNiqOXydcdBAcq93aKXD+xVvEDk2Bx9t60gbCmwHIEtm0/gLtvuGCahSuBy07rwHcfO4RU0SkFfUXH+/TdFtXw9vNX40u/3AfL8XJbgrwiUcO2k5SAoXG859JT8d3HDk37Cf/Dbzgddzx8cNbjii2rklWDVO/34L3mQUfkiuvwX/ewpiBjOlMSSZdjAmojLSwnYrrAJGhFXx6Y1NKxuj2me0mvfuLrqR1RcMamtKA3luExzomqxziJaihQIQAWvvJhujfNRw8er1g8hd99Vlc42qLGlDyBoPT0eNbEWN7G9ZecgnTeQWtEQ3vMKB0L7TwyjoLlTukWO1lQgRM1VKzr9JvHCYm2iIaoocIRElnTe/PTFV4KmISU+MvvPFVRlhw0NguSXVV/x0hhlZ/uvWGDXjff41kLQki4/niAVNGZsVNsyM8zcf3rGs1ZXgCheEk3AhKO8B6zM27AERK7jqbwo2f68aazVyJqqPjdoTEMpopYmQjh3LWt2LIqiU09yaqfvt972Trc8fBBhFQFkG4pOJqckDPd7o/KGd7/e6fhHRetrXiM47YLzhh62yL48BtOx6WndYIzVtNxxUXr2vGe16zDfY8fwqBfpq75idaO6y1oUk4EK1LKUsUYY6iaSLpcE1AbZWGZC6+qT6BguSg6Loq28IMVF7sH0qXAZNdAGkV79nPT1a1hLyjxj3JWJkOlqrcgIFmKFvRk4dQ1UNm6dSt+8IMf4IUXXkA4HMbFF1+Mz33uczjjjDPqeVknncWqfKj2plkewBzPmvjyQ/tweDSHlcnwlDyBoPRUYQzp4sQQxERIxVk93idtVeW47LQOPHbwOKwaPvEr/i4F5wzf/4uLsGcoWxFIAagasAkhcUp7FM8PpL374Qzcb9Uq/NHI3ugALwFWgZ8zA++IJqQpiOoKnLCGP3rlahRsF88eHseu/lTVqcilBFV4Q82Cpm5Z05tADAk4/o5CWPOGKo5kTZi2gCMlPv7j53DbT3ZBCIGCLeAKCc4YooaKLauS+KvXrq/ayj44ElmRCMER3igA0xZTApLpjth627xFQghZ6oHyxZ/vxaHjObhC4liqUNGobbbjisl/NxlYqfz4lPYI/v6Hz6F/vADHFaXZTUHg1hEzkCo4VRNJT/YE1HqaLjDJFG08dzRd6mGy91hm1nJ6holW9EFgErSir2cLerKw6tpC/41vfCPe9ra34fzzz4fjOLj11lvx3HPP4fnnn0c0Gp3156mF/okrr3xoiWgQwhuqlbddJMMats6z8qGWHZrytvaGyksJnyrncITA0fFCaY6Q9IMLb2AhQ1hT0RbVcO2Fa/CdR1/G4dHCjBUs5RTuNWj61g0XlgKp4HqDnZuWqIaOqFG67uBaGfN2ZIIqGubvqtiuqOiTEuSwSHgJecHAQ84YQqqCrOWUEk45Q80t7hm8nZy2qI6ooZZeq/7xIlz/vrygZPr7VDjQETPwpbeeM6VR2m/2j+DD338WXXEDedvFkdE8XD9BuZaE47DG0RrRsb4rVjpimq2t+3R/V2ppCy+kxD/8eBdeHMn5ScFeeXQyosFy5Izt4ye36J+8o9MsVT+NbrrAZCRrou9Iykt+PZrCi8O5WSviVP8IOQhMNvckEQupDdWCntRmLut3Q836GR4eRldXF7Zv347LLrts1ttToHJiymc6xAwVI1kLpuNWVJGc2R3Hj266dE7HQLPt0AQL0/a9Q/jGb15EIqRiNG9VLP7CP04RfkmtrvJSPoYtJEJ+iaAAYDsuclbtpTQhlSMWUvGlP3kFLj+9s3S9z/enkS7apd2HsMaxviuOD7/hdLgSpQWcMZSCqswsc3xCKkfMUEu5Dt0Jr7qpaLulacuqH4DVWjEdNILrToagKwxDGQuW65YqggAA/v2VV+UAlX+OGgoSIa3id3Tlpm58/b/2I6IrGEgVULAFFMYgmYQzex8scACGpkBXWelIr7xRm3dps88LqWXeyMqkgWTYS3rNFL1FMMhLiRlqTbuCtc5/qbfFakq3GPdbLTAR/geP8sCkf3z2Ts0MQDyk4uL17bhyUzfO7I7D0JSGbkFPatO0s35SqRQAoK2trer3TdOEaU5kdafT6SW5ruUq2OY3VAX9415PiqCKREoGxxV4fiCD7z1+CO+4aG1N9zn5U7DGGTKmg2cPp/A39z+LGy5ei9/sP44DQ1kUbBepgo3xgg0OQFX9EmJZOUunMjGVQeWA5QpEDbXmVvMASiW5tisBKdEW0UvXO5ozkTMnEnKFlMiY3vHMe+55Em+/YM1EToOmIKwryBTFrMMGHSEwnvd2Ula3hqByBcNZs5S0Zzrza2svgSkzR4Iy4+Boq1olU3CsJAFkTRcRXUVnTIctJHYPpLF/KAtD5TgyXijlA0xXZjzddVmugO1KuMIrf55yDTVU1cxWlWOoHM8PZBA3vKaBrREd6aKNsbwNhQF/8IoeXLiuHfGQVjoyrKYZElAX62h2oe63WmDiuAIvjeTwrJ/02nc0hdEaBnMGeV8xQ0VUV8CZ9/7x3NEU3nzOKqz2R280cgt6svAaJlARQuCv//qvcckll2Dz5s1Vb7N161bcdtttS3xly1dQ+ZC3bAi/sVh5pYqqMFiuxH2PH6qpHfnk3hQ5y/VyHPydkkzRxmd/tgcxQ0U8pHm7N8HPAqUqk8kmfykoPZXTTD2e9vpK1ToSBUdgLG/izt+8iNGchWzRrXpfEt7uyXcfexmndcZwLGOhO+FdUX+qMOtjun73WwXeLkBEVyba7U/a6PYLg2bd/p4urpFSwlBVL6l4UnAx3X0ez5rIWw5ihoaC5WLUtmZ8jJkEfztU7lVBBUFL0RZTGr/NVlUzU1WOhMR43oKQEsmwPpFL43iTsHMWcMf2g7j3scOIGsqsi28jJ6AuVlO6E7nfaoGJ5bjYM5gpzcd5rj+FXA0DOLviRqmp2s+fP4b+sTw64yH/w4l3bBoPqTiWsfC9Jw7hys3dDRVEkqXRMIHKTTfdhOeeew6//e1vp73NLbfcgptvvrn053Q6jd7e3qW4vGUpqGjwWtvzKe3pAQaFAYPpYk39JMo/Becs12+N700fBpNwhBdg5CwHectFtVPHarsLApXBSlB66vg/P1uH1WoYgP/9733ImQ6ypjPrz1uOxMGRHOIhFYNpEyGVwaphTlBwC1cCri0mqhbKSpbLbzzdPdbS0dbbJZm9XLPifpk3OTZruuAMNeeiVLu+4Bq8QIz5x08StisQRmWgMltVzUxVOaVxDIzBFgIjKcvLo2GoKFHPWQ5iIQXP96fxN/c/i3e+ei0u3dDZcDsm01mspnRzvd9qgUnedLCrP1VqrrZ7MFNTA8S1bRFvcJ+fY7IiEYLKOV4cyeG+xw+hvWzo6ITm62tDFlZDBCrve9/78JOf/AQPP/wwVq9ePe3tDMOAYRjTfp/MzaaeBLoSBkayJhReWccRlHiG/C2OmfpJlOec5C0XyZCKgYyX3BlMUxYSYP4eguv3lldqfG/1Gpt5FR9CCjiuhKZwmLYLv/AGrIadiHLtUR2jORtZ06n557ydAWBVi4GXj8/e8XImjisheW27HrN970QonJcWmBOaV1gWSdllU6mFBI6li+D+dj5QW1XNpp4E1nXG8Fx/CsmQCk1RENK9YNp2XbgCiOgcqbzlB8MTHXyDSxFS4njOAgcwlhe4/Rd78e1HXm7IHJRqFqsp3Wz3mwyr2H8sg0cOHMe6Lq+r8XjOa0W/8+g4+o6ksW8oU1Mr+tO64qWJwltWJdES1au2oH/xeA6ugFcWX0Uz9rUhC6eugYqUEu9///vxwAMP4Ne//jVOPfXUel7OSYdzhrdfsAb/8ONdcFwJVZloPx+UeCYjGiAx7Sff8nPugu0iU/QSRb1BeKz0RlhtCvBMn9xVXla1IgHbEd4uiv811xHeDgCrbcLwZMdzFiKagjmkuHif2F2BZFjHn5zXhm/89qU5PmqluUxTbnQVbfUn/TKKjsCRsTx6kmFoKq+prfujB48jVbCQKTpI5W0o3Jtt1BLRkbMccM4Q0RWMF2xvxw4ojU8AJqqjirYo5T1IPwerWWb5zKUp3VySYoP71RSGguXCdr0dVV31yrsZgLzt4j92HkXWdNF3JIWXa2hFr6scG7snApNNPUlEDbWmFvTLta8NWRh1DVRuuukmfO9738OPfvQjxONxDA4OAgCSySTC4XA9L+2k8WcXrMG/PnEILwxmvIF9MujoydERM5ApOuhti+C4X0pY/gY4+Zy7JaKhaIuJIXzMO2MGMKVz6GwYJj4Zh3UFRdstBSkcXtKoF1DN73nnLbc0GLHW6wmmOR8czuK8U1rn98A1PM5SluEFuSSLxZvw5O129KcK6Ijqs7Z1L/971Z0wMJ73ysHztotiuoiN3XEwBrx8vDBRJSYnert4JeETgaDiN/tyXO932J0wmmKWT62L98vHc/inX3i9arwOxRwbVkz/GreGNbhC4OBwDo4QEGKizF5VOEzH67tz3xNHZry+qKFgc0+yFJicviLutRqYRwt66mtDZlLXQGXbtm0AgNe+9rUVX7/rrrtw/fXXL/0FnYQ4Z7jlqo245Qc7kSo4COsKwpoCxoBhv+z18GgeH/m3ytb2F61rr3rO3Z0M4fDxHBzpLU4Kk6UdmrkoS+WAojCE4LWH9/qDSNTQoHJGQgKZgl3z7YMy4nhIxXDWmnPgNZfHWUqTk24XWvmvSUjgmleuxkfecMa0wcHk/AnAOw7I2y4gJfKW1/PkLy9fj4/8205kTRtukBODiWDF623j5zBxVgpoVM6nPTZZrBLg+apl8Y6HFHzmP3fDcgQYY+AALIfj2cOp0q7Rq9e3w3QmWtLvHkgjbdpw3LLAWHojJix3+gTYtqhe0fF1XWfMGzBa6l8y/94lJ9tgRTI3DdVHZa6oj8rCmdxPQgiBnOXCUDm64qEpzbbe85p1+Pp/7S9t7ZbLFG0cGs2XeqAonEHlHKbjzikPIqgAao8ZGEqbFZ+YF8pcEnFVzrAiYSBruogZXkl30/7jWULlv7OumI4vv+3caXdTypsAOkKW5kCVBxoRneNbN1yIVMHC++59GumCXRraCHgdSYN+OxzeVGVXeNOhT+mIeLlOQmIoa+KLbz2nopfOQpcAn6iZmtJx5gUrtiuhqcybhA3AdgUUBoQ0FRtXxvGJN23CnmMZ7PQ7vj59aKymf4c9LSEvKPFn5KxpiyCsq4vagr5Z+tqQE9e0Dd/migKVhRV8ohzJmfjKL/fhyFh+2mZb3QkDx9ImuuJGqTKgvLOs5Tg4Ml5ESFPQHtXBGHB0rFCqCqnlL13Q6K01ok/pGbJQuhIGRrNWTa26gaXf8WhU3I8+5rqxFdYUvGptC+5514VVPx1v3zuMD3//Wb/hXLFUNTaRO+UFLR+58kzc+Nr1+O2+YXzk33YibzrQNY7xnFdq7yXTekeEDAycMaxqDZcSegu2i7zp4I4/Pw+Zoj1rB9x6ByuTF+91nVEMpIp4cSQHhXlJ0QFXCDgCfg6X9xrXuqPJmdek8OP/cxMuOa2jLi3oG21niyyOpm34Ruor6CfRdySFoXRxxmqDwXQRDN75uWNX++TLEPKDjFTBmzos4c/IAWDVkBshJGA5AsfSixOkxHQFyZCGiKagP1Wcsbyy/FoZAF3xJirPp1lbM/MSpL1gU9TS9GUS03Hx+Iuj+OKDe3Dh+vYpC1FbRIfKgeGMWVE1BvhHOozBkRIP7hrEey9bh0tP68SX3npOaSGPGKo/pFDC9XOuQhpHVyJUteooGGq50CXAC2lyU7rWsIai4+K9337KT8jx/h4GU7TLS+KnZDaXCakcYV2ByjhUBdBVBYbKMJq3sSIZQm9bZCme3hSN3NeG1AcFKmSKWqoNAG834vBoHnnLLXW1VbiXxFjwk0jy45VN0YSfNxDcbjaqwmvqzzBXCmdY2x7B4bEiXOG1+J7LsVItgdZSCRJWF/t6gr8NQQdcJlnp91krIb3Xbtv2A/juY4cqGrJdtK4dQkqEda9XjaoAjE38HZTwFmJDVXAsVcCPnulHW0xHW0THXdedj92DGYzmLbSENQDAjgPHcc8jL3lHIf5gyck5D7sHMzWVAPcdTYEztmCf8ueyayClhOUK9LaF0R7TcHAkjx89fbTU/0e43qszk5DGsWllAj0tYfxm7zASEQ0RXQVnXuDJ/OdbsF3oipdIT0ijoECFTBF8qk0X7VJ+SUjjpWnA6aINKYF17RHsHkiXzrulv2jVsnTVWpq7WCeTCmPoTxWRM20I6XXhVbisqYqoUQKUwFJVOUdCCmzHG77ouHJKeflcAj0Jb3elM65j90AGH/r+M+iKGzietZAq2H6uBQApoCheMmwwgykeVjGSs/Cp/+95cMYq8kkuP72z9Bjn9LbgnNXJGaczb987PGtQPmy5+PsH+jCasxYkf2W2fJigwVrRdpGzHOweyGDn4XG/j0kKx7O19xLpjBv4hzedhc09CUQNDbrC8Fff+x32DGaRCDGqriFNgXJUyBS/3TdcSlIMPnEZKkfM0JAp2ijY3vA3KZZukVwM3qdIr5zTciVcUftgwJOZ5rewtefTwnaS1S1eu/TDYwUonGFFIgTHFRhKm6W/W0FCtqF6wwaP50y4QmJVSxiJkDZrPslMuxflybtTO6ICozkLg+liaabQieavVGtdbzouxvI2IrqCm19/GjRVwc7D49h5NIVd/WlkirV1G2bMz0uRgCMBQ2X42p+9Er935oqK3RqaGk0aASXTknkL3sTG8hZypnfWzzmrWMRVDr+KR5Q+QWt+m9mFWLyWWk8yBDDgWNpbAMnsVOYthicqaMxWPkka8HZP/PQL6BrHqmQYIZ3jpRHvqDGiKzi1M1oa+1DLROZqJqY0Z9CdMCp2GIQU2HssCwA4vSsGXpawOp/HCx7r+f4UViRCXpdmVyLvj5RIF53S857NmrYIepIh7DmWgeV4nXpt1+8I7Ceh/83rT8dfXLa+6s9TdQ2pN0qmJbMSQqLvaArPHBqHZMC5vS3YtDJR6mHR2xpBznIxnDEryoo5AxIhDWN5u+IN1XYlmjUx3xshwCuazJGZlQcpCpvffCDAe60rf9af4M28PigCXldiCSBVcFCwXSicoSsRqphNVZ5PUp67MlsuyUz9O0ayJoQEuhNGRZAy+fFma2EfHOX87uUxvDCQBmcMA+NFFGwXxRrOGjkD1nfGcPbqJM5e3YJXrW1FdzKEkKbg6ZfH8C+/OVjqDM0ZQ29bBB9+w+m49DTvGKzajlIzTI0mJECByklox/4RbP3pbuw9loXtJ4uonGNNWxhjeRttUS+xMGaoiBoKxvM2BlJFf1YPw3jBrrqYN+tmhOVKYIZGV2R65f1LFoIjvBk9KufQ/a6srvSCSZV7HWZ7WibKjMvZrsBw1sQnf7ILCufQFK+M942bV6K3LVJ1MRZCIh7S8Kfnr8GDuwYxlC6WcllWtYRxZLSAlnD1tu3TzZ8JApO86eBXe4bw1MtjODpWwJ7BDIZrzC/RFAaFMUQNBX931Ua8/qwVVVvQv+b0TlyyoWPagGO2fBiqriHNgAKVk8yO/SP40PefwXDGBIO/1e7PsNk/nPNLiwEp9dIQuKCPBWf+ok5ImYX+GyGkF3RoihdsuELibReswcbuBL7w4AtVE1+zpoOjYwUIKRE1VCRCGsYLFh57cRSPHBz1gm5dqVikJy/iKgdWJMO4ctMKXLqhE0JK3Pidp2ZtYd8a1ryur5aDPccyePKlMfzXniH0HUnDmudAJ9uVaI1pEGD48bP9+KNXrp52t2O6ct5q+TCWK5pm1hEhAQpUTiJCSHz91wcwmrPAAGgqnzjjZ6LUd+JYxsJo3oahKuiMG1A5h4SERZsOZJLFClslAMcVgJ9I++r17bj8tE784OkjU1rKS0gMpYtwhUREV5AMa/6xpQXhdxd0XIGIoZcW6WsvXIPvPnZoyiJ+ZKyAf33iMM5Z3YKL1rVXbWHv9SuROJ410ZMM4cHnB/GFn+/Bc0dTGMvPPpaBAYgYCixbwJ5hO2o4a6GnJTSvCcmTRxE0Yn8YQmq1NK0GSV0JIdF3JIV7Hn0Zz/WnIIWEqkwEKa6QUxqXCeEl+R0ezSNTtCCaubyH1KTRliuBICdKRUfUKOWTxAwFg2kTectBznQwmCoib7lQONDlzwcazhT9hnHc68XjCkB6AwkzRQdf+/XEIm5oXmK47QokQyqypoNt2w8AAG68fD0iGsPh0TyOpQo4lirg8Fgee49lMZ63sWsgg6/91wH8Zt/ItEGKxhkSIRVdcQMRTYGmAPBb/M9Ewmt8Z7tTj5dms6s/XVN/mF396TndLyH1QDsqy1z59nbOdJE2vR4o3K8OkFJ6bckn/VxwwiOkxLHM3N4kSXMImqApHDA0BVFNhaECR1NePki9j/m8DsAKzupJlvp6XLyhA595yxZ85j+fxwuD2YoqmWAadtEWMB3hd9H10qOl8NrvM6YgrCsYGC+gpyVckTAedFVWGMOuoyn86oVj+N3L48j6FTm1vhoKZwhrCuIhFRFdgaEqfukwQyLsYihdQN6qLfL3GgtKtEWq58lMp5amjdXyawhpRBSoLGOTz6hDmoKs6cCF9JJomVfpUmuBemtEw3i+eiItaS4MKJViOwJwTBc50wUHYGgcvW0R7B/K1j1BOhnRcOPlXolt35EURvMWfr1nCPuGcnCl9AIAeIG15QgcHSugNaqVgg4AFQMNAS8QEQAsx/VL0oVfaeSV4BddiaIj8J57npr1+hTOcPqKGM5e1YJXrm0BAHzhZ3vQFTegVAkSdM5QsAV0lcG1aitFToS0OTdga4vo0Pxk5Jnya+YaABFSDxSoLFPVzqillAjp3OuPAu/cXuFsypslg7dYBd1AHeGVHtuuQGdMw1B29nN40ng0haE9qmPQn0RdjYA3/mAwVURE945B6umGi9cCAK676/HSrmCq6P39U7mX6C0g4TpeKbMjBNIFB/Ar1ACvkV9IUxDSvcDBEQKQXjM3R3hBjF3jSAQGrx29lMDajgjuuu4CtMX00iThviMp6CqHLSSUqfEB0qYDISTaEiEMCbOm8RCXntYx5zySTT2Jqvk1AHWgJc2HclSWqWpn1IwxdMVDpaZaXnXF1LdnzlCWk+J9nwHIWy5GchSkNCtXSBxLmzXdNlN00NsSgqrUL3MlrHH8x84B3PJAH3YPpBHRFVhlZeSu8IIThfFSw0FvkKULlXM4roDteDOc2qIacqaDY+kihjLea2B78UrFIL/JGICorqAzZmBtWwRndsexvjOG1W0RZAoOjucshDSl9G8sCBDG8vaU8Q9SSqQLDrifs9IRnX03Q+UMf/TK1XN85TAln6dguxBComC7GEybpVlHlEhLmgEFKsvUdGfUMUNFb1sE+gwLkCsBy/XO+YMPfK703tDrfRRATsxcZvEcz9u1nwsuIAZv6GFrVMcLgxmMZE0kQxokJsrjg8Z8jisg4fVdURUvPdy7ycQkYc4ZjowV8OJIHkN+cupMz4oBiPrt9HtaDJzaEUV3MoREWPOS0BmDoXi7JpNzPGYLEKKGgkRIg+1KtMV06Or0b8EMwMaVcWxZNb9eJ0E+z8aVceRNB0NZE3nTwcaVcSpNJk2Fjn6WqZnOqKOG4s3wgUR7VIMAMJ6zm3puD5ndXIPMvOXUPDxyIUl4lTLHs15Q4bouDjl575iyLHAK8quEkGCQYP73FMbg+LslUgLmLMcrrOx/NQVoiRqQEn6nVz6lagaYOccjCBCqDUN872XrcMfDB0st+1e1hHF4ND+l6k7lQHvMwC1XbTyhXQ/qQEuWAwpUlqmZzqgLpgvLFQhrCrqTYQDesU7RplClVhzNPZCxFgXLrVvidNGRpQBCURg4Y7AdMTGpu+y2k3dIXFn9LIcB6IgbYJAo2gI504ErvdwdTeVwXAkhJI5nvf4rnDOkCjZ0hcP1u+WGdA5IzJrjMVOAwBmraNm/qjWMoXQRRVuAMW/X8+zVSfzVazcsyK7HdA3hCGkWFKgsU7PNMAG8EfCMMRQsF66QUDmb8smOVLfcgxRg/vN7Fkrw8GyW0rTpvqMpDKtbIyjaLoqWA0d4TdoUztAVNxDSFAxnTFiurMh98Y6evETdTNFBpuh4U4kZoCkKdJWhNaLPmuMxXYAwecfFFhKtER1diRBef9YK9CTDaI1oiIc0CCFp94Oc9ChQWcam24I+tTOGw6O50vm47Qo/eZaCFLIwDNWb1ZMz3RMO6qw5jGle0xrG729ZiRWJEFIFG//65GHYrkB73MDAeNGfTTRLUrHfZC7j907xp0xAgnn9VsBx7YVrTmi3o9qOS6pg4Y6HD047l4eQkxWTk1PTm8hcxkSfzCZPT93YHcf133oczx1NQ1c5xvNW3Zt7keVF5QwfufIMPLx3CI8cHF20JGzOvHyWtpiBv3jNqTh9RRx3PHwQ+49lMJKz4AqJsKYgGdEwnDHBGQOkhOn/fdcUwC4bDaEpDOUnRwr3NnNWxL0KKIV5QznP6kng7hsumHG3o9rU4uluP91cnrG8jZihUPIrWXbmsn7TjsoyMt0b4+Qt6B37R5Aq2EgXbariIYtCQuI3+0Zw9w0X4r4nD+OLD76A8cLC9WQ5rTOC07vjeO5oBqmiDccV+Np/HUDOcqArHMmwBkjvCMd0BIbSJqQEFBWl/irehZb9/4A3VoJJOP6OBgeDIyVUhSEe0rzbcDbr/J3ZphaXo7k8hMyMApVlotY3xuCTW6ZoN9xsF7J8SAnsGcxg92AGb35FD3YeHsP3nzp6Qvc50fKfoT9l4sBI3gs+OGCoChwhYDleQmxIUyCkl/SscAbH9RJxpWQV6S7+JInS/7KyuMWri6vsagvM3n5+rlOL5zKXh5JiycmIApVloNY3xvJPbprC654sSZYvIYGxvIkbv/sU+scLc9q546x6KbX0OyRLKZHzR3krHFA4R9ERfkK41whuJGtCSC8hmAlZqkF23MqOsZwBwjsNKu2rBP8rpICUDGGNI6RNBCozlSbPZ3eE5vIQMjMKVJpEcKwzkjMxmrWQLtpgjOGc1Ul8/df7p7TKl9LrqDmet/H1X+8vJe4dGMqiJaLh0Gi+3k+JLHOOAI6MFab9fuWhywQpq39P17jfeXYiPdcVgPBn9QR/nvxzsvR//OsqS84VUlYERUHPFebfl6YAnfGJgGO29vPz2R2huTyEzIwClSYQHOs835/CeMEpDZNjgP+pTGKFH6RkTQfDmSJMR5S2uB9/cQzfe/wQetsisF0JISrfrAlZKpz5VTTML4WvtnNSdtvyIIJBVq0AkpgYsFj+XZWziunKAMCYN8hQ+gFNEPPwSbsq8JN0Q5paOnIyXYFxP7l1utLk+eyO0FweQmZGLfQbXHCs8+zh8YogBZh4g3YF0D9exJGxPI6OFVDwyxiY/39sV+Crv9qHw6N5aApDqmCdFH1ASP297oxO/NVr1yPoFC+kFxzYrpy1O//k45+CXXsvlaAXiqZwlMcT3hBChqihlnZhFA5wxqBwb77QiriBZEjzpiKvTs6p/Xz57kg11XZHTua5PEJI9B1JYfveYfQdSUFQdj+pgnZUGlhw3p0p2n5AMvM/4rH8RIKsNwFlQs508LPnBtEW1fD8QHHRrpmQAAPw7JFx7OpPedU0i9inp/q9SzDmPXLQC0VIoDPmNXs7NJqDwgAOhraYjrihIaR5OxoF28Vozsan33I2OGM1t5+f7+7ITG33l2sflblURpGTGwUqDSw4747oKlKF2oKLUjfPSV8vWC52D6TREtaoJJksCQav1TxnDG1RDcdz9qzB9nxNvlfOvRwTxrwKIFdK2I6AwoGIrsIRAgCDqni7LDnTQWfMKAUWwRHNeMHG5ad31nwdM3WEnu3Y6GSayzPXyihycqNApYEF592awqeMjJ/N5Fu7EjieszBGlQNkiQTNjoWUGMl6f+8Wd1/Fo3CgKxaCoXGonENClpLHQ5qKkMYxXvDmGAm/vNl0BIq2QFj3kllPJIH1RHZHToa5PNQ3hswVBSoNLDjvFnLmsfRzQbsppB6W4u+drjC0R3Ucy5g4limiOxlCVFcxmrfgCAmVMcQMFS8dz8P080Bc+EnpjPm7LMqCJLCeTLsjc0V9Y8hcUaDSwILz7l1HU/W+FEIamsKAjpiBtqgOQ1NwdLyAkYxVKmXWFY6YoWI0501GVjiDxhhsV3hJ6VKi6AiotjvrEU2tTobdkfmgvjFkrqjqp8GUZ8Hv6k/jvZetg6Eps1ZIEHIyUDhDtdhBSGA4a+Kl4zkwxrC2PYJkWMP7fu80fPO683He2lakizZcIaAqzK/yYVCViTsbyRRrquwhJ2Y+lVHk5FbXHZWHH34YX/jCF/DUU09hYGAADzzwAK655pp6XlJdTZcFf/npHfj33x2FKyQd3ZCTGmd+t1lM5LqoHH4uClCwBY6OFbAyGQIYcGpHFOf0tuCqLSvx6IujAOAH/bKUo6IrDImwBiEkPnLlmXjzK3roiGYRUd8YMld13VHJ5XI455xz8LWvfa2el9EQgiz43QNpRA0VXXEDUUPF7oEMtu8dQSKkYVVLGKe0RxDVp3avJGS5Y0Bp1k/QA0XlgKYoYMzbJdE4gyslhjImVIbSp/LetghiuurPAJJwhISQEmGNY1VrBCviISgKR1tMpyBlkZ3MfWPI/NR1R+Wqq67CVVddVc9LaAgzZcGviDMcGSvA8fuoKBylOSeEnCwYgJaIirddsBZdcQNf+6/9yBYdOEJCQvp9WrxkTIVLmI6LrkQMQkps3zuM0ayFiM4RNXQAXuKsynlF35S5HjeUj7UYz9lojWhojxmUNFuDk7FvDJm/pkqmNU0TpmmW/pxOp+t4NQunWha8lBKjOctLPHMkXCkBUIBCTi4q9454QqoCzjieO5rCuy49FQwMK5IhDIwXvUGD3JtyLCXgul4v/FTBxo3feQq2K6EqDFnTRargYGUyhJihTju/JwhAZqrWKR9rkS46EEKCc4ZESMNZPQlabGtAlVGkVk0VqGzduhW33XZbvS9jwU3Ogs+aDgZSBRRtanRPlr+ZeqtI6U1H7kqEoHCGA0NZjOdsaAqDrnCsag1jOGPCdFxI4QUrCudwhNdgrTNuwHIFhtImirbXO+XgSA4hTUFX3ICqMBzPWjBUjis3dWPHgRHc8fDBGbulBse0oznLO7aQXpAihESqYGPnkXFqWlYjqowitWiqqp9bbrkFqVSq9N/hw4frfUkLojwLPms6ODKapyCFnDRmyg/XVC8YiRkqDIXDFhKtEQ3ru2IYy9uI6gpO6YhgbVsUq1vD6G0JQ8LLY1nVGoIjJAbGi7BdAU1h/kBEoGi7ODyWx8vH8yjYLoqOwD/9Yg/ec8+T2HlkfEqe2K0P9GHH/pEpYy2EBDTuNZbT/IFGjiuRNR1s236AZtcQsgCaKlAxDAOJRKLiv2ZTbQhXkAU/mjMxmPLyUQg5mSncO/ZZlfSCFAmJdNGGEBJjeRvvvWxdKRmzaAsYKoeqcIzmbQgJdMW9XK/hjAkhvaMfhXNoCofCGdpjWqnkf3VrCKuSIRQsAdMWyJsuHP8oJ6Qp6E4YyJoutm0/gL6jqdJYC8sVUDkrHSExeEm+lisQ1pRS0zJCyIlpqqOfZhWcef92/zAe3HUMg+N5FB0JzoA17VF8+A2n47LTOvDYi8erjrEnpNkF05OdKhuFCvM6w7ZGNWSKLizXBSQQ0lWEDQVZ08FQuoiC7ULhDJ//2W5sWBHHtReuwcP7RiqSMVe3hnF4rICWsIaiJWA63s+Ukm3hHSdlTbe0u8LAYbkSthDQVAYhgOGMiaihgIFVdEt9+vB42VgL7+fLMYbSEZRNTcsIWRB1DVSy2Sz2799f+vOLL76IZ555Bm1tbVizZk0dr2zhTCTdpTGetyD8N7fgU9jOI+N417eeQNRQF33CLCF1I718BIVJuJP+inPG0Jkw0BrWoSoWBlNe0ngyrCFTdHB0rABXeLsiPckwdJVj90AGh0fz+NQ1m5EM6zieNTGWtzGaN/HVX+0vzbSSEmC84jIAAI4roHAGIeG3zvfzYRgD44DpuChaE7N/gm6pTKI01oIx7/7KY5UgeJES1LSMkAVS10DlySefxOte97rSn2+++WYAwHXXXYdvfetbdbqq+ZtcLZAqWPjoD59D1nSQt1xIrxjB23KWEir33kQtV8LK2/W+fEIWjeP1qS/9mTMvEHnLuauw91gGB4dzGMqa0DgrNfo6nrXQP16EkBIRXUFXwqvWAVAaXnfHwwfx3svW4Zv//SKe708hVbDhCGAcNjj8QIIBKmeQfv8UTWGwHQlwL8hQuRfJlAIPf1ckmP0DTHRLfcWaFqzviuH5/jR0haPoCGjc++Ah4bUQMFSOgu1i48oENS0jZAHUNVB57WtfO+epwI2qWlfZvN/IqDNmYDxvTdkrqbYNTshyxhAMAQR0leOKjSvw0avPmlKiCgA/eqYfn/zJLkQNFcmwVtHBNDiOeb4/hY/8207kTAcFv6pH4YAr/OnNAGxXQkpvpo/CvF2OoUwRrisR1hWENC9Q8QIMAYUFwY339fLy5S2rkrjx8vW49YE+2K4EZwK2EODMq/phzGvLHzNUalpGyAKhHJUFEJQrZk0HrREdusKRLtpIF2wonCFrOaXdFEJOZszPRzFUjoIlsG37AVy0rr1qiWpbTIfCORKhyiAloHOGdNFBSBUQEqUKHMYYHCZgl+3gOMLrQtsVD0FTGVjWO77piBml++6Mh3B0LA/blQhpCnTVawQ3eUhhebMy6qNCyOKjQOUETddV1kvgA4SUSBccClIIAUpVMkVHgDOB5/tT2NWfrh6olJXth/jUsRFp0wsQIrqK0bxVUYGjcg4GASElorqKnOUiqqvI2y40l+HM7jiGMiaypgtV4TD8aqCQpoJzFxFdwXDWmrZbanmzMupMS8jiokDlBFXrKgt4b5TBm5UjBDSFw6SzHnKS8xq4MWgcsIVAuuhgJGdWve1sw+vSBQecMxha9QoczhmECyQjGjSV432/dxpO7YiWjpcePXh8Sgv3c3qTeO9l65AM67N2S6VmZYQsDQpUTtDkrrKBkM5hqAoKllM6Tx/KmLSzQpYFhVUeZdbc+sdf74MhgkJIjOeqJ5IHw+tufaAPg2kTLRENhsJhul7X2aihQFPYRKUNpq/A0RWOV61prQgsqIU7Ic2hqRq+NaLy7elyDAydce/8W0gJTeXoTBh1ukpCFg4DSn1EeJXckVpIyFJeR2tEm/Z2QT7IxpVx5E0HQ1kTedPBxpVxfOGPz8ZZPQnkLRe6wr0BhX5yflCBoyteBc76rljVCpxgV+Ty0zuxZXWSghRCGhDtqJygmbano7riNY1iDK4rkCs6dbxSQk6cwoHWiIbxvA3GgPaojpGcBdRYvceYl7fl+hUyiZCX1zGTmXY+OGMLWoFTy0BCQsjSokDlBM22Pd0a0fGpazYjrCt4xzceq/flEnJCwpoCwGtHvyJmIKwpGM1bNc31ZvAmG3MOv+U9w1k9tfUamS4fZCErcKq1GJg8kJAQsvSYbOJGJul0GslkEqlUqu5zfyre5PzEvOBNTkiJD/3rMxjOUjtt0pw0zhDWOf7XZesRNzT883/tR1fcAOPAgaEsCrMM0eQMaIvqUDmDKyRsV6Ilok07YXiuOxvB7edbgVOtxYDlCoz5pck0CZmQhTWX9Zt2VBbIdNvT3/jNAXz2Z3tqTzYkpAG5UkJXFVx+ehcAlPKyHFtW9CuppjthIKwr6PenGANeVVxvW7jq7eezs3EiFTjTtRgIcaXUATfo90LHQIQsPUqmXUCTE/Pu/M1BfOanFKSQ5ick0J0IYZN/VLO+K4axvIWhdBGAV1UzeQ3nANZ3RPH5Pz4bwm+41p0I4ZT2KNa0hTGQMnHrA33YsX+k9DPBzsbugTSihoquuIGooWL3QGbKbRfKdC0GgIkOuDQJmZD6oUBlnoSQ6DuSwva9w+g7koIoi0aEkPj2Iy/h8z97oY5XSMjCOv/UNi+B1c/L0vyKGq/bLKAqDIo/V6cnGcK6rijyloPbf7EPOcvF6tYI2mNe4BHWVXQnDGRNF9u2H4AQcsrORkhTwDlDSFOm3HYhTddiIGAonCYhE1JHdPQzDzNtTTtC4JM/2Y0Dw1naSSHLyt7BTClR9eINHXjnq0/B7b/YA0jA8acJh3UFnXFveKAQEiOOhcOjebRFZ96t+NEz/UgVbbwwkEFLZGrL/Mk7GwvZaG22DrjBQEKahExIfVCgMkfTJd3tHsjgf337SWTNWuofCGkunAF7j1UGCZdu6MA9O16E6refVzlHSJso0TddAQ6vHHm63QrbFRjOmvjkT3bBFUDGtJG3nIpJyQFD4Ugtws7GbB1wg4GENAmZkPqgo585mG5r2tA4hBAUpJBlS0ggbzkVQcKmngQ2rIijYAvEDBVhXSkt8sECv6Y9irCmTGmICABZ08HRsQJcIRE1VLTHdHDGULRdHB0rIGtW9h1arJ2N4CgrZigYTJso+FPPC7aLwbRZMZCQELL0KFCZg2pJd1nTwcHhLEbz1duAE9LIZlt6WdltCraLw6P50vdqWeA//IbT/cRbG+WdECQkhtJFuEIirClIhjVEdAUhjQMMcIXAcMaE9Bv1B4HPdB1mT9RMHXCpNJmQ+qKjnzmYnHSXNR0cHs3DoWQU0qwYwCRmnEEVfE9hDD97bgB/dsGa0u5CecO18uF+5ROHg+6x5Q0R00UbBduFqjB0lZUEd8ZD3i6LFCjaDvKmC84Zxv1+Jou5s0GzfwhpTBSozEF50p3BOQZTBQpSSPObIVgJvqZyhs6EgYPDuSnJrLMt8NWCGSEkFM7QkwxX5KLEDBWrWsMYShdRsF0cz1mI6kpF4LOYaCIyIY2HApU5KE+6S4QUFGfpxklII9I5YAsvCAkmDE+HATA0jpXJMCKagqGsWTWZdbYFfnIwM5q18Pmf7YauTj19jhkqeDKEVMHG+193Gl65tpV2Ngg5iVGgMkdXburG3mMZDKTMGbfLCWlEDEBY15BQGI7nrFKwMlkipCJqqIhoSilJtmC7J5TMWh7MCCHxg6ePTFtpkyo42LgygT9/9VoKUAg5yVEybY127B/BdXc9jq//137kTAemQxU+pLFcdGrrjN9nAHSV49SOKMAY1rSHEdYUKJxB4QwaZ2DwJiT3tobRETMQMVQwxhY8mZUqbQghtaJApQYP7x3CB+57Go8fPI6hTBFZ06VmbqTuOPP+Aasc2NwTx3fefRFO7YhMuV1QucMYcPqKGD585emIGQpypkBPSwhr2yKlVvVdcR0dMQPHMtaiBw9UaUMIqQVNT57FHdsP4AsP7qGkWdIwGABD5WiL6sjbLlrCE1OId+wfwYe+/wyOZy0I/582B8A4Q3tUx+1/8orS7aab9g1g2u8tRvAw10nJhJDmN5f1mwKVGdz58AFs/ekLtHtCGgZnAGcMQkq0Rw2cWaUaZsf+EXz91wewZzADyxXQFY4zuuP4q9dW3m6mAIGCB0LIYprL+k3JtNNwHIGvPLSPghTSUFbEDYR1FcdzFm76vQ1450VTk01r7QcyU6UOlekSQhoFBSrT+NGz/dQSnzQUXeFojxso2gJRXcGr1rROu8tBgQYhZLmgZNppPHNovN6XQJYxlTOENA7OZm9jH1jVGgIkFrWVPCGENBoKVKoQQiJrObPfkJB5MFSO7oSBqK6itzWM6y85BTFDmfFnVsQNKJxT6S4h5KRDRz+TBNUQuwfS9b4UskwEvUmk/6eQpkBI4KyeRCkR9vUbV+Az/7kbe45l4Lh+tQ7z+p5EdBUCKJXuLkUreUIIaRQUqJTZsX8Etz7Qh6zpoCWiYSxnwaVkWlKFygDJAFd4gcj/PLsbyYiOqK7iqk3dSJs2bv/FPhwezUNIb0Lwus4Y3ri5G71tkarzcH78vkvRdzSFZw6NQzLg3N4WbFqZwO7BDFXfEEJOWhSo+ISQ2Lb9ADJFG1FdxXjehqpwuA7N8zmZKMzLH7GFNyU7HlIR1hVICYzmvCZokICAN8ivJaLhpteux19ctn7KfV26oXNOJb6cM5zT24Jzelsqvk5JsYSQkxkFKr5d/WkcGMqiJazjwEiu3pdD5oDDO1pR/SDAdKU3v4YBcUNFPKRh48o41ndGsWP/CPYNZWE6Ev5NwJj3X0hVkAip2LAijstO68DD+0ZwYCiLgi2gcYZXrm3F/7p0HUZyFo6O57GqJYI3nb0SapXBegBV3hBCyEKgQMU3mrdguxKtEQVhTfE+OfsYqz64jdSPwoHOmIHb/+QVACo7qbYwYEUyjCs3rcClGzqrNjIbyZkYz9lojWhojXpD9sYLdsXOx7svXUdNzwghpM4oUPG1RXRoCoPlCiRCKjSFIWqoiOoqDI3h4HAOBZuOgRYbZ0BEV7C+M4aNKxN4YTCNF0fyyJkOXCnBGRDTNWxZnazotFpLgzNgbrsctCNCCCH11xCByte+9jV84QtfwODgIM455xx89atfxQUXXLCk17CpJ4H1XTF/7LxRMXY+bzowHQFD5TApZ2VBrIgZePX6NmxZnURLxEBrREOq4KA1oqE9ZpQCjWAH5HjWxFjeRktUQ0fUmBKIUFBBCCHLU90DlX/913/FzTffjP/7f/8vLrzwQnz5y1/GlVdeiT179qCrq2vJriMYO3/rA30YTJtoiWgwFA7TFRjJmgCA7riBY5kiig6dAwUUBrx+YydO605iNGdhLGdi77EMhjIWhPCOaFa2GFjVEkVLWMPa9ij+8rJ10PWZ+4YEKAAhhJCTW92HEl544YU4//zz8c///M8AACEEent78f73vx9/93d/N+PPLsZQwmpTZbsSIRwezaEtasAREi8fzy3bGUAM3vFLW0TF6d0JnLEihsdfGsfeYxnY7kQCqq5yvO38XvzDmzZNOWKhgXaEEEJm0jRDCS3LwlNPPYVbbrml9DXOOa644go88sgjU25vmiZM0yz9OZ1e+KZs1Qa6beyO44a7nygdC61tj+LwaA7NcArE4HVCNTQFusKhKgwqZ2BMgnOGNa0RXH56J165tg2csSkJpQHHEfiPnQNU7UIIIWRJ1TVQGRkZgeu6WLFiRcXXV6xYgRdeeGHK7bdu3Yrbbrtt0a+r2kI7+Vjo9K44jmWKGMvbS7a7onEGhUkEJ09xQ8WqZAgp00VrRMPbLujFmSsS2HkkhYF0Ed3JEF65pnVBmoapKsdbXrlqEZ4VIYQQMr2656jMxS233IKbb7659Od0Oo3e3t4leeyLN3TgM2/ZUjoWSgkJQ1Vw8foE3rh5JVa1hjGS8fIzCrZAzFCw8/AY9g7lkDcdWK63/aIpHJYjvQoWAIrCENYUtMd0rGsPI2cK5G0XbVEdm3viGC+4iBpet9PNq5I1BRyvPKVtytdoh4MQQkgzqmug0tHRAUVRcOzYsYqvHzt2DN3d3VNubxgGDMNYqsubotqx0Ey7E+W5Gi1hDYDXq6P8/5/rDgcFHIQQQk4mdQ1UdF3Hq171Kjz00EO45pprAHjJtA899BDe97731fPSpkV9OAghhJClU/ejn5tvvhnXXXcdzjvvPFxwwQX48pe/jFwuhxtuuKHel0YIIYSQOqt7oPKnf/qnGB4exsc//nEMDg7iFa94BX72s59NSbAlhBBCyMmn7n1UTsRi9FEhhBBCyOKay/pdvREGIYQQQkgDoECFEEIIIQ2LAhVCCCGENCwKVAghhBDSsChQIYQQQkjDokCFEEIIIQ2r7n1UTkRQWb0YU5QJIYQQsjiCdbuWDilNHahkMhkAWLLBhIQQQghZOJlMBsnkzKNmmrrhmxAC/f39iMfjYGzqUL9guvLhw4epIVyd0e+icdDvonHQ76Jx0O9iaUkpkclk0NPTA85nzkJp6h0VzjlWr1496+0SiQT9xWsQ9LtoHPS7aBz0u2gc9LtYOrPtpAQomZYQQgghDYsCFUIIIYQ0rGUdqBiGgX/4h3+AYRj1vpSTHv0uGgf9LhoH/S4aB/0uGldTJ9MSQgghZHlb1jsqhBBCCGluFKgQQgghpGFRoEIIIYSQhrWsA5Wvfe1rOOWUUxAKhXDhhRfi8ccfr/clNbWtW7fi/PPPRzweR1dXF6655hrs2bOn4jbFYhE33XQT2tvbEYvF8Ed/9Ec4duxYxW0OHTqEq6++GpFIBF1dXfjIRz4Cx3EqbvPrX/8ar3zlK2EYBjZs2IBvfetbi/30mtZnP/tZMMbw13/916Wv0e9h6Rw9ehTveMc70N7ejnA4jC1btuDJJ58sfV9KiY9//ONYuXIlwuEwrrjiCuzbt6/iPkZHR3HttdcikUigpaUF7373u5HNZitus3PnTrzmNa9BKBRCb28vPv/5zy/J82sWruviYx/7GE499VSEw2GsX78en/zkJytatNPvoknJZeq+++6Tuq7L//f//p/ctWuX/Iu/+AvZ0tIijx07Vu9La1pXXnmlvOuuu+Rzzz0nn3nmGfn7v//7cs2aNTKbzZZu85d/+Zeyt7dXPvTQQ/LJJ5+UF110kbz44otL33ccR27evFleccUV8umnn5b/+Z//KTs6OuQtt9xSus3BgwdlJBKRN998s3z++eflV7/6VakoivzZz362pM+3GTz++OPylFNOkWeffbb84Ac/WPo6/R6WxujoqFy7dq28/vrr5WOPPSYPHjwoH3zwQbl///7SbT772c/KZDIpf/jDH8pnn31W/sEf/IE89dRTZaFQKN3mjW98ozznnHPko48+Kn/zm9/IDRs2yLe//e2l76dSKblixQp57bXXyueee07ee++9MhwOyzvuuGNJn28j+/SnPy3b29vlT37yE/niiy/K+++/X8ZiMfmVr3yldBv6XTSnZRuoXHDBBfKmm24q/dl1XdnT0yO3bt1ax6taXoaGhiQAuX37dimllOPj41LTNHn//feXbrN7924JQD7yyCNSSin/8z//U3LO5eDgYOk227Ztk4lEQpqmKaWU8m//9m/lpk2bKh7rT//0T+WVV1652E+pqWQyGXnaaafJX/ziF/Lyyy8vBSr0e1g6//t//2956aWXTvt9IYTs7u6WX/jCF0pfGx8fl4ZhyHvvvVdKKeXzzz8vAcgnnniidJuf/vSnkjEmjx49KqWU8utf/7psbW0t/W6Cxz7jjDMW+ik1rauvvlq+613vqvjaH/7hH8prr71WSkm/i2a2LI9+LMvCU089hSuuuKL0Nc45rrjiCjzyyCN1vLLlJZVKAQDa2toAAE899RRs26543c8880ysWbOm9Lo/8sgj2LJlC1asWFG6zZVXXol0Oo1du3aVblN+H8Ft6HdX6aabbsLVV1895bWi38PS+fGPf4zzzjsPb33rW9HV1YVzzz0Xd955Z+n7L774IgYHBytex2QyiQsvvLDid9HS0oLzzjuvdJsrrrgCnHM89thjpdtcdtll0HW9dJsrr7wSe/bswdjY2GI/zaZw8cUX46GHHsLevXsBAM8++yx++9vf4qqrrgJAv4tm1tSzfqYzMjIC13Ur3oQBYMWKFXjhhRfqdFXLixACf/3Xf41LLrkEmzdvBgAMDg5C13W0tLRU3HbFihUYHBws3aba7yX43ky3SafTKPz/7d1bTFRXFwfw/8gIggMdlHYGkItYlYsTC9Ka0camQlBMCMWkChIK9sHUS4sVNaSXh16kxAZtS4hNm1QeCsG2AU1NSjsF1EIqNxkqOoKB0OFhim1xClQTkVnfg5/n8xS/UqvAgP9fchLOWWv22WfvZFhzDpu5fh3e3t4TcUnTSkVFBc6dO4fm5uYxMc7D5Onp6cGRI0ewZ88evPbaa2hubsYrr7wCT09PZGdnK2N5t3G8c5wfe+wxVVyr1WLevHmqnIULF45p43bM399/Qq5vOsnPz8fg4CAiIyPh4eGB0dFRHDhwAJmZmQDAuZjGZmShQhNv586d6OjoQH19/VR35aHT19eH3NxcWCwWzJkzZ6q781BzuVyIj49HQUEBACA2NhYdHR34+OOPkZ2dPcW9e7h88cUXKCsrQ3l5OWJiYmC1WrF7924EBQVxLqa5GfnoJyAgAB4eHmNWOfT398NoNE5Rr2aOXbt24eTJk6irq1N9e7XRaMSNGzfgdDpV+XeOu9FovOu83I79XY6fnx8/xePWo50rV64gLi4OWq0WWq0Wp0+fxkcffQStVguDwcB5mCSBgYGIjo5WHYuKioLdbgfwv7H8u/cio9GIK1euqOI3b97EwMDAPc3Xw27fvn3Iz89Heno6TCYTsrKy8Oqrr+K9994DwLmYzmZkoeLp6YkVK1agpqZGOeZyuVBTUwOz2TyFPZveRAS7du1CVVUVamtrx9z+XLFiBWbPnq0a987OTtjtdmXczWYzzp8/r3ozsFgs8PPzU97wzWazqo3bOZy7WxISEnD+/HlYrVZli4+PR2ZmpvIz52FyrF69eswS/a6uLoSFhQEAFi5cCKPRqBrHwcFBNDY2qubC6XSitbVVyamtrYXL5cLKlSuVnDNnzmBkZETJsVgsWLp0KR81/Ne1a9cwa5b6V5qHhwdcLhcAzsW0NtV/zTtRKioqxMvLS0pLS+XixYuybds20ev1qlUOdG+2b98ujzzyiJw6dUocDoeyXbt2Tcl56aWXJDQ0VGpra6WlpUXMZrOYzWYlfntZbFJSklitVqmurpZHH330rsti9+3bJzabTUpKSrgsdhx3rvoR4TxMlqamJtFqtXLgwAG5fPmylJWViY+Pj3z++edKTmFhoej1ejlx4oT89NNPkpqaetclsbGxsdLY2Cj19fWyePFi1ZJYp9MpBoNBsrKypKOjQyoqKsTHx4dLYu+QnZ0twcHByvLkyspKCQgIkP379ys5nIvpacYWKiIixcXFEhoaKp6envLUU0/J2bNnp7pL0xqAu25Hjx5Vcq5fvy47duwQf39/8fHxkbS0NHE4HKp2ent7JTk5Wby9vSUgIEDy8vJkZGRElVNXVydPPPGEeHp6SkREhOocNNZfCxXOw+T5+uuvZdmyZeLl5SWRkZHyySefqOIul0vefPNNMRgM4uXlJQkJCdLZ2anK+f333yUjI0N0Op34+fnJ1q1bZWhoSJXT3t4uTz/9tHh5eUlwcLAUFhZO+LVNJ4ODg5KbmyuhoaEyZ84ciYiIkNdff121jJhzMT3x25OJiIjIbc3Iv1EhIiKimYGFChEREbktFipERETktlioEBERkdtioUJERERui4UKERERuS0WKkREROS2WKgQERGR22KhQkQPhIhg27ZtmDdvHjQaDaxW64ScJzw8HB988MGEtE1E7oeFChE9ENXV1SgtLcXJkyfhcDiwbNkyaDQaHD9+fKq7RkTTmHaqO0BEM0N3dzcCAwOxatWqqe4KEc0gvKNCRIqvvvoKJpMJ3t7emD9/PhITE/Hnn39idHQUe/bsgV6vx/z587F//35kZ2fjueeeAwDk5OTg5Zdfht1uh0ajQXh4OMLDwwEAaWlpyrHxdHd3IzU1FQaDATqdDk8++SS+//77MXlDQ0PIyMjA3LlzERwcjJKSElXcbrcjNTUVOp0Ofn5+2LRpE/r7+wEAXV1d0Gg0uHTpkuo1hw8fxqJFi5T9jo4OJCcnQ6fTwWAwICsrC7/99ts9jCYRPQgsVIgIAOBwOJCRkYEXX3wRNpsNp06dwsaNGyEiKCoqQmlpKT777DPU19djYGAAVVVVyms//PBDvP3221iwYAEcDgeam5vR3NwMADh69KhybDzDw8PYsGEDampq0NbWhvXr1yMlJQV2u12V9/7772P58uVoa2tDfn4+cnNzYbFYAAAulwupqakYGBjA6dOnYbFY0NPTg82bNwMAlixZgvj4eJSVlanaLCsrw5YtWwAATqcTa9euRWxsLFpaWlBdXY3+/n5s2rTp3w8wEf07U/vlzUTkLlpbWwWA9Pb2jokFBgbKwYMHlf2RkRFZsGCBpKamKscOHz4sYWFhqtcBkKqqqvvqV0xMjBQXFyv7YWFhsn79elXO5s2bJTk5WUREvvvuO/Hw8BC73a7EL1y4IACkqalJ6euiRYuUeGdnpwAQm80mIiLvvPOOJCUlqc7R19cnAKSzs/O+roeI7g3vqBARAGD58uVISEiAyWTC888/j08//RRXr17FH3/8AYfDgZUrVyq5Wq0W8fHxD7wPw8PD2Lt3L6KioqDX66HT6WCz2cbcUTGbzWP2bTYbAMBmsyEkJAQhISFKPDo6Gnq9XslJT09Hb28vzp49C+DW3ZS4uDhERkYCANrb21FXVwedTqdst2Pd3d0P/LqJ6P9joUJEAAAPDw9YLBZ88803iI6ORnFxMZYuXYre3t5J68PevXtRVVWFgoIC/PDDD7BarTCZTLhx48YDPY/RaMTatWtRXl4OACgvL0dmZqYSHx4eRkpKCqxWq2q7fPky1qxZ80D7QkR/j4UKESk0Gg1Wr16Nt956C21tbfD09ERNTQ0CAwPR2Nio5N28eROtra3jtjd79myMjo7+4/M3NDQgJycHaWlpMJlMMBqNdy2Ubt8JuXM/KioKABAVFYW+vj709fUp8YsXL8LpdCI6Olo5lpmZiWPHjuHHH39ET08P0tPTlVhcXBwuXLiA8PBwPP7446pt7ty5//h6iOj+sVAhIgBAY2MjCgoK0NLSArvdjsrKSvz666+IiopCbm4uCgsLcfz4cVy6dAk7duyA0+kct83w8HDU1NTgl19+wdWrV8fNX7x4MSorK2G1WtHe3o4tW7bA5XKNyWtoaMDBgwfR1dWFkpISfPnll8jNzQUAJCYmwmQyITMzE+fOnUNTUxNeeOEFPPPMM6rHVRs3bsTQ0BC2b9+OZ599FkFBQUps586dGBgYQEZGBpqbm9Hd3Y1vv/0WW7duvafCi4juHwsVIgIA+Pn54cyZM9iwYQOWLFmCN954A0VFRUhOTkZeXh6ysrKQnZ0Ns9kMX19fpKWljdtmUVERLBYLQkJCEBsbO27+oUOH4O/vj1WrViElJQXr1q1DXFzcmLy8vDy0tLQgNjYW7777Lg4dOoR169YBuHVX6MSJE/D398eaNWuQmJiIiIgIHDt2TNWGr68vUlJS0N7ernrsAwBBQUFoaGjA6OgokpKSYDKZsHv3buj1esyaxbdNosmkERGZ6k4Q0fSTk5MDp9PJ/zxLRBOKHw2IiIjIbbFQIaJJExMTo1rye+f213/ARkQE8NEPEU2in3/+GSMjI3eNGQwG+Pr6TnKPiMjdsVAhIiIit8VHP0REROS2WKgQERGR22KhQkRERG6LhQoRERG5LRYqRERE5LZYqBAREZHbYqFCREREbouFChEREbmt/wBtUYXA3c2sZgAAAABJRU5ErkJggg==\n"
          },
          "metadata": {}
        }
      ]
    },
    {
      "cell_type": "markdown",
      "source": [
        "We can use the Pandas method <code>corr()</code>  to find the feature other than price that is most correlated with price.\n"
      ],
      "metadata": {
        "id": "RuERMDfWbnlD"
      }
    },
    {
      "cell_type": "code",
      "source": [
        "df.corr()['price'].sort_values()"
      ],
      "metadata": {
        "colab": {
          "base_uri": "https://localhost:8080/"
        },
        "id": "VCqpAfInbnlD",
        "outputId": "1f626c95-cf9c-471e-9bb1-93b50a644d7f"
      },
      "execution_count": null,
      "outputs": [
        {
          "output_type": "execute_result",
          "data": {
            "text/plain": [
              "zipcode         -0.053203\n",
              "long             0.021626\n",
              "condition        0.036362\n",
              "yr_built         0.054012\n",
              "sqft_lot15       0.082447\n",
              "sqft_lot         0.089661\n",
              "yr_renovated     0.126434\n",
              "floors           0.256794\n",
              "waterfront       0.266369\n",
              "lat              0.307003\n",
              "bedrooms         0.308797\n",
              "sqft_basement    0.323816\n",
              "view             0.397293\n",
              "bathrooms        0.525738\n",
              "sqft_living15    0.585379\n",
              "sqft_above       0.605567\n",
              "grade            0.667434\n",
              "sqft_living      0.702035\n",
              "price            1.000000\n",
              "Name: price, dtype: float64"
            ]
          },
          "metadata": {},
          "execution_count": 38
        }
      ]
    },
    {
      "cell_type": "markdown",
      "source": [
        "# Module 4: Model Development\n"
      ],
      "metadata": {
        "id": "rEuRMx46bnlD"
      }
    },
    {
      "cell_type": "markdown",
      "source": [
        "We can Fit a linear regression model using the  longitude feature <code>'long'</code> and  caculate the R^2.\n"
      ],
      "metadata": {
        "id": "hZlmVa1JbnlE"
      }
    },
    {
      "cell_type": "code",
      "source": [
        "X = df[['long']]\n",
        "Y = df['price']\n",
        "lm = LinearRegression()\n",
        "lm.fit(X,Y)\n",
        "lm.score(X, Y)"
      ],
      "metadata": {
        "colab": {
          "base_uri": "https://localhost:8080/"
        },
        "id": "yXKz0SLQbnlE",
        "outputId": "8de511f1-a8ac-46e8-d3c1-55af8b01f9ef"
      },
      "execution_count": null,
      "outputs": [
        {
          "output_type": "execute_result",
          "data": {
            "text/plain": [
              "0.00046769430149007363"
            ]
          },
          "metadata": {},
          "execution_count": 39
        }
      ]
    },
    {
      "cell_type": "markdown",
      "source": [
        "### Question  6\n",
        "\n",
        "Fit a linear regression model to predict the <code>'price'</code> using the feature <code>'sqft_living'</code> then calculate the R^2. Take a screenshot of your code and the value of the R^2.\n"
      ],
      "metadata": {
        "id": "IALAvDRZbnlF"
      }
    },
    {
      "cell_type": "code",
      "source": [
        "x = df[['sqft_living']]\n",
        "y = df['price']\n",
        "lm = LinearRegression()\n",
        "lm.fit(x,y)\n",
        "lm.score(x,y)"
      ],
      "metadata": {
        "colab": {
          "base_uri": "https://localhost:8080/"
        },
        "id": "1vJrTCecbnlF",
        "outputId": "6fa978df-c374-4661-ed29-51789ce127df"
      },
      "execution_count": null,
      "outputs": [
        {
          "output_type": "execute_result",
          "data": {
            "text/plain": [
              "0.4928532179037931"
            ]
          },
          "metadata": {},
          "execution_count": 41
        }
      ]
    },
    {
      "cell_type": "markdown",
      "source": [
        "### Question 7\n",
        "\n",
        "Fit a linear regression model to predict the <code>'price'</code> using the list of features:\n"
      ],
      "metadata": {
        "id": "6vh8R8aUbnlG"
      }
    },
    {
      "cell_type": "code",
      "source": [
        "features =[\"floors\", \"waterfront\",\"lat\" ,\"bedrooms\" ,\"sqft_basement\" ,\"view\" ,\"bathrooms\",\"sqft_living15\",\"sqft_above\",\"grade\",\"sqft_living\"]"
      ],
      "metadata": {
        "id": "0sRQ_OjLbnlG"
      },
      "execution_count": null,
      "outputs": []
    },
    {
      "cell_type": "markdown",
      "source": [
        "Then calculate the R^2. Take a screenshot of your code.\n"
      ],
      "metadata": {
        "id": "WOFjo9pVbnlH"
      }
    },
    {
      "cell_type": "code",
      "source": [
        "lm.fit(df[[\"floors\", \"waterfront\",\"lat\" ,\"bedrooms\" ,\"sqft_basement\" ,\"view\" ,\"bathrooms\",\"sqft_living15\",\"sqft_above\",\"grade\",\"sqft_living\"]],df[\"price\"])\n",
        "lm.score(df[[\"floors\", \"waterfront\",\"lat\" ,\"bedrooms\" ,\"sqft_basement\" ,\"view\" ,\"bathrooms\",\"sqft_living15\",\"sqft_above\",\"grade\",\"sqft_living\"]],df[\"price\"])"
      ],
      "metadata": {
        "colab": {
          "base_uri": "https://localhost:8080/"
        },
        "id": "E7mnaKnUbnlK",
        "outputId": "939d73f5-d699-4fe2-e873-dac27e9e582b"
      },
      "execution_count": null,
      "outputs": [
        {
          "output_type": "execute_result",
          "data": {
            "text/plain": [
              "0.6576722447699446"
            ]
          },
          "metadata": {},
          "execution_count": 54
        }
      ]
    },
    {
      "cell_type": "markdown",
      "source": [
        "### This will help with Question 8\n",
        "\n",
        "Create a list of tuples, the first element in the tuple contains the name of the estimator:\n",
        "\n",
        "<code>'scale'</code>\n",
        "\n",
        "<code>'polynomial'</code>\n",
        "\n",
        "<code>'model'</code>\n",
        "\n",
        "The second element in the tuple  contains the model constructor\n",
        "\n",
        "<code>StandardScaler()</code>\n",
        "\n",
        "<code>PolynomialFeatures(include_bias=False)</code>\n",
        "\n",
        "<code>LinearRegression()</code>\n"
      ],
      "metadata": {
        "id": "Bbf0zhVSbnlL"
      }
    },
    {
      "cell_type": "code",
      "source": [
        "Input=[('scale',StandardScaler()),('polynomial', PolynomialFeatures(include_bias=False)),('model',LinearRegression())]"
      ],
      "metadata": {
        "id": "S6N-p_69bnlL"
      },
      "execution_count": null,
      "outputs": []
    },
    {
      "cell_type": "markdown",
      "source": [
        "### Question 8\n",
        "\n",
        "Use the list to create a pipeline object to predict the 'price', fit the object using the features in the list <code>features</code>, and calculate the R^2.\n"
      ],
      "metadata": {
        "id": "Ayoyva1ZbnlM"
      }
    },
    {
      "cell_type": "code",
      "source": [
        "pipe = Pipeline(Input)\n",
        "pipe.fit(df[[\"floors\", \"waterfront\",\"lat\" ,\"bedrooms\" ,\"sqft_basement\" ,\"view\" ,\"bathrooms\",\"sqft_living15\",\"sqft_above\",\"grade\",\"sqft_living\"]],df[\"price\"])\n",
        "pipe.score(df[[\"floors\", \"waterfront\",\"lat\" ,\"bedrooms\" ,\"sqft_basement\" ,\"view\" ,\"bathrooms\",\"sqft_living15\",\"sqft_above\",\"grade\",\"sqft_living\"]],df[\"price\"])"
      ],
      "metadata": {
        "colab": {
          "base_uri": "https://localhost:8080/"
        },
        "id": "hfIIG-ogbnlN",
        "outputId": "88217304-8ad5-47dc-a27e-74e8854ff8be"
      },
      "execution_count": null,
      "outputs": [
        {
          "output_type": "execute_result",
          "data": {
            "text/plain": [
              "0.7513410648797747"
            ]
          },
          "metadata": {},
          "execution_count": 56
        }
      ]
    },
    {
      "cell_type": "markdown",
      "source": [
        "# Module 5: Model Evaluation and Refinement\n"
      ],
      "metadata": {
        "id": "m9lGnC3LbnlN"
      }
    },
    {
      "cell_type": "markdown",
      "source": [
        "Import the necessary modules:\n"
      ],
      "metadata": {
        "id": "fX5NWbcObnlO"
      }
    },
    {
      "cell_type": "code",
      "source": [
        "from sklearn.model_selection import cross_val_score\n",
        "from sklearn.model_selection import train_test_split\n",
        "print(\"done\")"
      ],
      "metadata": {
        "colab": {
          "base_uri": "https://localhost:8080/"
        },
        "id": "uIfvgBG7bnlO",
        "outputId": "709b3f6d-223f-4f10-d3d3-9b9c9d68b3be"
      },
      "execution_count": null,
      "outputs": [
        {
          "output_type": "stream",
          "name": "stdout",
          "text": [
            "done\n"
          ]
        }
      ]
    },
    {
      "cell_type": "markdown",
      "source": [
        "We will split the data into training and testing sets:\n"
      ],
      "metadata": {
        "id": "hgKYhZ0GbnlP"
      }
    },
    {
      "cell_type": "code",
      "source": [
        "features =[\"floors\", \"waterfront\",\"lat\" ,\"bedrooms\" ,\"sqft_basement\" ,\"view\" ,\"bathrooms\",\"sqft_living15\",\"sqft_above\",\"grade\",\"sqft_living\"]\n",
        "X = df[features]\n",
        "Y = df['price']\n",
        "\n",
        "x_train, x_test, y_train, y_test = train_test_split(X, Y, test_size=0.15, random_state=1)\n",
        "\n",
        "\n",
        "print(\"number of test samples:\", x_test.shape[0])\n",
        "print(\"number of training samples:\",x_train.shape[0])"
      ],
      "metadata": {
        "colab": {
          "base_uri": "https://localhost:8080/"
        },
        "id": "ljbT7Pw_bnlP",
        "outputId": "2c14209e-3411-48ed-eb11-149011ea3262"
      },
      "execution_count": null,
      "outputs": [
        {
          "output_type": "stream",
          "name": "stdout",
          "text": [
            "number of test samples: 3242\n",
            "number of training samples: 18371\n"
          ]
        }
      ]
    },
    {
      "cell_type": "markdown",
      "source": [
        "### Question 9\n",
        "\n",
        "Create and fit a Ridge regression object using the training data, set the regularization parameter to 0.1, and calculate the R^2 using the test data.\n"
      ],
      "metadata": {
        "id": "Gj_pR4VdbnlQ"
      }
    },
    {
      "cell_type": "code",
      "source": [
        "from sklearn.linear_model import Ridge"
      ],
      "metadata": {
        "id": "KNguVwhPbnlQ"
      },
      "execution_count": null,
      "outputs": []
    },
    {
      "cell_type": "code",
      "source": [
        "RigeModel = Ridge(alpha=0.1)\n",
        "RigeModel.fit(x_train, y_train)\n",
        "RigeModel.score(x_test, y_test)"
      ],
      "metadata": {
        "colab": {
          "base_uri": "https://localhost:8080/"
        },
        "id": "TlNvoj21bnlR",
        "outputId": "cc3c416f-6fe5-464b-a53b-9b37052b9de1"
      },
      "execution_count": null,
      "outputs": [
        {
          "output_type": "execute_result",
          "data": {
            "text/plain": [
              "0.6478759163939112"
            ]
          },
          "metadata": {},
          "execution_count": 60
        }
      ]
    },
    {
      "cell_type": "markdown",
      "source": [
        "### Question 10\n",
        "\n",
        "Perform a second order polynomial transform on both the training data and testing data. Create and fit a Ridge regression object using the training data, set the regularisation parameter to 0.1, and calculate the R^2 utilising the test data provided. Take a screenshot of your code and the R^2.\n"
      ],
      "metadata": {
        "id": "gnkTMng3bnlR"
      }
    },
    {
      "cell_type": "code",
      "source": [
        "pr=PolynomialFeatures(degree=2)\n",
        "x_train_pr=pr.fit_transform(x_train)\n",
        "x_test_pr=pr.fit_transform(x_test)\n",
        "RigeModel = Ridge(alpha=0.1)\n",
        "RigeModel.fit(x_train_pr, y_train)\n",
        "RigeModel.score(x_test_pr, y_test)"
      ],
      "metadata": {
        "colab": {
          "base_uri": "https://localhost:8080/"
        },
        "id": "2BZFKZQjbnlS",
        "outputId": "ae67f2c9-e6b6-449b-b9fd-f9fb51460fb4"
      },
      "execution_count": null,
      "outputs": [
        {
          "output_type": "execute_result",
          "data": {
            "text/plain": [
              "0.700274426790608"
            ]
          },
          "metadata": {},
          "execution_count": 61
        }
      ]
    },
 
